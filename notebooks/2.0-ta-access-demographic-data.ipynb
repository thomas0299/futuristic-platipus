{
 "cells": [
  {
   "cell_type": "markdown",
   "id": "fb96bc84",
   "metadata": {},
   "source": [
    "# Accessing Demographic Data\n",
    "- [Uganda Department of Statistics Website](https://www.ubos.org/)\n",
    "- [Dataset Repository](https://www.ubos.org/explore-statistics/0/)"
   ]
  },
  {
   "cell_type": "code",
   "execution_count": null,
   "id": "38d861ee",
   "metadata": {},
   "outputs": [],
   "source": [
    "#importing relevant packages\n",
    "%run /Users/thomasadler/Desktop/Capstone_Docs/packages.py"
   ]
  },
  {
   "cell_type": "markdown",
   "id": "aa9a684f",
   "metadata": {},
   "source": [
    "We have manually chosen the relevant columns from the Ugandan Statistics datasets for multiple reasons:\n",
    "\n",
    "\n",
    "- every region (4) has its own dataset, with inconsistent naming of columns and sheets\n",
    "- there are multiple sheets within each excel workbook, each with an inconsistent number of indexes\n",
    "- manually choosing an initial set of relevant variables is easier when visualizing the full names in an excel workbook and comparing those with other columns\n",
    "- the number of data points is manageable in excel and does not run the risk of the data being cut\n",
    "- minimal data processing has been carried out to avoid any mistakes"
   ]
  },
  {
   "cell_type": "code",
   "execution_count": null,
   "id": "d806984f",
   "metadata": {},
   "outputs": [],
   "source": [
    "#defining working directory\n",
    "filepath = '/Users/thomasadler/Desktop/Capstone_Docs/raw_demographic/'"
   ]
  },
  {
   "cell_type": "code",
   "execution_count": null,
   "id": "2d514732",
   "metadata": {},
   "outputs": [],
   "source": [
    "#defining our four regions\n",
    "regions_df = ['eastern', 'western', 'central', 'northern']"
   ]
  },
  {
   "cell_type": "code",
   "execution_count": null,
   "id": "d7e22e86",
   "metadata": {},
   "outputs": [],
   "source": [
    "#loading our four datasets\n",
    "eastern_df=pd.DataFrame(pd.read_excel(f'{filepath}{regions_df[0]}_demographic.xlsx'))\n",
    "western_df=pd.DataFrame(pd.read_excel(f'{filepath}{regions_df[1]}_demographic.xlsx'))\n",
    "central_df=pd.DataFrame(pd.read_excel(f'{filepath}{regions_df[2]}_demographic.xlsx'))\n",
    "northern_df=pd.DataFrame(pd.read_excel(f'{filepath}{regions_df[3]}_demographic.xlsx'))"
   ]
  },
  {
   "cell_type": "code",
   "execution_count": null,
   "id": "f3ab5840",
   "metadata": {},
   "outputs": [],
   "source": [
    "#defining our four regions datasets\n",
    "regions_df = [eastern_df, western_df, central_df, northern_df]"
   ]
  },
  {
   "cell_type": "code",
   "execution_count": null,
   "id": "c124efc5",
   "metadata": {},
   "outputs": [],
   "source": [
    "#joining all datasets on similar columns\n",
    "demographic = pd.concat(regions_df, axis=0)\n",
    "\n",
    "#check\n",
    "demographic.head()"
   ]
  },
  {
   "cell_type": "code",
   "execution_count": null,
   "id": "18f03775",
   "metadata": {},
   "outputs": [],
   "source": [
    "#keeping our raw dataset untouched\n",
    "total_demographic=demographic.copy()"
   ]
  },
  {
   "cell_type": "code",
   "execution_count": null,
   "id": "cf201de0",
   "metadata": {},
   "outputs": [],
   "source": [
    "#check\n",
    "total_demographic.head()"
   ]
  },
  {
   "cell_type": "code",
   "execution_count": null,
   "id": "d8a7bf03",
   "metadata": {},
   "outputs": [],
   "source": [
    "#check\n",
    "total_demographic.info()"
   ]
  },
  {
   "cell_type": "code",
   "execution_count": null,
   "id": "5adef2d5",
   "metadata": {},
   "outputs": [],
   "source": [
    "#check proportion of missing values\n",
    "total_demographic.isna().mean()"
   ]
  },
  {
   "cell_type": "markdown",
   "id": "49487560",
   "metadata": {},
   "source": [
    "We fill missing values of a parish by its subcounty average. Due to the low number of missing values, we assume that the average is a good representation of the subcounty's situation. "
   ]
  },
  {
   "cell_type": "code",
   "execution_count": null,
   "id": "48d31ef5",
   "metadata": {},
   "outputs": [],
   "source": [
    "#fill missing parish columns with subcounty average\n",
    "fill_columns=['perc_hh_temp_dwelling', 'perc_pop_5km_dist_primary', 'perc_hh_piped_water','perc_hh_borehole', 'perc_hh_toilet']\n",
    "\n",
    "for col in fill_columns:\n",
    "    total_demographic[col] = total_demographic[col].fillna(total_demographic.groupby('subcounty')[col].transform('mean'))"
   ]
  },
  {
   "cell_type": "code",
   "execution_count": null,
   "id": "e1080e67",
   "metadata": {},
   "outputs": [],
   "source": [
    "#check\n",
    "total_demographic.isna().sum()"
   ]
  },
  {
   "cell_type": "markdown",
   "id": "d1e28dbf",
   "metadata": {},
   "source": [
    "For those that still have missing values, due to the fact that the whole subcounty does not have values, we fill the missing values with the country's average."
   ]
  },
  {
   "cell_type": "code",
   "execution_count": null,
   "id": "214e884f",
   "metadata": {},
   "outputs": [],
   "source": [
    "#fill subsequent missing parish columns with country average\n",
    "fill_columns_2=['perc_hh_temp_dwelling', 'perc_hh_toilet']\n",
    "\n",
    "for col in fill_columns_2:\n",
    "    total_demographic[col] = total_demographic[col].fillna(total_demographic[col].mean())"
   ]
  },
  {
   "cell_type": "code",
   "execution_count": null,
   "id": "fd48272f",
   "metadata": {},
   "outputs": [],
   "source": [
    "#check no more null values\n",
    "total_demographic.isna().sum().sum()==0"
   ]
  },
  {
   "cell_type": "code",
   "execution_count": null,
   "id": "1707f009",
   "metadata": {},
   "outputs": [],
   "source": [
    "#check duplicated rows\n",
    "total_demographic.duplicated().sum()>0"
   ]
  },
  {
   "cell_type": "code",
   "execution_count": null,
   "id": "3bdccde3",
   "metadata": {},
   "outputs": [],
   "source": [
    "#check duplicated columns\n",
    "total_demographic.T.duplicated().sum()>0"
   ]
  },
  {
   "cell_type": "markdown",
   "id": "95d94b08",
   "metadata": {},
   "source": [
    "We have information for each parish, however we need data for each subcounty. We will use population as a proxy to calculate the weight of each parish in a subcounty. We then calculate a weighted average of parishes to get subcounty values."
   ]
  },
  {
   "cell_type": "code",
   "execution_count": null,
   "id": "ca45d3d5",
   "metadata": {},
   "outputs": [],
   "source": [
    "#calculate population for each subcounty\n",
    "tot_pop_subcounty=total_demographic[['subcounty','tot_pop_parish']].groupby('subcounty').sum()\n",
    "\n",
    "#rename column\n",
    "tot_pop_subcounty.columns = ['tot_pop_subcounty']\n",
    "\n",
    "#check\n",
    "tot_pop_subcounty"
   ]
  },
  {
   "cell_type": "code",
   "execution_count": null,
   "id": "6acf986a",
   "metadata": {},
   "outputs": [],
   "source": [
    "#add the subounty population to our main dataframe\n",
    "total_demographic=total_demographic.merge(tot_pop_subcounty, how='left', on='subcounty')\n",
    "\n",
    "#check\n",
    "total_demographic.head()"
   ]
  },
  {
   "cell_type": "code",
   "execution_count": null,
   "id": "81dc7700",
   "metadata": {},
   "outputs": [],
   "source": [
    "#calculate weight of parish in each subcounty\n",
    "total_demographic['weight']=total_demographic['tot_pop_parish']/total_demographic['tot_pop_subcounty']\n",
    "\n",
    "#check all weights equal to one\n",
    "total_demographic[['subcounty','weight']].groupby('subcounty').sum().sum()==len(total_demographic[['subcounty']].groupby('subcounty'))"
   ]
  },
  {
   "cell_type": "code",
   "execution_count": null,
   "id": "2af42d47",
   "metadata": {},
   "outputs": [],
   "source": [
    "#multiply all values by weight of the parish and update current dataframe\n",
    "total_demographic.iloc[:,2:-1]=total_demographic.iloc[:,2:-1].multiply(total_demographic['weight'], axis='index')\n",
    "\n",
    "#check\n",
    "total_demographic.head()"
   ]
  },
  {
   "cell_type": "code",
   "execution_count": null,
   "id": "3babbf46",
   "metadata": {},
   "outputs": [],
   "source": [
    "#collapse by subcounty, adding up all the weighted values, giving us a weighted average\n",
    "subcounty_demographic=total_demographic.groupby('subcounty').sum()\n",
    "\n",
    "#check that no column is more than 100 (except for population)\n",
    "subcounty_demographic.describe()"
   ]
  },
  {
   "cell_type": "code",
   "execution_count": null,
   "id": "257f59bd",
   "metadata": {},
   "outputs": [],
   "source": [
    "#making subcounty a column\n",
    "subcounty_demographic.reset_index(inplace=True)\n",
    "\n",
    "#check\n",
    "subcounty_demographic.head()"
   ]
  },
  {
   "cell_type": "code",
   "execution_count": null,
   "id": "529ba1e3",
   "metadata": {},
   "outputs": [],
   "source": [
    "#drop parish and weight columns as now irrelevant\n",
    "subcounty_demographic_clean=pd.DataFrame(subcounty_demographic.drop(columns=['weight', 'tot_pop_parish']))\n",
    "\n",
    "#check current columns\n",
    "subcounty_demographic_clean.info()"
   ]
  },
  {
   "cell_type": "code",
   "execution_count": null,
   "id": "ff6e0c8a",
   "metadata": {},
   "outputs": [],
   "source": [
    "#check column datatypes are in correct format\n",
    "subcounty_demographic_clean.info()"
   ]
  },
  {
   "cell_type": "code",
   "execution_count": null,
   "id": "b894e028",
   "metadata": {},
   "outputs": [],
   "source": [
    "#rechecking null values and duplicated columns\n",
    "print(subcounty_demographic_clean.isna().sum().sum()>0,\\\n",
    "      subcounty_demographic_clean.duplicated().sum()>0,\\\n",
    "      subcounty_demographic_clean.T.duplicated().sum()>0)"
   ]
  },
  {
   "cell_type": "code",
   "execution_count": null,
   "id": "47452a85",
   "metadata": {},
   "outputs": [],
   "source": [
    "#replacing column name to match other datasets\n",
    "subcounty_demographic_clean.rename(columns={'subcounty': 'clean_adm4'}, inplace=True)"
   ]
  },
  {
   "cell_type": "code",
   "execution_count": null,
   "id": "2fa89744",
   "metadata": {},
   "outputs": [],
   "source": [
    "#export to cleaned dataset to csv\n",
    "subcounty_demographic_clean.to_csv('/Users/thomasadler/Desktop/Capstone_Docs/subcounty_demographic_clean.csv')"
   ]
  }
 ],
 "metadata": {
  "kernelspec": {
   "display_name": "Python 3 (ipykernel)",
   "language": "python",
   "name": "python3"
  },
  "language_info": {
   "codemirror_mode": {
    "name": "ipython",
    "version": 3
   },
   "file_extension": ".py",
   "mimetype": "text/x-python",
   "name": "python",
   "nbconvert_exporter": "python",
   "pygments_lexer": "ipython3",
   "version": "3.9.12"
  },
  "toc": {
   "base_numbering": 1,
   "nav_menu": {},
   "number_sections": true,
   "sideBar": true,
   "skip_h1_title": false,
   "title_cell": "Table of Contents",
   "title_sidebar": "Contents",
   "toc_cell": false,
   "toc_position": {},
   "toc_section_display": true,
   "toc_window_display": false
  },
  "varInspector": {
   "cols": {
    "lenName": 16,
    "lenType": 16,
    "lenVar": 40
   },
   "kernels_config": {
    "python": {
     "delete_cmd_postfix": "",
     "delete_cmd_prefix": "del ",
     "library": "var_list.py",
     "varRefreshCmd": "print(var_dic_list())"
    },
    "r": {
     "delete_cmd_postfix": ") ",
     "delete_cmd_prefix": "rm(",
     "library": "var_list.r",
     "varRefreshCmd": "cat(var_dic_list()) "
    }
   },
   "types_to_exclude": [
    "module",
    "function",
    "builtin_function_or_method",
    "instance",
    "_Feature"
   ],
   "window_display": false
  }
 },
 "nbformat": 4,
 "nbformat_minor": 5
}
