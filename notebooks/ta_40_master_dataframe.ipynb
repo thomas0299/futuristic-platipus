{
 "cells": [
  {
   "cell_type": "markdown",
   "id": "77df9bbb",
   "metadata": {},
   "source": [
    "# Master Dataframe\n",
    "\n",
    "We will be combining our water, conflict and demographic data into one master dataframe to be readily used for analysis and modelling."
   ]
  },
  {
   "cell_type": "code",
   "execution_count": 4,
   "id": "7d9750af",
   "metadata": {},
   "outputs": [],
   "source": [
    "#importing relevant packages\n",
    "%run /Users/thomasadler/Desktop/futuristic-platipus/notebooks/ta_01_packages.py"
   ]
  },
  {
   "cell_type": "code",
   "execution_count": 5,
   "id": "329be719",
   "metadata": {},
   "outputs": [],
   "source": [
    "# import useful functions\n",
    "%run /Users/thomasadler/Desktop/futuristic-platipus/notebooks/ta_02_functions.py"
   ]
  },
  {
   "cell_type": "code",
   "execution_count": 6,
   "id": "b9af3265",
   "metadata": {},
   "outputs": [],
   "source": [
    "#defining working directory\n",
    "filepath = '/Users/thomasadler/Desktop/capstone_docs/'"
   ]
  },
  {
   "cell_type": "markdown",
   "id": "d99029f7",
   "metadata": {
    "heading_collapsed": true
   },
   "source": [
    "## Loading datasets"
   ]
  },
  {
   "cell_type": "code",
   "execution_count": 8,
   "id": "4fe25194",
   "metadata": {
    "hidden": true
   },
   "outputs": [
    {
     "name": "stdout",
     "output_type": "stream",
     "text": [
      "<class 'pandas.core.frame.DataFrame'>\n",
      "RangeIndex: 108257 entries, 0 to 108256\n",
      "Data columns (total 36 columns):\n",
      " #   Column                     Non-Null Count   Dtype  \n",
      "---  ------                     --------------   -----  \n",
      " 0   Unnamed: 0                 108257 non-null  int64  \n",
      " 1   row_id                     108257 non-null  int64  \n",
      " 2   source                     108257 non-null  object \n",
      " 3   lat_deg                    108257 non-null  float64\n",
      " 4   lon_deg                    108257 non-null  float64\n",
      " 5   report_date                108257 non-null  object \n",
      " 6   status_id                  108257 non-null  int64  \n",
      " 7   facility_type              108257 non-null  object \n",
      " 8   clean_country_name         108257 non-null  object \n",
      " 9   clean_adm1                 108257 non-null  object \n",
      " 10  clean_adm2                 108257 non-null  object \n",
      " 11  clean_adm3                 108257 non-null  object \n",
      " 12  clean_adm4                 108257 non-null  object \n",
      " 13  distance_to_primary        108257 non-null  float64\n",
      " 14  distance_to_secondary      108257 non-null  float64\n",
      " 15  distance_to_tertiary       108257 non-null  float64\n",
      " 16  distance_to_city           108257 non-null  float64\n",
      " 17  distance_to_town           108257 non-null  float64\n",
      " 18  usage_cap                  108257 non-null  float64\n",
      " 19  staleness_score            108257 non-null  float64\n",
      " 20  is_latest                  108257 non-null  int64  \n",
      " 21  location_id                108257 non-null  int64  \n",
      " 22  cluster_size               108257 non-null  float64\n",
      " 23  new_georeferenced_column_  108257 non-null  object \n",
      " 24  lat_lon_deg                108257 non-null  object \n",
      " 25  count                      108257 non-null  float64\n",
      " 26  water_source_clean         91014 non-null   object \n",
      " 27  water_source_category      91014 non-null   object \n",
      " 28  wpdx_id                    107227 non-null  object \n",
      " 29  install_year               88820 non-null   object \n",
      " 30  management_clean           91632 non-null   object \n",
      " 31  status_clean               88765 non-null   object \n",
      " 32  served_population          108257 non-null  float64\n",
      " 33  local_population           108257 non-null  float64\n",
      " 34  crucialness                108257 non-null  float64\n",
      " 35  pressure                   108257 non-null  float64\n",
      "dtypes: float64(15), int64(5), object(16)\n",
      "memory usage: 29.7+ MB\n"
     ]
    }
   ],
   "source": [
    "#water points\n",
    "water_df=pd.read_csv(filepath + 'uganda_water_df_clean.csv')\n",
    "\n",
    "#check\n",
    "water_df.info()"
   ]
  },
  {
   "cell_type": "code",
   "execution_count": 10,
   "id": "33236557",
   "metadata": {
    "hidden": true
   },
   "outputs": [
    {
     "name": "stdout",
     "output_type": "stream",
     "text": [
      "<class 'pandas.core.frame.DataFrame'>\n",
      "RangeIndex: 7793 entries, 0 to 7792\n",
      "Data columns (total 22 columns):\n",
      " #   Column          Non-Null Count  Dtype  \n",
      "---  ------          --------------  -----  \n",
      " 0   Unnamed: 0      7793 non-null   int64  \n",
      " 1   data_id         7793 non-null   int64  \n",
      " 2   event_date      7793 non-null   object \n",
      " 3   event_type      7793 non-null   object \n",
      " 4   sub_event_type  7793 non-null   object \n",
      " 5   actor1          7793 non-null   object \n",
      " 6   assoc_actor_1   1920 non-null   object \n",
      " 7   inter1          7793 non-null   int64  \n",
      " 8   actor2          6551 non-null   object \n",
      " 9   assoc_actor_2   1647 non-null   object \n",
      " 10  inter2          7793 non-null   int64  \n",
      " 11  interaction     7793 non-null   int64  \n",
      " 12  clean_adm1      7793 non-null   object \n",
      " 13  clean_adm2      7793 non-null   object \n",
      " 14  clean_adm3      7793 non-null   object \n",
      " 15  clean_adm4      7793 non-null   object \n",
      " 16  latitude        7793 non-null   float64\n",
      " 17  longitude       7793 non-null   float64\n",
      " 18  source          7793 non-null   object \n",
      " 19  source_scale    7793 non-null   object \n",
      " 20  notes           7711 non-null   object \n",
      " 21  fatalities      7793 non-null   float64\n",
      "dtypes: float64(3), int64(5), object(14)\n",
      "memory usage: 1.3+ MB\n"
     ]
    }
   ],
   "source": [
    "#conflict events\n",
    "conflict_df=pd.read_csv(filepath +'uganda_conflict_df_clean.csv')\n",
    "\n",
    "#check\n",
    "conflict_df.info()"
   ]
  },
  {
   "cell_type": "code",
   "execution_count": 9,
   "id": "ecce62dd",
   "metadata": {
    "hidden": true
   },
   "outputs": [
    {
     "name": "stdout",
     "output_type": "stream",
     "text": [
      "<class 'pandas.core.frame.DataFrame'>\n",
      "RangeIndex: 1382 entries, 0 to 1381\n",
      "Data columns (total 29 columns):\n",
      " #   Column                       Non-Null Count  Dtype  \n",
      "---  ------                       --------------  -----  \n",
      " 0   Unnamed: 0                   1382 non-null   int64  \n",
      " 1   clean_adm4                   1382 non-null   object \n",
      " 2   perc_hh_head_male            1382 non-null   float64\n",
      " 3   perc_pop612_primary          1382 non-null   float64\n",
      " 4   perc_pop1318_secondary       1382 non-null   float64\n",
      " 5   perc_pop18p_illiterate       1382 non-null   float64\n",
      " 6   perc_pop017_certificate      1382 non-null   float64\n",
      " 7   perc_pop017_both_parents     1382 non-null   float64\n",
      " 8   perc_pop2p_disability        1382 non-null   float64\n",
      " 9   perc_pop1017_married         1382 non-null   float64\n",
      " 10  perc_pop1217_birth           1382 non-null   float64\n",
      " 11  perc_pop1464_working         1382 non-null   float64\n",
      " 12  perc_pop10p_mobile_phone     1382 non-null   float64\n",
      " 13  perc_hh_temp_dwelling        1382 non-null   float64\n",
      " 14  perc_pop_5km_dist_primary    1382 non-null   float64\n",
      " 15  perc_pop_5km_dist_secondary  1382 non-null   float64\n",
      " 16  perc_pop_5km_dist_health     1382 non-null   float64\n",
      " 17  perc_pop_5km_dist_police     1382 non-null   float64\n",
      " 18  perc_hh_mosquito_net         1382 non-null   float64\n",
      " 19  perc_hh_piped_water          1382 non-null   float64\n",
      " 20  perc_hh_borehole             1382 non-null   float64\n",
      " 21  perc_hh_toilet               1382 non-null   float64\n",
      " 22  perc_hh_own_house            1382 non-null   float64\n",
      " 23  perc_hh_own_tv               1382 non-null   float64\n",
      " 24  perc_hh_bank_acc             1382 non-null   float64\n",
      " 25  perc_hh_subs_farm            1382 non-null   float64\n",
      " 26  perc_hh_less2meals           1382 non-null   float64\n",
      " 27  perc_hh_electricity          1382 non-null   float64\n",
      " 28  tot_pop_subcounty            1382 non-null   float64\n",
      "dtypes: float64(27), int64(1), object(1)\n",
      "memory usage: 313.2+ KB\n"
     ]
    }
   ],
   "source": [
    "#demographic variables\n",
    "demographic_df=pd.read_csv(filepath +'subcounty_demographic_clean.csv')\n",
    "\n",
    "#check\n",
    "demographic_df.info()"
   ]
  },
  {
   "cell_type": "markdown",
   "id": "26157082",
   "metadata": {
    "heading_collapsed": true
   },
   "source": [
    "## Merge datasets\n",
    "\n",
    "We want to get demographic information for each water point at its most local level."
   ]
  },
  {
   "cell_type": "code",
   "execution_count": 17,
   "id": "3db68bd3",
   "metadata": {
    "hidden": true
   },
   "outputs": [
    {
     "name": "stdout",
     "output_type": "stream",
     "text": [
      "<class 'pandas.core.frame.DataFrame'>\n",
      "Int64Index: 108257 entries, 0 to 108256\n",
      "Data columns (total 66 columns):\n",
      " #   Column                       Non-Null Count   Dtype  \n",
      "---  ------                       --------------   -----  \n",
      " 0   key_0                        108257 non-null  object \n",
      " 1   Unnamed: 0_x                 108257 non-null  int64  \n",
      " 2   row_id                       108257 non-null  int64  \n",
      " 3   source                       108257 non-null  object \n",
      " 4   lat_deg                      108257 non-null  float64\n",
      " 5   lon_deg                      108257 non-null  float64\n",
      " 6   report_date                  108257 non-null  object \n",
      " 7   status_id                    108257 non-null  int64  \n",
      " 8   facility_type                108257 non-null  object \n",
      " 9   clean_country_name           108257 non-null  object \n",
      " 10  clean_adm1                   108257 non-null  object \n",
      " 11  clean_adm2                   108257 non-null  object \n",
      " 12  clean_adm3                   108257 non-null  object \n",
      " 13  clean_adm4_x                 108257 non-null  object \n",
      " 14  distance_to_primary          108257 non-null  float64\n",
      " 15  distance_to_secondary        108257 non-null  float64\n",
      " 16  distance_to_tertiary         108257 non-null  float64\n",
      " 17  distance_to_city             108257 non-null  float64\n",
      " 18  distance_to_town             108257 non-null  float64\n",
      " 19  usage_cap                    108257 non-null  float64\n",
      " 20  staleness_score              108257 non-null  float64\n",
      " 21  is_latest                    108257 non-null  int64  \n",
      " 22  location_id                  108257 non-null  int64  \n",
      " 23  cluster_size                 108257 non-null  float64\n",
      " 24  new_georeferenced_column_    108257 non-null  object \n",
      " 25  lat_lon_deg                  108257 non-null  object \n",
      " 26  count                        108257 non-null  float64\n",
      " 27  water_source_clean           91014 non-null   object \n",
      " 28  water_source_category        91014 non-null   object \n",
      " 29  wpdx_id                      107227 non-null  object \n",
      " 30  install_year                 88820 non-null   object \n",
      " 31  management_clean             91632 non-null   object \n",
      " 32  status_clean                 88765 non-null   object \n",
      " 33  served_population            108257 non-null  float64\n",
      " 34  local_population             108257 non-null  float64\n",
      " 35  crucialness                  108257 non-null  float64\n",
      " 36  pressure                     108257 non-null  float64\n",
      " 37  Unnamed: 0_y                 103952 non-null  float64\n",
      " 38  clean_adm4_y                 103952 non-null  object \n",
      " 39  perc_hh_head_male            103952 non-null  float64\n",
      " 40  perc_pop612_primary          103952 non-null  float64\n",
      " 41  perc_pop1318_secondary       103952 non-null  float64\n",
      " 42  perc_pop18p_illiterate       103952 non-null  float64\n",
      " 43  perc_pop017_certificate      103952 non-null  float64\n",
      " 44  perc_pop017_both_parents     103952 non-null  float64\n",
      " 45  perc_pop2p_disability        103952 non-null  float64\n",
      " 46  perc_pop1017_married         103952 non-null  float64\n",
      " 47  perc_pop1217_birth           103952 non-null  float64\n",
      " 48  perc_pop1464_working         103952 non-null  float64\n",
      " 49  perc_pop10p_mobile_phone     103952 non-null  float64\n",
      " 50  perc_hh_temp_dwelling        103952 non-null  float64\n",
      " 51  perc_pop_5km_dist_primary    103952 non-null  float64\n",
      " 52  perc_pop_5km_dist_secondary  103952 non-null  float64\n",
      " 53  perc_pop_5km_dist_health     103952 non-null  float64\n",
      " 54  perc_pop_5km_dist_police     103952 non-null  float64\n",
      " 55  perc_hh_mosquito_net         103952 non-null  float64\n",
      " 56  perc_hh_piped_water          103952 non-null  float64\n",
      " 57  perc_hh_borehole             103952 non-null  float64\n",
      " 58  perc_hh_toilet               103952 non-null  float64\n",
      " 59  perc_hh_own_house            103952 non-null  float64\n",
      " 60  perc_hh_own_tv               103952 non-null  float64\n",
      " 61  perc_hh_bank_acc             103952 non-null  float64\n",
      " 62  perc_hh_subs_farm            103952 non-null  float64\n",
      " 63  perc_hh_less2meals           103952 non-null  float64\n",
      " 64  perc_hh_electricity          103952 non-null  float64\n",
      " 65  tot_pop_subcounty            103952 non-null  float64\n",
      "dtypes: float64(43), int64(5), object(18)\n",
      "memory usage: 55.3+ MB\n"
     ]
    }
   ],
   "source": [
    "#merge water dataset with demographic dataset\n",
    "master_df=pd.merge(water_df, demographic_df, how='left',\\\n",
    "                               left_on=water_df['clean_adm4'],\\\n",
    "                               right_on=demographic_df['clean_adm4'])\n",
    "\n",
    "#check\n",
    "master_df.info()"
   ]
  },
  {
   "cell_type": "code",
   "execution_count": 28,
   "id": "ced7a4ec",
   "metadata": {
    "hidden": true
   },
   "outputs": [
    {
     "data": {
      "text/html": [
       "<div>\n",
       "<style scoped>\n",
       "    .dataframe tbody tr th:only-of-type {\n",
       "        vertical-align: middle;\n",
       "    }\n",
       "\n",
       "    .dataframe tbody tr th {\n",
       "        vertical-align: top;\n",
       "    }\n",
       "\n",
       "    .dataframe thead th {\n",
       "        text-align: right;\n",
       "    }\n",
       "</style>\n",
       "<table border=\"1\" class=\"dataframe\">\n",
       "  <thead>\n",
       "    <tr style=\"text-align: right;\">\n",
       "      <th></th>\n",
       "      <th>key_0</th>\n",
       "      <th>Unnamed: 0_x</th>\n",
       "      <th>row_id</th>\n",
       "      <th>source</th>\n",
       "      <th>lat_deg</th>\n",
       "      <th>lon_deg</th>\n",
       "      <th>report_date</th>\n",
       "      <th>status_id</th>\n",
       "      <th>facility_type</th>\n",
       "      <th>clean_country_name</th>\n",
       "      <th>...</th>\n",
       "      <th>perc_hh_own_house</th>\n",
       "      <th>perc_hh_own_tv</th>\n",
       "      <th>perc_hh_bank_acc</th>\n",
       "      <th>perc_hh_subs_farm</th>\n",
       "      <th>perc_hh_less2meals</th>\n",
       "      <th>perc_hh_electricity</th>\n",
       "      <th>tot_pop_subcounty</th>\n",
       "      <th>report_year</th>\n",
       "      <th>report_month</th>\n",
       "      <th>report_year_month</th>\n",
       "    </tr>\n",
       "  </thead>\n",
       "  <tbody>\n",
       "    <tr>\n",
       "      <th>0</th>\n",
       "      <td>Kabambiro</td>\n",
       "      <td>0</td>\n",
       "      <td>651231</td>\n",
       "      <td>Water For People</td>\n",
       "      <td>0.158537</td>\n",
       "      <td>30.490643</td>\n",
       "      <td>2005-09-07</td>\n",
       "      <td>1</td>\n",
       "      <td>Improved</td>\n",
       "      <td>Uganda</td>\n",
       "      <td>...</td>\n",
       "      <td>87.942373</td>\n",
       "      <td>1.249238</td>\n",
       "      <td>10.259377</td>\n",
       "      <td>91.358551</td>\n",
       "      <td>4.212975</td>\n",
       "      <td>4.461754</td>\n",
       "      <td>15484.0</td>\n",
       "      <td>2005</td>\n",
       "      <td>9</td>\n",
       "      <td>2005-9</td>\n",
       "    </tr>\n",
       "    <tr>\n",
       "      <th>1</th>\n",
       "      <td>Nyabbani</td>\n",
       "      <td>1</td>\n",
       "      <td>652323</td>\n",
       "      <td>Water For People</td>\n",
       "      <td>0.070597</td>\n",
       "      <td>30.415651</td>\n",
       "      <td>2005-09-07</td>\n",
       "      <td>1</td>\n",
       "      <td>Improved</td>\n",
       "      <td>Uganda</td>\n",
       "      <td>...</td>\n",
       "      <td>88.482012</td>\n",
       "      <td>2.614604</td>\n",
       "      <td>14.573029</td>\n",
       "      <td>92.319897</td>\n",
       "      <td>4.458575</td>\n",
       "      <td>7.565426</td>\n",
       "      <td>21953.0</td>\n",
       "      <td>2005</td>\n",
       "      <td>9</td>\n",
       "      <td>2005-9</td>\n",
       "    </tr>\n",
       "    <tr>\n",
       "      <th>2</th>\n",
       "      <td>Kabambiro</td>\n",
       "      <td>2</td>\n",
       "      <td>654375</td>\n",
       "      <td>Water For People</td>\n",
       "      <td>0.158667</td>\n",
       "      <td>30.490551</td>\n",
       "      <td>2005-09-07</td>\n",
       "      <td>1</td>\n",
       "      <td>Improved</td>\n",
       "      <td>Uganda</td>\n",
       "      <td>...</td>\n",
       "      <td>87.942373</td>\n",
       "      <td>1.249238</td>\n",
       "      <td>10.259377</td>\n",
       "      <td>91.358551</td>\n",
       "      <td>4.212975</td>\n",
       "      <td>4.461754</td>\n",
       "      <td>15484.0</td>\n",
       "      <td>2005</td>\n",
       "      <td>9</td>\n",
       "      <td>2005-9</td>\n",
       "    </tr>\n",
       "    <tr>\n",
       "      <th>3</th>\n",
       "      <td>Kamwenge</td>\n",
       "      <td>3</td>\n",
       "      <td>654822</td>\n",
       "      <td>Water For People</td>\n",
       "      <td>0.208128</td>\n",
       "      <td>30.386393</td>\n",
       "      <td>2005-09-07</td>\n",
       "      <td>1</td>\n",
       "      <td>Improved</td>\n",
       "      <td>Uganda</td>\n",
       "      <td>...</td>\n",
       "      <td>87.243217</td>\n",
       "      <td>2.055043</td>\n",
       "      <td>12.522317</td>\n",
       "      <td>91.411940</td>\n",
       "      <td>3.893017</td>\n",
       "      <td>5.780841</td>\n",
       "      <td>22010.0</td>\n",
       "      <td>2005</td>\n",
       "      <td>9</td>\n",
       "      <td>2005-9</td>\n",
       "    </tr>\n",
       "    <tr>\n",
       "      <th>4</th>\n",
       "      <td>Kicheche</td>\n",
       "      <td>4</td>\n",
       "      <td>660256</td>\n",
       "      <td>Water For People</td>\n",
       "      <td>-0.134680</td>\n",
       "      <td>30.351593</td>\n",
       "      <td>2005-09-07</td>\n",
       "      <td>1</td>\n",
       "      <td>Improved</td>\n",
       "      <td>Uganda</td>\n",
       "      <td>...</td>\n",
       "      <td>89.721699</td>\n",
       "      <td>4.054211</td>\n",
       "      <td>20.201299</td>\n",
       "      <td>87.522511</td>\n",
       "      <td>4.271490</td>\n",
       "      <td>9.606041</td>\n",
       "      <td>26338.0</td>\n",
       "      <td>2005</td>\n",
       "      <td>9</td>\n",
       "      <td>2005-9</td>\n",
       "    </tr>\n",
       "  </tbody>\n",
       "</table>\n",
       "<p>5 rows × 69 columns</p>\n",
       "</div>"
      ],
      "text/plain": [
       "       key_0  Unnamed: 0_x  row_id            source   lat_deg    lon_deg  \\\n",
       "0  Kabambiro             0  651231  Water For People  0.158537  30.490643   \n",
       "1   Nyabbani             1  652323  Water For People  0.070597  30.415651   \n",
       "2  Kabambiro             2  654375  Water For People  0.158667  30.490551   \n",
       "3   Kamwenge             3  654822  Water For People  0.208128  30.386393   \n",
       "4   Kicheche             4  660256  Water For People -0.134680  30.351593   \n",
       "\n",
       "  report_date  status_id facility_type clean_country_name  ...  \\\n",
       "0  2005-09-07          1      Improved             Uganda  ...   \n",
       "1  2005-09-07          1      Improved             Uganda  ...   \n",
       "2  2005-09-07          1      Improved             Uganda  ...   \n",
       "3  2005-09-07          1      Improved             Uganda  ...   \n",
       "4  2005-09-07          1      Improved             Uganda  ...   \n",
       "\n",
       "  perc_hh_own_house perc_hh_own_tv perc_hh_bank_acc perc_hh_subs_farm  \\\n",
       "0         87.942373       1.249238        10.259377         91.358551   \n",
       "1         88.482012       2.614604        14.573029         92.319897   \n",
       "2         87.942373       1.249238        10.259377         91.358551   \n",
       "3         87.243217       2.055043        12.522317         91.411940   \n",
       "4         89.721699       4.054211        20.201299         87.522511   \n",
       "\n",
       "   perc_hh_less2meals  perc_hh_electricity  tot_pop_subcounty  report_year  \\\n",
       "0            4.212975             4.461754            15484.0         2005   \n",
       "1            4.458575             7.565426            21953.0         2005   \n",
       "2            4.212975             4.461754            15484.0         2005   \n",
       "3            3.893017             5.780841            22010.0         2005   \n",
       "4            4.271490             9.606041            26338.0         2005   \n",
       "\n",
       "   report_month  report_year_month  \n",
       "0             9             2005-9  \n",
       "1             9             2005-9  \n",
       "2             9             2005-9  \n",
       "3             9             2005-9  \n",
       "4             9             2005-9  \n",
       "\n",
       "[5 rows x 69 columns]"
      ]
     },
     "execution_count": 28,
     "metadata": {},
     "output_type": "execute_result"
    }
   ],
   "source": [
    "# convert to datetime\n",
    "date_converter(master_df, 'report_date')\n",
    "\n",
    "#create new columns for month and year\n",
    "master_df['report_year']=master_df['report_date'].dt.year\n",
    "master_df['report_month']=master_df['report_date'].dt.month\n",
    "master_df['report_year_month']= master_df['report_year'].map(str) + '-' + master_df['report_month'].map(str)\n",
    "\n",
    "# check\n",
    "master_df.head()"
   ]
  },
  {
   "cell_type": "code",
   "execution_count": 29,
   "id": "59c4dc4d",
   "metadata": {
    "hidden": true
   },
   "outputs": [],
   "source": [
    "#for each adm4/year/month, get number of fatalities/events in last year, last 5/10/20"
   ]
  },
  {
   "cell_type": "code",
   "execution_count": null,
   "id": "d7b037a7",
   "metadata": {
    "hidden": true
   },
   "outputs": [],
   "source": []
  },
  {
   "cell_type": "code",
   "execution_count": null,
   "id": "5b4c6a3b",
   "metadata": {
    "hidden": true
   },
   "outputs": [],
   "source": [
    "#merge master and conflict"
   ]
  },
  {
   "cell_type": "code",
   "execution_count": null,
   "id": "c19f1006",
   "metadata": {
    "hidden": true
   },
   "outputs": [],
   "source": []
  },
  {
   "cell_type": "markdown",
   "id": "8f577140",
   "metadata": {
    "heading_collapsed": true
   },
   "source": [
    "## Clean data"
   ]
  },
  {
   "cell_type": "code",
   "execution_count": null,
   "id": "437d6cf1",
   "metadata": {
    "hidden": true
   },
   "outputs": [],
   "source": [
    "#duplicates 2x, null, types, column names, drop columns"
   ]
  },
  {
   "cell_type": "markdown",
   "id": "35109044",
   "metadata": {
    "heading_collapsed": true
   },
   "source": [
    "## EDA"
   ]
  },
  {
   "cell_type": "code",
   "execution_count": null,
   "id": "7e105c58",
   "metadata": {
    "hidden": true
   },
   "outputs": [],
   "source": [
    "#outcome is water functioning"
   ]
  },
  {
   "cell_type": "code",
   "execution_count": null,
   "id": "7d483c1a",
   "metadata": {
    "hidden": true
   },
   "outputs": [],
   "source": [
    "#data dictionary"
   ]
  }
 ],
 "metadata": {
  "kernelspec": {
   "display_name": "Python 3 (ipykernel)",
   "language": "python",
   "name": "python3"
  },
  "language_info": {
   "codemirror_mode": {
    "name": "ipython",
    "version": 3
   },
   "file_extension": ".py",
   "mimetype": "text/x-python",
   "name": "python",
   "nbconvert_exporter": "python",
   "pygments_lexer": "ipython3",
   "version": "3.9.12"
  },
  "toc": {
   "base_numbering": 1,
   "nav_menu": {},
   "number_sections": true,
   "sideBar": true,
   "skip_h1_title": false,
   "title_cell": "Table of Contents",
   "title_sidebar": "Contents",
   "toc_cell": false,
   "toc_position": {},
   "toc_section_display": true,
   "toc_window_display": false
  },
  "varInspector": {
   "cols": {
    "lenName": 16,
    "lenType": 16,
    "lenVar": 40
   },
   "kernels_config": {
    "python": {
     "delete_cmd_postfix": "",
     "delete_cmd_prefix": "del ",
     "library": "var_list.py",
     "varRefreshCmd": "print(var_dic_list())"
    },
    "r": {
     "delete_cmd_postfix": ") ",
     "delete_cmd_prefix": "rm(",
     "library": "var_list.r",
     "varRefreshCmd": "cat(var_dic_list()) "
    }
   },
   "types_to_exclude": [
    "module",
    "function",
    "builtin_function_or_method",
    "instance",
    "_Feature"
   ],
   "window_display": false
  }
 },
 "nbformat": 4,
 "nbformat_minor": 5
}
