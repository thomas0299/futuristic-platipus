{
 "cells": [
  {
   "cell_type": "markdown",
   "metadata": {},
   "source": [
    "# WPDx Comparison"
   ]
  },
  {
   "cell_type": "code",
   "execution_count": 1,
   "metadata": {},
   "outputs": [],
   "source": [
    "# importing relevant packages\n",
    "%run /Users/thomasadler/Desktop/futuristic-platipus/notebooks/ta_01_packages.py"
   ]
  },
  {
   "cell_type": "code",
   "execution_count": 2,
   "metadata": {},
   "outputs": [],
   "source": [
    "# import useful functions\n",
    "%run /Users/thomasadler/Desktop/futuristic-platipus/notebooks/ta_02_functions.py"
   ]
  },
  {
   "cell_type": "code",
   "execution_count": 3,
   "metadata": {},
   "outputs": [],
   "source": [
    "# fetching hidden api key from desktop stored under 'water_api_key'\n",
    "%run /Users/thomasadler/Desktop/futuristic-platipus/keys.py"
   ]
  },
  {
   "cell_type": "code",
   "execution_count": 4,
   "metadata": {},
   "outputs": [],
   "source": [
    "# defining working directory\n",
    "filepath = '/Users/thomasadler/Desktop/futuristic-platipus/data/'"
   ]
  },
  {
   "cell_type": "code",
   "execution_count": 5,
   "metadata": {},
   "outputs": [
    {
     "name": "stderr",
     "output_type": "stream",
     "text": [
      "WARNING:root:Requests made without an app_token will be subject to strict throttling limits.\n"
     ]
    }
   ],
   "source": [
    "# setting API endpoint, dataset, key and client profile\n",
    "socrata_domain = 'data.waterpointdata.org'\n",
    "socrata_dataset_identifier = '9pn9-g5u4'\n",
    "socrata_token = os.environ.get(water_api_key)\n",
    "client = Socrata(socrata_domain, socrata_token, timeout=10)"
   ]
  },
  {
   "cell_type": "code",
   "execution_count": 15,
   "metadata": {},
   "outputs": [],
   "source": [
    "# creating query to fetch Uganda water points, all columns included\n",
    "water_uganda_query = \"\"\"\n",
    "select\n",
    "    *\n",
    "limit\n",
    "    200000\n",
    "\"\"\""
   ]
  },
  {
   "cell_type": "code",
   "execution_count": 17,
   "metadata": {},
   "outputs": [],
   "source": [
    "# query dataset and store in dataframe\n",
    "results = client.get(socrata_dataset_identifier, query=water_uganda_query)\n",
    "wpdx_prediction_df_raw = pd.DataFrame.from_records(results)"
   ]
  },
  {
   "cell_type": "code",
   "execution_count": 18,
   "metadata": {},
   "outputs": [],
   "source": [
    "# keep raw dataset untouched\n",
    "wpdx_prediction_df = wpdx_prediction_df_raw.copy()"
   ]
  },
  {
   "cell_type": "code",
   "execution_count": 19,
   "metadata": {},
   "outputs": [
    {
     "data": {
      "text/html": [
       "<div>\n",
       "<style scoped>\n",
       "    .dataframe tbody tr th:only-of-type {\n",
       "        vertical-align: middle;\n",
       "    }\n",
       "\n",
       "    .dataframe tbody tr th {\n",
       "        vertical-align: top;\n",
       "    }\n",
       "\n",
       "    .dataframe thead th {\n",
       "        text-align: right;\n",
       "    }\n",
       "</style>\n",
       "<table border=\"1\" class=\"dataframe\">\n",
       "  <thead>\n",
       "    <tr style=\"text-align: right;\">\n",
       "      <th></th>\n",
       "      <th>row_id</th>\n",
       "      <th>country_name</th>\n",
       "      <th>status_id</th>\n",
       "      <th>management</th>\n",
       "      <th>install_year</th>\n",
       "      <th>age</th>\n",
       "      <th>source</th>\n",
       "      <th>adm1</th>\n",
       "      <th>adm2</th>\n",
       "      <th>wpdx_id</th>\n",
       "      <th>...</th>\n",
       "      <th>location</th>\n",
       "      <th>count</th>\n",
       "      <th>notes</th>\n",
       "      <th>prediction</th>\n",
       "      <th>prediction_level</th>\n",
       "      <th>geocoded_column</th>\n",
       "      <th>:@computed_region_7zzf_xi3x</th>\n",
       "      <th>water_source</th>\n",
       "      <th>pay</th>\n",
       "      <th>water_tech</th>\n",
       "    </tr>\n",
       "  </thead>\n",
       "  <tbody>\n",
       "    <tr>\n",
       "      <th>0</th>\n",
       "      <td>212904</td>\n",
       "      <td>Uganda</td>\n",
       "      <td>True</td>\n",
       "      <td>Community Management</td>\n",
       "      <td>2000</td>\n",
       "      <td>9</td>\n",
       "      <td>Ministry of Water and Environment, Uganda</td>\n",
       "      <td>APAC</td>\n",
       "      <td>KWANIA</td>\n",
       "      <td>wpdx-00212904</td>\n",
       "      <td>...</td>\n",
       "      <td>(1.85898, 32.5605)</td>\n",
       "      <td>1</td>\n",
       "      <td>Village=AJAR</td>\n",
       "      <td>0.775195278</td>\n",
       "      <td>Low Risk</td>\n",
       "      <td>{'type': 'Point', 'coordinates': [32.5605, 1.8...</td>\n",
       "      <td>164</td>\n",
       "      <td>NaN</td>\n",
       "      <td>NaN</td>\n",
       "      <td>NaN</td>\n",
       "    </tr>\n",
       "    <tr>\n",
       "      <th>1</th>\n",
       "      <td>223181</td>\n",
       "      <td>Uganda</td>\n",
       "      <td>True</td>\n",
       "      <td>Community Management</td>\n",
       "      <td>NaN</td>\n",
       "      <td>NaN</td>\n",
       "      <td>Ministry of Water and Environment, Uganda</td>\n",
       "      <td>KOTIDO</td>\n",
       "      <td>JIE</td>\n",
       "      <td>wpdx-00223181</td>\n",
       "      <td>...</td>\n",
       "      <td>(2.99382, 34.1998)</td>\n",
       "      <td>1</td>\n",
       "      <td>Village=LORIU</td>\n",
       "      <td>0.744118007</td>\n",
       "      <td>Low Risk</td>\n",
       "      <td>{'type': 'Point', 'coordinates': [34.1998, 2.9...</td>\n",
       "      <td>164</td>\n",
       "      <td>Dam</td>\n",
       "      <td>NaN</td>\n",
       "      <td>NaN</td>\n",
       "    </tr>\n",
       "    <tr>\n",
       "      <th>2</th>\n",
       "      <td>203413</td>\n",
       "      <td>Uganda</td>\n",
       "      <td>True</td>\n",
       "      <td>Community Management</td>\n",
       "      <td>2009</td>\n",
       "      <td>0</td>\n",
       "      <td>Ministry of Water and Environment, Uganda</td>\n",
       "      <td>ARUA</td>\n",
       "      <td>AYIVU</td>\n",
       "      <td>wpdx-00203413</td>\n",
       "      <td>...</td>\n",
       "      <td>(3.0963, 30.9006)</td>\n",
       "      <td>1</td>\n",
       "      <td>Village=OMI</td>\n",
       "      <td>0.531849859</td>\n",
       "      <td>Medium Risk</td>\n",
       "      <td>{'type': 'Point', 'coordinates': [30.9006, 3.0...</td>\n",
       "      <td>164</td>\n",
       "      <td>Shallow well</td>\n",
       "      <td>NaN</td>\n",
       "      <td>NaN</td>\n",
       "    </tr>\n",
       "    <tr>\n",
       "      <th>3</th>\n",
       "      <td>203353</td>\n",
       "      <td>Uganda</td>\n",
       "      <td>True</td>\n",
       "      <td>Community Management</td>\n",
       "      <td>1987</td>\n",
       "      <td>22</td>\n",
       "      <td>Ministry of Water and Environment, Uganda</td>\n",
       "      <td>ARUA</td>\n",
       "      <td>AYIVU</td>\n",
       "      <td>wpdx-00203353</td>\n",
       "      <td>...</td>\n",
       "      <td>(3.0128, 30.8331)</td>\n",
       "      <td>1</td>\n",
       "      <td>Village=ANDRU</td>\n",
       "      <td>0.641468187</td>\n",
       "      <td>Medium Risk</td>\n",
       "      <td>{'type': 'Point', 'coordinates': [30.8331, 3.0...</td>\n",
       "      <td>164</td>\n",
       "      <td>Protected spring</td>\n",
       "      <td>NaN</td>\n",
       "      <td>NaN</td>\n",
       "    </tr>\n",
       "    <tr>\n",
       "      <th>4</th>\n",
       "      <td>203801</td>\n",
       "      <td>Uganda</td>\n",
       "      <td>True</td>\n",
       "      <td>Community Management</td>\n",
       "      <td>2006</td>\n",
       "      <td>3</td>\n",
       "      <td>Ministry of Water and Environment, Uganda</td>\n",
       "      <td>ARUA</td>\n",
       "      <td>AYIVU</td>\n",
       "      <td>wpdx-00203801</td>\n",
       "      <td>...</td>\n",
       "      <td>(2.986, 30.9401)</td>\n",
       "      <td>1</td>\n",
       "      <td>Village=Ogayi</td>\n",
       "      <td>0.839493928</td>\n",
       "      <td>Low Risk</td>\n",
       "      <td>{'type': 'Point', 'coordinates': [30.9401, 2.9...</td>\n",
       "      <td>164</td>\n",
       "      <td>Protected spring</td>\n",
       "      <td>NaN</td>\n",
       "      <td>NaN</td>\n",
       "    </tr>\n",
       "  </tbody>\n",
       "</table>\n",
       "<p>5 rows × 27 columns</p>\n",
       "</div>"
      ],
      "text/plain": [
       "   row_id country_name  status_id            management install_year  age  \\\n",
       "0  212904       Uganda       True  Community Management         2000    9   \n",
       "1  223181       Uganda       True  Community Management          NaN  NaN   \n",
       "2  203413       Uganda       True  Community Management         2009    0   \n",
       "3  203353       Uganda       True  Community Management         1987   22   \n",
       "4  203801       Uganda       True  Community Management         2006    3   \n",
       "\n",
       "                                      source    adm1    adm2        wpdx_id  \\\n",
       "0  Ministry of Water and Environment, Uganda    APAC  KWANIA  wpdx-00212904   \n",
       "1  Ministry of Water and Environment, Uganda  KOTIDO     JIE  wpdx-00223181   \n",
       "2  Ministry of Water and Environment, Uganda    ARUA   AYIVU  wpdx-00203413   \n",
       "3  Ministry of Water and Environment, Uganda    ARUA   AYIVU  wpdx-00203353   \n",
       "4  Ministry of Water and Environment, Uganda    ARUA   AYIVU  wpdx-00203801   \n",
       "\n",
       "   ...            location count          notes   prediction prediction_level  \\\n",
       "0  ...  (1.85898, 32.5605)     1   Village=AJAR  0.775195278         Low Risk   \n",
       "1  ...  (2.99382, 34.1998)     1  Village=LORIU  0.744118007         Low Risk   \n",
       "2  ...   (3.0963, 30.9006)     1    Village=OMI  0.531849859      Medium Risk   \n",
       "3  ...   (3.0128, 30.8331)     1  Village=ANDRU  0.641468187      Medium Risk   \n",
       "4  ...    (2.986, 30.9401)     1  Village=Ogayi  0.839493928         Low Risk   \n",
       "\n",
       "                                     geocoded_column  \\\n",
       "0  {'type': 'Point', 'coordinates': [32.5605, 1.8...   \n",
       "1  {'type': 'Point', 'coordinates': [34.1998, 2.9...   \n",
       "2  {'type': 'Point', 'coordinates': [30.9006, 3.0...   \n",
       "3  {'type': 'Point', 'coordinates': [30.8331, 3.0...   \n",
       "4  {'type': 'Point', 'coordinates': [30.9401, 2.9...   \n",
       "\n",
       "  :@computed_region_7zzf_xi3x      water_source  pay water_tech  \n",
       "0                         164               NaN  NaN        NaN  \n",
       "1                         164               Dam  NaN        NaN  \n",
       "2                         164      Shallow well  NaN        NaN  \n",
       "3                         164  Protected spring  NaN        NaN  \n",
       "4                         164  Protected spring  NaN        NaN  \n",
       "\n",
       "[5 rows x 27 columns]"
      ]
     },
     "execution_count": 19,
     "metadata": {},
     "output_type": "execute_result"
    }
   ],
   "source": [
    "# short look at data\n",
    "wpdx_prediction_df.head()"
   ]
  },
  {
   "cell_type": "code",
   "execution_count": 20,
   "metadata": {},
   "outputs": [
    {
     "name": "stdout",
     "output_type": "stream",
     "text": [
      "<class 'pandas.core.frame.DataFrame'>\n",
      "RangeIndex: 97268 entries, 0 to 97267\n",
      "Data columns (total 27 columns):\n",
      " #   Column                       Non-Null Count  Dtype \n",
      "---  ------                       --------------  ----- \n",
      " 0   row_id                       97268 non-null  object\n",
      " 1   country_name                 97268 non-null  object\n",
      " 2   status_id                    97268 non-null  bool  \n",
      " 3   management                   97268 non-null  object\n",
      " 4   install_year                 92790 non-null  object\n",
      " 5   age                          92790 non-null  object\n",
      " 6   source                       97268 non-null  object\n",
      " 7   adm1                         97268 non-null  object\n",
      " 8   adm2                         97268 non-null  object\n",
      " 9   wpdx_id                      97268 non-null  object\n",
      " 10  report_date                  97268 non-null  object\n",
      " 11  country_id                   97268 non-null  object\n",
      " 12  activity_id                  97268 non-null  object\n",
      " 13  data_lnk                     97268 non-null  object\n",
      " 14  converted                    97268 non-null  object\n",
      " 15  lat_deg                      97268 non-null  object\n",
      " 16  lon_deg                      97268 non-null  object\n",
      " 17  location                     97268 non-null  object\n",
      " 18  count                        97268 non-null  object\n",
      " 19  notes                        97268 non-null  object\n",
      " 20  prediction                   97268 non-null  object\n",
      " 21  prediction_level             97268 non-null  object\n",
      " 22  geocoded_column              97268 non-null  object\n",
      " 23  :@computed_region_7zzf_xi3x  97268 non-null  object\n",
      " 24  water_source                 82630 non-null  object\n",
      " 25  pay                          37540 non-null  object\n",
      " 26  water_tech                   14097 non-null  object\n",
      "dtypes: bool(1), object(26)\n",
      "memory usage: 19.4+ MB\n"
     ]
    }
   ],
   "source": [
    "# looking at column datatypes\n",
    "wpdx_prediction_df.info()"
   ]
  },
  {
   "cell_type": "code",
   "execution_count": 22,
   "metadata": {},
   "outputs": [
    {
     "name": "stdout",
     "output_type": "stream",
     "text": [
      "<class 'pandas.core.frame.DataFrame'>\n",
      "RangeIndex: 97268 entries, 0 to 97267\n",
      "Data columns (total 10 columns):\n",
      " #   Column            Non-Null Count  Dtype \n",
      "---  ------            --------------  ----- \n",
      " 0   row_id            97268 non-null  object\n",
      " 1   wpdx_id           97268 non-null  object\n",
      " 2   status_id         97268 non-null  bool  \n",
      " 3   adm1              97268 non-null  object\n",
      " 4   adm2              97268 non-null  object\n",
      " 5   lat_deg           97268 non-null  object\n",
      " 6   lon_deg           97268 non-null  object\n",
      " 7   location          97268 non-null  object\n",
      " 8   prediction        97268 non-null  object\n",
      " 9   prediction_level  97268 non-null  object\n",
      "dtypes: bool(1), object(9)\n",
      "memory usage: 6.8+ MB\n"
     ]
    }
   ],
   "source": [
    "#choosing relevant columns\n",
    "wpdx_prediction_df=wpdx_prediction_df[['row_id', 'wpdx_id', 'status_id', 'adm1', 'adm2', 'lat_deg', 'lon_deg', 'location', 'prediction', 'prediction_level' ]]\n",
    "\n",
    "#check\n",
    "wpdx_prediction_df.info()"
   ]
  },
  {
   "cell_type": "code",
   "execution_count": 23,
   "metadata": {},
   "outputs": [
    {
     "data": {
      "text/plain": [
       "0"
      ]
     },
     "execution_count": 23,
     "metadata": {},
     "output_type": "execute_result"
    }
   ],
   "source": [
    "#checking missing values\n",
    "wpdx_prediction_df.isna().sum().sum()"
   ]
  },
  {
   "cell_type": "code",
   "execution_count": 24,
   "metadata": {},
   "outputs": [
    {
     "name": "stdout",
     "output_type": "stream",
     "text": [
      "Dataset has 0 duplicated rows and 0 duplicated columns\n"
     ]
    }
   ],
   "source": [
    "#checking duplicates\n",
    "print(f\"Dataset has {wpdx_prediction_df.duplicated().sum()} duplicated rows and {wpdx_prediction_df.T.duplicated().sum()} duplicated columns\")"
   ]
  },
  {
   "cell_type": "code",
   "execution_count": 25,
   "metadata": {},
   "outputs": [
    {
     "name": "stdout",
     "output_type": "stream",
     "text": [
      "<class 'pandas.core.frame.DataFrame'>\n",
      "RangeIndex: 97268 entries, 0 to 97267\n",
      "Data columns (total 10 columns):\n",
      " #   Column            Non-Null Count  Dtype  \n",
      "---  ------            --------------  -----  \n",
      " 0   row_id            97268 non-null  object \n",
      " 1   wpdx_id           97268 non-null  object \n",
      " 2   status_id         97268 non-null  bool   \n",
      " 3   adm1              97268 non-null  object \n",
      " 4   adm2              97268 non-null  object \n",
      " 5   lat_deg           97268 non-null  float32\n",
      " 6   lon_deg           97268 non-null  float32\n",
      " 7   location          97268 non-null  object \n",
      " 8   prediction        97268 non-null  float32\n",
      " 9   prediction_level  97268 non-null  object \n",
      "dtypes: bool(1), float32(3), object(6)\n",
      "memory usage: 5.7+ MB\n"
     ]
    }
   ],
   "source": [
    "# convert to number\n",
    "for col in ['lat_deg', 'lon_deg', 'prediction']:\n",
    "    float_converter(wpdx_prediction_df, col)\n",
    "\n",
    "# check\n",
    "wpdx_prediction_df.info()"
   ]
  },
  {
   "cell_type": "code",
   "execution_count": 26,
   "metadata": {},
   "outputs": [
    {
     "name": "stdout",
     "output_type": "stream",
     "text": [
      "<class 'pandas.core.frame.DataFrame'>\n",
      "RangeIndex: 97268 entries, 0 to 97267\n",
      "Data columns (total 10 columns):\n",
      " #   Column            Non-Null Count  Dtype  \n",
      "---  ------            --------------  -----  \n",
      " 0   row_id            97268 non-null  object \n",
      " 1   wpdx_id           97268 non-null  object \n",
      " 2   status_id         97268 non-null  int64  \n",
      " 3   adm1              97268 non-null  object \n",
      " 4   adm2              97268 non-null  object \n",
      " 5   lat_deg           97268 non-null  float32\n",
      " 6   lon_deg           97268 non-null  float32\n",
      " 7   location          97268 non-null  object \n",
      " 8   prediction        97268 non-null  float32\n",
      " 9   prediction_level  97268 non-null  object \n",
      "dtypes: float32(3), int64(1), object(6)\n",
      "memory usage: 6.3+ MB\n"
     ]
    }
   ],
   "source": [
    "# convert to binary\n",
    "wpdx_prediction_df['status_id'] = wpdx_prediction_df['status_id'].map({\n",
    "    True:\n",
    "    1,\n",
    "    False:\n",
    "    0\n",
    "})\n",
    "\n",
    "# check\n",
    "wpdx_prediction_df.info()"
   ]
  },
  {
   "cell_type": "code",
   "execution_count": 27,
   "metadata": {},
   "outputs": [
    {
     "data": {
      "text/plain": [
       "0    0.224805\n",
       "1    0.255882\n",
       "2    0.468150\n",
       "3    0.358532\n",
       "4    0.160506\n",
       "Name: status_prediction, dtype: float64"
      ]
     },
     "execution_count": 27,
     "metadata": {},
     "output_type": "execute_result"
    }
   ],
   "source": [
    "#create new column\n",
    "wpdx_prediction_df['status_prediction']=wpdx_prediction_df['status_id']-wpdx_prediction_df['prediction']\n",
    "\n",
    "#check\n",
    "wpdx_prediction_df['status_prediction'].head()"
   ]
  }
 ],
 "metadata": {
  "kernelspec": {
   "display_name": "Python 3.9.12 ('base')",
   "language": "python",
   "name": "python3"
  },
  "language_info": {
   "codemirror_mode": {
    "name": "ipython",
    "version": 3
   },
   "file_extension": ".py",
   "mimetype": "text/x-python",
   "name": "python",
   "nbconvert_exporter": "python",
   "pygments_lexer": "ipython3",
   "version": "3.9.12"
  },
  "orig_nbformat": 4,
  "vscode": {
   "interpreter": {
    "hash": "c6ceada7ab5ee6fcd72b8e8137f72bc53b2192058ef32f401c30586b94eefb2e"
   }
  }
 },
 "nbformat": 4,
 "nbformat_minor": 2
}
