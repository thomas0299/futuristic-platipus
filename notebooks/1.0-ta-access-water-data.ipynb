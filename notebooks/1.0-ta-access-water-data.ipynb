{
 "cells": [
  {
   "cell_type": "markdown",
   "metadata": {},
   "source": [
    "# Accessing Water Data\n",
    "- [Water Point Data Exchange Website](https://www.waterpointdata.org/)\n",
    "- [API Guide and Dictionary](https://dev.socrata.com/foundry/data.waterpointdata.org/eqje-vguj)\n",
    "- [Documentation](https://www.waterpointdata.org/docs/WPdx_User_Guide.pdf)"
   ]
  },
  {
   "cell_type": "code",
   "execution_count": 5,
   "metadata": {},
   "outputs": [],
   "source": [
    "#importing relevant packages\n",
    "%run /Users/thomasadler/Desktop/futuristic-platipus/notebooks/0-ta-packages.py"
   ]
  },
  {
   "cell_type": "code",
   "execution_count": 6,
   "metadata": {},
   "outputs": [],
   "source": [
    "#fetching hidden api key from desktop stored under 'water_api_key'\n",
    "%run /Users/thomasadler/Desktop/futuristic-platipus/keys.py"
   ]
  },
  {
   "cell_type": "code",
   "execution_count": 7,
   "metadata": {},
   "outputs": [],
   "source": [
    "#defining working directory\n",
    "filepath = '/Users/thomasadler/Desktop/capstone_docs/'"
   ]
  },
  {
   "cell_type": "code",
   "execution_count": 8,
   "metadata": {},
   "outputs": [
    {
     "name": "stderr",
     "output_type": "stream",
     "text": [
      "WARNING:root:Requests made without an app_token will be subject to strict throttling limits.\n"
     ]
    }
   ],
   "source": [
    "#setting API endpoint, dataset, key and client profile\n",
    "socrata_domain = 'data.waterpointdata.org'\n",
    "socrata_dataset_identifier = 'eqje-vguj'\n",
    "socrata_token = os.environ.get(water_api_key)\n",
    "client = Socrata(socrata_domain, socrata_token, timeout=10)"
   ]
  },
  {
   "cell_type": "markdown",
   "metadata": {},
   "source": [
    "The goal is to access every water point recorded in Uganda and their associated information."
   ]
  },
  {
   "cell_type": "code",
   "execution_count": 9,
   "metadata": {},
   "outputs": [],
   "source": [
    "#creating query to fetch Uganda water points, all columns included\n",
    "water_uganda_query = \"\"\"\n",
    "select\n",
    "    *\n",
    "where\n",
    "    clean_country_name = 'Uganda'\n",
    "limit\n",
    "    200000\n",
    "\"\"\""
   ]
  },
  {
   "cell_type": "code",
   "execution_count": 10,
   "metadata": {},
   "outputs": [],
   "source": [
    "#query dataset and store in dataframe\n",
    "results = client.get(socrata_dataset_identifier, query=water_uganda_query)\n",
    "water_df = pd.DataFrame.from_records(results)"
   ]
  },
  {
   "cell_type": "code",
   "execution_count": 24,
   "metadata": {},
   "outputs": [],
   "source": [
    "#keep raw dataset untouched\n",
    "uganda_water_df=water_df.copy()"
   ]
  },
  {
   "cell_type": "code",
   "execution_count": 25,
   "metadata": {},
   "outputs": [
    {
     "data": {
      "text/html": [
       "<div>\n",
       "<style scoped>\n",
       "    .dataframe tbody tr th:only-of-type {\n",
       "        vertical-align: middle;\n",
       "    }\n",
       "\n",
       "    .dataframe tbody tr th {\n",
       "        vertical-align: top;\n",
       "    }\n",
       "\n",
       "    .dataframe thead th {\n",
       "        text-align: right;\n",
       "    }\n",
       "</style>\n",
       "<table border=\"1\" class=\"dataframe\">\n",
       "  <thead>\n",
       "    <tr style=\"text-align: right;\">\n",
       "      <th></th>\n",
       "      <th>row_id</th>\n",
       "      <th>source</th>\n",
       "      <th>lat_deg</th>\n",
       "      <th>lon_deg</th>\n",
       "      <th>report_date</th>\n",
       "      <th>status_id</th>\n",
       "      <th>water_tech_clean</th>\n",
       "      <th>_water_tech_category</th>\n",
       "      <th>facility_type</th>\n",
       "      <th>clean_country_name</th>\n",
       "      <th>...</th>\n",
       "      <th>notes</th>\n",
       "      <th>rehab_priority</th>\n",
       "      <th>photo_lnk</th>\n",
       "      <th>lat_deg_original</th>\n",
       "      <th>lon_deg_original</th>\n",
       "      <th>fecal_coliform_presence</th>\n",
       "      <th>pay</th>\n",
       "      <th>scheme_id</th>\n",
       "      <th>orig_lnk</th>\n",
       "      <th>fecal_coliform_value</th>\n",
       "    </tr>\n",
       "  </thead>\n",
       "  <tbody>\n",
       "    <tr>\n",
       "      <th>108252</th>\n",
       "      <td>270292</td>\n",
       "      <td>youthmappers</td>\n",
       "      <td>2.8520073</td>\n",
       "      <td>32.3231249</td>\n",
       "      <td>2022-05-18T00:00:00.000</td>\n",
       "      <td>Yes</td>\n",
       "      <td>Hand Pump</td>\n",
       "      <td>Hand Pump</td>\n",
       "      <td>Improved</td>\n",
       "      <td>Uganda</td>\n",
       "      <td>...</td>\n",
       "      <td>ngom_rom</td>\n",
       "      <td>NaN</td>\n",
       "      <td>NaN</td>\n",
       "      <td>NaN</td>\n",
       "      <td>NaN</td>\n",
       "      <td>NaN</td>\n",
       "      <td>no</td>\n",
       "      <td>NaN</td>\n",
       "      <td>NaN</td>\n",
       "      <td>NaN</td>\n",
       "    </tr>\n",
       "    <tr>\n",
       "      <th>108253</th>\n",
       "      <td>421099</td>\n",
       "      <td>Water4</td>\n",
       "      <td>0.783063923</td>\n",
       "      <td>33.426149078</td>\n",
       "      <td>2022-04-27T00:00:00.000</td>\n",
       "      <td>Unknown</td>\n",
       "      <td>NaN</td>\n",
       "      <td>NaN</td>\n",
       "      <td>Improved</td>\n",
       "      <td>Uganda</td>\n",
       "      <td>...</td>\n",
       "      <td>NaN</td>\n",
       "      <td>176</td>\n",
       "      <td>https://api.mwater.co/v3/images/e6a1c51282e440...</td>\n",
       "      <td>NaN</td>\n",
       "      <td>NaN</td>\n",
       "      <td>NaN</td>\n",
       "      <td>NaN</td>\n",
       "      <td>NaN</td>\n",
       "      <td>NaN</td>\n",
       "      <td>NaN</td>\n",
       "    </tr>\n",
       "    <tr>\n",
       "      <th>108254</th>\n",
       "      <td>269987</td>\n",
       "      <td>youthmappers</td>\n",
       "      <td>2.8824498</td>\n",
       "      <td>32.2743901</td>\n",
       "      <td>2022-05-23T00:00:00.000</td>\n",
       "      <td>Yes</td>\n",
       "      <td>Hand Pump</td>\n",
       "      <td>Hand Pump</td>\n",
       "      <td>Improved</td>\n",
       "      <td>Uganda</td>\n",
       "      <td>...</td>\n",
       "      <td>ayac</td>\n",
       "      <td>NaN</td>\n",
       "      <td>NaN</td>\n",
       "      <td>NaN</td>\n",
       "      <td>NaN</td>\n",
       "      <td>NaN</td>\n",
       "      <td>yes</td>\n",
       "      <td>NaN</td>\n",
       "      <td>NaN</td>\n",
       "      <td>NaN</td>\n",
       "    </tr>\n",
       "    <tr>\n",
       "      <th>108255</th>\n",
       "      <td>270258</td>\n",
       "      <td>youthmappers</td>\n",
       "      <td>2.7894498</td>\n",
       "      <td>32.3490701</td>\n",
       "      <td>2022-05-19T00:00:00.000</td>\n",
       "      <td>Yes</td>\n",
       "      <td>Tapstand</td>\n",
       "      <td>Tapstand</td>\n",
       "      <td>Improved</td>\n",
       "      <td>Uganda</td>\n",
       "      <td>...</td>\n",
       "      <td>gulu_ptc</td>\n",
       "      <td>NaN</td>\n",
       "      <td>NaN</td>\n",
       "      <td>NaN</td>\n",
       "      <td>NaN</td>\n",
       "      <td>NaN</td>\n",
       "      <td>yes</td>\n",
       "      <td>NaN</td>\n",
       "      <td>NaN</td>\n",
       "      <td>NaN</td>\n",
       "    </tr>\n",
       "    <tr>\n",
       "      <th>108256</th>\n",
       "      <td>419716</td>\n",
       "      <td>Water4</td>\n",
       "      <td>0.784164132</td>\n",
       "      <td>33.516908912</td>\n",
       "      <td>2022-06-17T00:00:00.000</td>\n",
       "      <td>Yes</td>\n",
       "      <td>NaN</td>\n",
       "      <td>NaN</td>\n",
       "      <td>Improved</td>\n",
       "      <td>Uganda</td>\n",
       "      <td>...</td>\n",
       "      <td>NaN</td>\n",
       "      <td>88</td>\n",
       "      <td>https://api.mwater.co/v3/images/6617ff9975f349...</td>\n",
       "      <td>NaN</td>\n",
       "      <td>NaN</td>\n",
       "      <td>NaN</td>\n",
       "      <td>NaN</td>\n",
       "      <td>NaN</td>\n",
       "      <td>NaN</td>\n",
       "      <td>NaN</td>\n",
       "    </tr>\n",
       "  </tbody>\n",
       "</table>\n",
       "<p>5 rows × 67 columns</p>\n",
       "</div>"
      ],
      "text/plain": [
       "        row_id        source      lat_deg       lon_deg  \\\n",
       "108252  270292  youthmappers    2.8520073    32.3231249   \n",
       "108253  421099        Water4  0.783063923  33.426149078   \n",
       "108254  269987  youthmappers    2.8824498    32.2743901   \n",
       "108255  270258  youthmappers    2.7894498    32.3490701   \n",
       "108256  419716        Water4  0.784164132  33.516908912   \n",
       "\n",
       "                    report_date status_id water_tech_clean  \\\n",
       "108252  2022-05-18T00:00:00.000       Yes        Hand Pump   \n",
       "108253  2022-04-27T00:00:00.000   Unknown              NaN   \n",
       "108254  2022-05-23T00:00:00.000       Yes        Hand Pump   \n",
       "108255  2022-05-19T00:00:00.000       Yes         Tapstand   \n",
       "108256  2022-06-17T00:00:00.000       Yes              NaN   \n",
       "\n",
       "       _water_tech_category facility_type clean_country_name  ...     notes  \\\n",
       "108252            Hand Pump      Improved             Uganda  ...  ngom_rom   \n",
       "108253                  NaN      Improved             Uganda  ...       NaN   \n",
       "108254            Hand Pump      Improved             Uganda  ...      ayac   \n",
       "108255             Tapstand      Improved             Uganda  ...  gulu_ptc   \n",
       "108256                  NaN      Improved             Uganda  ...       NaN   \n",
       "\n",
       "       rehab_priority                                          photo_lnk  \\\n",
       "108252            NaN                                                NaN   \n",
       "108253            176  https://api.mwater.co/v3/images/e6a1c51282e440...   \n",
       "108254            NaN                                                NaN   \n",
       "108255            NaN                                                NaN   \n",
       "108256             88  https://api.mwater.co/v3/images/6617ff9975f349...   \n",
       "\n",
       "       lat_deg_original lon_deg_original fecal_coliform_presence  pay  \\\n",
       "108252              NaN              NaN                     NaN   no   \n",
       "108253              NaN              NaN                     NaN  NaN   \n",
       "108254              NaN              NaN                     NaN  yes   \n",
       "108255              NaN              NaN                     NaN  yes   \n",
       "108256              NaN              NaN                     NaN  NaN   \n",
       "\n",
       "       scheme_id orig_lnk fecal_coliform_value  \n",
       "108252       NaN      NaN                  NaN  \n",
       "108253       NaN      NaN                  NaN  \n",
       "108254       NaN      NaN                  NaN  \n",
       "108255       NaN      NaN                  NaN  \n",
       "108256       NaN      NaN                  NaN  \n",
       "\n",
       "[5 rows x 67 columns]"
      ]
     },
     "execution_count": 25,
     "metadata": {},
     "output_type": "execute_result"
    }
   ],
   "source": [
    "#short look at data\n",
    "uganda_water_df.tail()"
   ]
  },
  {
   "cell_type": "code",
   "execution_count": 15,
   "metadata": {},
   "outputs": [
    {
     "name": "stdout",
     "output_type": "stream",
     "text": [
      "<class 'pandas.core.frame.DataFrame'>\n",
      "RangeIndex: 108257 entries, 0 to 108256\n",
      "Data columns (total 67 columns):\n",
      " #   Column                     Non-Null Count   Dtype \n",
      "---  ------                     --------------   ----- \n",
      " 0   row_id                     108257 non-null  object\n",
      " 1   source                     108257 non-null  object\n",
      " 2   lat_deg                    108257 non-null  object\n",
      " 3   lon_deg                    108257 non-null  object\n",
      " 4   report_date                108257 non-null  object\n",
      " 5   status_id                  108257 non-null  object\n",
      " 6   water_tech_clean           25659 non-null   object\n",
      " 7   _water_tech_category       25659 non-null   object\n",
      " 8   facility_type              108257 non-null  object\n",
      " 9   clean_country_name         108257 non-null  object\n",
      " 10  clean_adm1                 108257 non-null  object\n",
      " 11  clean_adm2                 108257 non-null  object\n",
      " 12  clean_adm3                 108257 non-null  object\n",
      " 13  clean_adm4                 108257 non-null  object\n",
      " 14  country_id                 107877 non-null  object\n",
      " 15  data_lnk                   108257 non-null  object\n",
      " 16  distance_to_primary        108257 non-null  object\n",
      " 17  distance_to_secondary      108257 non-null  object\n",
      " 18  distance_to_tertiary       108257 non-null  object\n",
      " 19  distance_to_city           108257 non-null  object\n",
      " 20  distance_to_town           108257 non-null  object\n",
      " 21  usage_cap                  108236 non-null  object\n",
      " 22  is_urban                   108257 non-null  object\n",
      " 23  days_since_report          108257 non-null  object\n",
      " 24  staleness_score            108257 non-null  object\n",
      " 25  is_latest                  108257 non-null  bool  \n",
      " 26  location_id                108257 non-null  object\n",
      " 27  cluster_size               108257 non-null  object\n",
      " 28  clean_country_id           108257 non-null  object\n",
      " 29  country_name               107877 non-null  object\n",
      " 30  water_tech                 13648 non-null   object\n",
      " 31  status                     94166 non-null   object\n",
      " 32  adm2                       100984 non-null  object\n",
      " 33  adm3                       10644 non-null   object\n",
      " 34  adm1                       100657 non-null  object\n",
      " 35  new_georeferenced_column_  108257 non-null  object\n",
      " 36  lat_lon_deg                108257 non-null  object\n",
      " 37  public_data_source         108257 non-null  object\n",
      " 38  count                      108257 non-null  object\n",
      " 39  created_timestamp          108257 non-null  object\n",
      " 40  updated                    108257 non-null  object\n",
      " 41  water_source_clean         91014 non-null   object\n",
      " 42  water_source_category      91014 non-null   object\n",
      " 43  wpdx_id                    107227 non-null  object\n",
      " 44  install_year               88820 non-null   object\n",
      " 45  management_clean           91632 non-null   object\n",
      " 46  status_clean               88765 non-null   object\n",
      " 47  activity_id                90491 non-null   object\n",
      " 48  water_source               103407 non-null  object\n",
      " 49  management                 91768 non-null   object\n",
      " 50  converted                  88262 non-null   object\n",
      " 51  installer                  4638 non-null    object\n",
      " 52  served_population          89022 non-null   object\n",
      " 53  local_population           89022 non-null   object\n",
      " 54  crucialness                79473 non-null   object\n",
      " 55  pressure                   79473 non-null   object\n",
      " 56  subjective_quality         3732 non-null    object\n",
      " 57  notes                      10401 non-null   object\n",
      " 58  rehab_priority             18191 non-null   object\n",
      " 59  photo_lnk                  4416 non-null    object\n",
      " 60  lat_deg_original           1468 non-null    object\n",
      " 61  lon_deg_original           1468 non-null    object\n",
      " 62  fecal_coliform_presence    1310 non-null    object\n",
      " 63  pay                        37274 non-null   object\n",
      " 64  scheme_id                  11303 non-null   object\n",
      " 65  orig_lnk                   1364 non-null    object\n",
      " 66  fecal_coliform_value       213 non-null     object\n",
      "dtypes: bool(1), object(66)\n",
      "memory usage: 54.6+ MB\n"
     ]
    }
   ],
   "source": [
    "#looking at column datatypes\n",
    "uganda_water_df.info()"
   ]
  },
  {
   "cell_type": "markdown",
   "metadata": {},
   "source": [
    "We exclude columns which have already been cleaned by the WPD team and stored in another \"clean\" column. We also exclude columns with links and urls. "
   ]
  },
  {
   "cell_type": "code",
   "execution_count": 26,
   "metadata": {},
   "outputs": [
    {
     "data": {
      "text/plain": [
       "Index(['row_id', 'source', 'lat_deg', 'lon_deg', 'report_date', 'status_id',\n",
       "       'water_tech_clean', '_water_tech_category', 'facility_type',\n",
       "       'clean_country_name', 'clean_adm1', 'clean_adm2', 'clean_adm3',\n",
       "       'clean_adm4', 'distance_to_primary', 'distance_to_secondary',\n",
       "       'distance_to_tertiary', 'distance_to_city', 'distance_to_town',\n",
       "       'usage_cap', 'is_urban', 'staleness_score', 'is_latest', 'location_id',\n",
       "       'cluster_size', 'clean_country_id', 'new_georeferenced_column_',\n",
       "       'lat_lon_deg', 'count', 'water_source_clean', 'water_source_category',\n",
       "       'wpdx_id', 'install_year', 'management_clean', 'status_clean',\n",
       "       'installer', 'served_population', 'local_population', 'crucialness',\n",
       "       'pressure', 'subjective_quality', 'notes', 'rehab_priority',\n",
       "       'lat_deg_original', 'lon_deg_original', 'fecal_coliform_presence',\n",
       "       'pay', 'scheme_id', 'fecal_coliform_value'],\n",
       "      dtype='object')"
      ]
     },
     "execution_count": 26,
     "metadata": {},
     "output_type": "execute_result"
    }
   ],
   "source": [
    "#drop irrelevant columns\n",
    "uganda_water_df_clean=pd.DataFrame(uganda_water_df.drop(columns=['activity_id', 'adm1','adm2','adm3','country_id',\\\n",
    "                                                    'country_name','status','water_source','management',\\\n",
    "                                                    'water_tech','orig_lnk','photo_lnk','data_lnk',\\\n",
    "                                                    'public_data_source','converted','created_timestamp',\\\n",
    "                                                    'days_since_report','updated']))\n",
    "\n",
    "#check current columns\n",
    "uganda_water_df_clean.columns"
   ]
  },
  {
   "cell_type": "code",
   "execution_count": 31,
   "metadata": {},
   "outputs": [
    {
     "name": "stdout",
     "output_type": "stream",
     "text": [
      "fecal_coliform_presence distribution: 1.0    1035\n",
      "0.0     275\n",
      "Name: fecal_coliform_presence, dtype: int64\n",
      "is_latest distribution: 1    96575\n",
      "0    11682\n",
      "Name: is_latest, dtype: int64\n",
      "is_urban distribution: Series([], Name: is_urban, dtype: int64)\n",
      "status_id distribution: 1    87016\n",
      "0    21241\n",
      "Name: status_id, dtype: int64\n"
     ]
    }
   ],
   "source": [
    "#checking contents of columns we want to convert to binary\n",
    "print('fecal_coliform_presence distribution:',uganda_water_df_clean['fecal_coliform_presence'].value_counts())\n",
    "print('is_latest distribution:',uganda_water_df_clean['is_latest'].value_counts())\n",
    "print('is_urban distribution:',uganda_water_df_clean['is_urban'].value_counts())\n",
    "print('status_id distribution:',uganda_water_df_clean['status_id'].value_counts())"
   ]
  },
  {
   "cell_type": "markdown",
   "metadata": {},
   "source": [
    "We assume that water points that have an unknown status, are not working."
   ]
  },
  {
   "cell_type": "code",
   "execution_count": 28,
   "metadata": {},
   "outputs": [
    {
     "name": "stdout",
     "output_type": "stream",
     "text": [
      "<class 'pandas.core.frame.DataFrame'>\n",
      "RangeIndex: 108257 entries, 0 to 108256\n",
      "Data columns (total 49 columns):\n",
      " #   Column                     Non-Null Count   Dtype  \n",
      "---  ------                     --------------   -----  \n",
      " 0   row_id                     108257 non-null  object \n",
      " 1   source                     108257 non-null  object \n",
      " 2   lat_deg                    108257 non-null  object \n",
      " 3   lon_deg                    108257 non-null  object \n",
      " 4   report_date                108257 non-null  object \n",
      " 5   status_id                  108257 non-null  int64  \n",
      " 6   water_tech_clean           25659 non-null   object \n",
      " 7   _water_tech_category       25659 non-null   object \n",
      " 8   facility_type              108257 non-null  object \n",
      " 9   clean_country_name         108257 non-null  object \n",
      " 10  clean_adm1                 108257 non-null  object \n",
      " 11  clean_adm2                 108257 non-null  object \n",
      " 12  clean_adm3                 108257 non-null  object \n",
      " 13  clean_adm4                 108257 non-null  object \n",
      " 14  distance_to_primary        108257 non-null  object \n",
      " 15  distance_to_secondary      108257 non-null  object \n",
      " 16  distance_to_tertiary       108257 non-null  object \n",
      " 17  distance_to_city           108257 non-null  object \n",
      " 18  distance_to_town           108257 non-null  object \n",
      " 19  usage_cap                  108236 non-null  object \n",
      " 20  is_urban                   0 non-null       float64\n",
      " 21  staleness_score            108257 non-null  object \n",
      " 22  is_latest                  108257 non-null  int64  \n",
      " 23  location_id                108257 non-null  object \n",
      " 24  cluster_size               108257 non-null  object \n",
      " 25  clean_country_id           108257 non-null  object \n",
      " 26  new_georeferenced_column_  108257 non-null  object \n",
      " 27  lat_lon_deg                108257 non-null  object \n",
      " 28  count                      108257 non-null  object \n",
      " 29  water_source_clean         91014 non-null   object \n",
      " 30  water_source_category      91014 non-null   object \n",
      " 31  wpdx_id                    107227 non-null  object \n",
      " 32  install_year               88820 non-null   object \n",
      " 33  management_clean           91632 non-null   object \n",
      " 34  status_clean               88765 non-null   object \n",
      " 35  installer                  4638 non-null    object \n",
      " 36  served_population          89022 non-null   object \n",
      " 37  local_population           89022 non-null   object \n",
      " 38  crucialness                79473 non-null   object \n",
      " 39  pressure                   79473 non-null   object \n",
      " 40  subjective_quality         3732 non-null    object \n",
      " 41  notes                      10401 non-null   object \n",
      " 42  rehab_priority             18191 non-null   object \n",
      " 43  lat_deg_original           1468 non-null    object \n",
      " 44  lon_deg_original           1468 non-null    object \n",
      " 45  fecal_coliform_presence    1310 non-null    float64\n",
      " 46  pay                        37274 non-null   object \n",
      " 47  scheme_id                  11303 non-null   object \n",
      " 48  fecal_coliform_value       213 non-null     object \n",
      "dtypes: float64(2), int64(2), object(45)\n",
      "memory usage: 40.5+ MB\n"
     ]
    }
   ],
   "source": [
    "#convert to binary\n",
    "uganda_water_df_clean['fecal_coliform_presence']=uganda_water_df_clean['fecal_coliform_presence'].map({'Present': 1, 'Absent': 0})\n",
    "\n",
    "uganda_water_df_clean['is_latest'] = uganda_water_df_clean['is_latest'].astype('int64')\n",
    "\n",
    "uganda_water_df_clean['is_urban']=uganda_water_df_clean['is_urban'].map({True: 1, False: 0})\n",
    "\n",
    "uganda_water_df_clean['status_id']=uganda_water_df_clean['status_id'].map({'Yes': 1, 'No': 0, 'Unknown': 0})\n",
    "\n",
    "#check\n",
    "uganda_water_df_clean.info()"
   ]
  },
  {
   "cell_type": "code",
   "execution_count": 29,
   "metadata": {},
   "outputs": [
    {
     "name": "stdout",
     "output_type": "stream",
     "text": [
      "<class 'pandas.core.frame.DataFrame'>\n",
      "RangeIndex: 108257 entries, 0 to 108256\n",
      "Data columns (total 49 columns):\n",
      " #   Column                     Non-Null Count   Dtype  \n",
      "---  ------                     --------------   -----  \n",
      " 0   row_id                     108257 non-null  object \n",
      " 1   source                     108257 non-null  object \n",
      " 2   lat_deg                    108257 non-null  float32\n",
      " 3   lon_deg                    108257 non-null  float32\n",
      " 4   report_date                108257 non-null  object \n",
      " 5   status_id                  108257 non-null  int64  \n",
      " 6   water_tech_clean           25659 non-null   object \n",
      " 7   _water_tech_category       25659 non-null   object \n",
      " 8   facility_type              108257 non-null  object \n",
      " 9   clean_country_name         108257 non-null  object \n",
      " 10  clean_adm1                 108257 non-null  object \n",
      " 11  clean_adm2                 108257 non-null  object \n",
      " 12  clean_adm3                 108257 non-null  object \n",
      " 13  clean_adm4                 108257 non-null  object \n",
      " 14  distance_to_primary        108257 non-null  float32\n",
      " 15  distance_to_secondary      108257 non-null  float32\n",
      " 16  distance_to_tertiary       108257 non-null  float32\n",
      " 17  distance_to_city           108257 non-null  float32\n",
      " 18  distance_to_town           108257 non-null  float32\n",
      " 19  usage_cap                  108236 non-null  float32\n",
      " 20  is_urban                   0 non-null       float64\n",
      " 21  staleness_score            108257 non-null  float32\n",
      " 22  is_latest                  108257 non-null  int64  \n",
      " 23  location_id                108257 non-null  object \n",
      " 24  cluster_size               108257 non-null  float32\n",
      " 25  clean_country_id           108257 non-null  object \n",
      " 26  new_georeferenced_column_  108257 non-null  object \n",
      " 27  lat_lon_deg                108257 non-null  object \n",
      " 28  count                      108257 non-null  float32\n",
      " 29  water_source_clean         91014 non-null   object \n",
      " 30  water_source_category      91014 non-null   object \n",
      " 31  wpdx_id                    107227 non-null  object \n",
      " 32  install_year               88820 non-null   float32\n",
      " 33  management_clean           91632 non-null   object \n",
      " 34  status_clean               88765 non-null   object \n",
      " 35  installer                  4638 non-null    object \n",
      " 36  served_population          89022 non-null   float32\n",
      " 37  local_population           89022 non-null   float32\n",
      " 38  crucialness                79473 non-null   float32\n",
      " 39  pressure                   79473 non-null   float32\n",
      " 40  subjective_quality         3732 non-null    object \n",
      " 41  notes                      10401 non-null   object \n",
      " 42  rehab_priority             18191 non-null   float32\n",
      " 43  lat_deg_original           1468 non-null    float32\n",
      " 44  lon_deg_original           1468 non-null    float32\n",
      " 45  fecal_coliform_presence    1310 non-null    float64\n",
      " 46  pay                        37274 non-null   object \n",
      " 47  scheme_id                  11303 non-null   object \n",
      " 48  fecal_coliform_value       213 non-null     float32\n",
      "dtypes: float32(20), float64(2), int64(2), object(25)\n",
      "memory usage: 32.2+ MB\n"
     ]
    }
   ],
   "source": [
    "#convert to number\n",
    "num_columns=['distance_to_city', 'distance_to_primary', 'lat_deg', 'lat_deg_original',\\\n",
    "             'lon_deg', 'lon_deg_original', 'distance_to_secondary', 'distance_to_tertiary',\\\n",
    "             'distance_to_town', 'fecal_coliform_value', 'cluster_size', 'count', 'crucialness',\\\n",
    "             'install_year', 'local_population', 'pressure',\\\n",
    "             'rehab_priority', 'served_population', 'staleness_score', 'usage_cap']\n",
    "\n",
    "for col in num_columns:\n",
    "    uganda_water_df_clean[[col]]=uganda_water_df_clean[[col]].astype('float32')\n",
    "\n",
    "#check\n",
    "uganda_water_df_clean.info()"
   ]
  },
  {
   "cell_type": "code",
   "execution_count": 13,
   "metadata": {},
   "outputs": [
    {
     "name": "stdout",
     "output_type": "stream",
     "text": [
      "0        2005-09-07\n",
      "1        2005-09-07\n",
      "2        2005-09-07\n",
      "3        2005-09-07\n",
      "4        2005-09-07\n",
      "            ...    \n",
      "108243   2022-05-21\n",
      "108244   2022-09-05\n",
      "108245   2022-05-17\n",
      "108246   2022-05-19\n",
      "108247   2022-05-23\n",
      "Name: report_date, Length: 108248, dtype: datetime64[ns]\n",
      "0               NaT\n",
      "1               NaT\n",
      "2               NaT\n",
      "3               NaT\n",
      "4               NaT\n",
      "            ...    \n",
      "108243          NaT\n",
      "108244   2022-01-01\n",
      "108245   2020-01-01\n",
      "108246          NaT\n",
      "108247          NaT\n",
      "Name: install_year, Length: 108248, dtype: datetime64[ns]\n"
     ]
    }
   ],
   "source": [
    "#convert to datetime\n",
    "uganda_water_df_clean['report_date']=pd.to_datetime(uganda_water_df_clean['report_date'])\n",
    "uganda_water_df_clean['install_year']=pd.to_datetime(uganda_water_df_clean['install_year'].astype('float32'), format='%Y')\n",
    "\n",
    "#check\n",
    "print(uganda_water_df_clean['report_date'])\n",
    "print(uganda_water_df_clean['install_year'])\n"
   ]
  },
  {
   "cell_type": "code",
   "execution_count": 30,
   "metadata": {},
   "outputs": [
    {
     "name": "stderr",
     "output_type": "stream",
     "text": [
      "/var/folders/6z/_t24rnpd7yz5xg2pw_2t_s6m0000gn/T/ipykernel_85037/3847936817.py:6: FutureWarning: The default value of regex will change from True to False in a future version.\n",
      "  uganda_water_df_clean[col].str.replace('[^\\w\\s]', '')\n"
     ]
    }
   ],
   "source": [
    "#select columns with string\n",
    "str_columns = list(uganda_water_df_clean.select_dtypes(\"object\").columns)\n",
    "\n",
    "#remove special characters from string columns\n",
    "for col in str_columns:\n",
    "    uganda_water_df_clean[col].str.replace('[^\\w\\s]', '')"
   ]
  },
  {
   "cell_type": "code",
   "execution_count": 15,
   "metadata": {},
   "outputs": [
    {
     "data": {
      "text/plain": [
       "row_id                         0.000000\n",
       "source                         0.000000\n",
       "lat_deg                        0.000000\n",
       "lon_deg                        0.000000\n",
       "report_date                    0.000000\n",
       "status_id                      0.000000\n",
       "water_tech_clean              76.299793\n",
       "_water_tech_category          76.299793\n",
       "facility_type                  0.000000\n",
       "clean_country_name             0.000000\n",
       "clean_adm1                     0.000000\n",
       "clean_adm2                     0.000000\n",
       "clean_adm3                     0.000000\n",
       "clean_adm4                     0.000000\n",
       "distance_to_primary            0.000000\n",
       "distance_to_secondary          0.000000\n",
       "distance_to_tertiary           0.000000\n",
       "distance_to_city               0.000000\n",
       "distance_to_town               0.000000\n",
       "usage_cap                      0.019400\n",
       "is_urban                     100.000000\n",
       "staleness_score                0.000000\n",
       "is_latest                      0.000000\n",
       "location_id                    0.000000\n",
       "cluster_size                   0.000000\n",
       "clean_country_id               0.000000\n",
       "new_georeferenced_column_      0.000000\n",
       "lat_lon_deg                    0.000000\n",
       "count                          0.000000\n",
       "water_source_clean            15.928239\n",
       "water_source_category         15.928239\n",
       "wpdx_id                        0.949671\n",
       "install_year                  17.965228\n",
       "management_clean              15.358251\n",
       "status_clean                  17.998485\n",
       "served_population             17.761991\n",
       "local_population              17.761991\n",
       "crucialness                   26.583401\n",
       "pressure                      26.583401\n",
       "rehab_priority                83.196918\n",
       "notes                         90.391508\n",
       "subjective_quality            96.552361\n",
       "lat_deg_original              98.643855\n",
       "lon_deg_original              98.643855\n",
       "fecal_coliform_presence       98.789816\n",
       "installer                     95.721861\n",
       "pay                           65.566107\n",
       "scheme_id                     89.560084\n",
       "fecal_coliform_value          99.803230\n",
       "dtype: float64"
      ]
     },
     "execution_count": 15,
     "metadata": {},
     "output_type": "execute_result"
    }
   ],
   "source": [
    "#percentage of NA values by columns\n",
    "uganda_water_df_clean.isna().mean()*100"
   ]
  },
  {
   "cell_type": "markdown",
   "metadata": {},
   "source": [
    "We decide to drop columns which have more than 50% of its values that are missing. We deem these columns not be of good enough quality to be analysed."
   ]
  },
  {
   "cell_type": "code",
   "execution_count": 16,
   "metadata": {},
   "outputs": [
    {
     "data": {
      "text/plain": [
       "row_id                        0.000000\n",
       "source                        0.000000\n",
       "lat_deg                       0.000000\n",
       "lon_deg                       0.000000\n",
       "report_date                   0.000000\n",
       "status_id                     0.000000\n",
       "facility_type                 0.000000\n",
       "clean_country_name            0.000000\n",
       "clean_adm1                    0.000000\n",
       "clean_adm2                    0.000000\n",
       "clean_adm3                    0.000000\n",
       "clean_adm4                    0.000000\n",
       "distance_to_primary           0.000000\n",
       "distance_to_secondary         0.000000\n",
       "distance_to_tertiary          0.000000\n",
       "distance_to_city              0.000000\n",
       "distance_to_town              0.000000\n",
       "usage_cap                     0.019400\n",
       "staleness_score               0.000000\n",
       "is_latest                     0.000000\n",
       "location_id                   0.000000\n",
       "cluster_size                  0.000000\n",
       "clean_country_id              0.000000\n",
       "new_georeferenced_column_     0.000000\n",
       "lat_lon_deg                   0.000000\n",
       "count                         0.000000\n",
       "water_source_clean           15.928239\n",
       "water_source_category        15.928239\n",
       "wpdx_id                       0.949671\n",
       "install_year                 17.965228\n",
       "management_clean             15.358251\n",
       "status_clean                 17.998485\n",
       "served_population            17.761991\n",
       "local_population             17.761991\n",
       "crucialness                  26.583401\n",
       "pressure                     26.583401\n",
       "dtype: float64"
      ]
     },
     "execution_count": 16,
     "metadata": {},
     "output_type": "execute_result"
    }
   ],
   "source": [
    "#remove columsn where >50% are missing values, using the thresh parameter (0.5)\n",
    "uganda_water_df_clean = uganda_water_df_clean.dropna(axis=1, thresh=0.5*len(uganda_water_df_clean))\n",
    "\n",
    "#check\n",
    "uganda_water_df_clean.isna().mean()*100"
   ]
  },
  {
   "cell_type": "markdown",
   "metadata": {},
   "source": [
    "The documentation informs us that this dataset is not supposed to have any duplicate columns or rows"
   ]
  },
  {
   "cell_type": "code",
   "execution_count": 17,
   "metadata": {},
   "outputs": [
    {
     "ename": "TypeError",
     "evalue": "unhashable type: 'dict'",
     "output_type": "error",
     "traceback": [
      "\u001b[0;31m---------------------------------------------------------------------------\u001b[0m",
      "\u001b[0;31mTypeError\u001b[0m                                 Traceback (most recent call last)",
      "Input \u001b[0;32mIn [17]\u001b[0m, in \u001b[0;36m<cell line: 2>\u001b[0;34m()\u001b[0m\n\u001b[1;32m      1\u001b[0m \u001b[38;5;66;03m#checking duplicate rows\u001b[39;00m\n\u001b[0;32m----> 2\u001b[0m \u001b[43muganda_water_df_clean\u001b[49m\u001b[38;5;241;43m.\u001b[39;49m\u001b[43mduplicated\u001b[49m\u001b[43m(\u001b[49m\u001b[43m)\u001b[49m\u001b[38;5;241m.\u001b[39msum()\n",
      "File \u001b[0;32m~/opt/anaconda3/lib/python3.9/site-packages/pandas/core/frame.py:6253\u001b[0m, in \u001b[0;36mDataFrame.duplicated\u001b[0;34m(self, subset, keep)\u001b[0m\n\u001b[1;32m   6250\u001b[0m     \u001b[38;5;28;01mraise\u001b[39;00m \u001b[38;5;167;01mKeyError\u001b[39;00m(diff)\n\u001b[1;32m   6252\u001b[0m vals \u001b[38;5;241m=\u001b[39m (col\u001b[38;5;241m.\u001b[39mvalues \u001b[38;5;28;01mfor\u001b[39;00m name, col \u001b[38;5;129;01min\u001b[39;00m \u001b[38;5;28mself\u001b[39m\u001b[38;5;241m.\u001b[39mitems() \u001b[38;5;28;01mif\u001b[39;00m name \u001b[38;5;129;01min\u001b[39;00m subset)\n\u001b[0;32m-> 6253\u001b[0m labels, shape \u001b[38;5;241m=\u001b[39m \u001b[38;5;28mmap\u001b[39m(\u001b[38;5;28mlist\u001b[39m, \u001b[38;5;28;43mzip\u001b[39;49m\u001b[43m(\u001b[49m\u001b[38;5;241;43m*\u001b[39;49m\u001b[38;5;28;43mmap\u001b[39;49m\u001b[43m(\u001b[49m\u001b[43mf\u001b[49m\u001b[43m,\u001b[49m\u001b[43m \u001b[49m\u001b[43mvals\u001b[49m\u001b[43m)\u001b[49m\u001b[43m)\u001b[49m)\n\u001b[1;32m   6255\u001b[0m ids \u001b[38;5;241m=\u001b[39m get_group_index(\n\u001b[1;32m   6256\u001b[0m     labels,\n\u001b[1;32m   6257\u001b[0m     \u001b[38;5;66;03m# error: Argument 1 to \"tuple\" has incompatible type \"List[_T]\";\u001b[39;00m\n\u001b[0;32m   (...)\u001b[0m\n\u001b[1;32m   6261\u001b[0m     xnull\u001b[38;5;241m=\u001b[39m\u001b[38;5;28;01mFalse\u001b[39;00m,\n\u001b[1;32m   6262\u001b[0m )\n\u001b[1;32m   6263\u001b[0m result \u001b[38;5;241m=\u001b[39m \u001b[38;5;28mself\u001b[39m\u001b[38;5;241m.\u001b[39m_constructor_sliced(duplicated(ids, keep), index\u001b[38;5;241m=\u001b[39m\u001b[38;5;28mself\u001b[39m\u001b[38;5;241m.\u001b[39mindex)\n",
      "File \u001b[0;32m~/opt/anaconda3/lib/python3.9/site-packages/pandas/core/frame.py:6226\u001b[0m, in \u001b[0;36mDataFrame.duplicated.<locals>.f\u001b[0;34m(vals)\u001b[0m\n\u001b[1;32m   6225\u001b[0m \u001b[38;5;28;01mdef\u001b[39;00m \u001b[38;5;21mf\u001b[39m(vals) \u001b[38;5;241m-\u001b[39m\u001b[38;5;241m>\u001b[39m \u001b[38;5;28mtuple\u001b[39m[np\u001b[38;5;241m.\u001b[39mndarray, \u001b[38;5;28mint\u001b[39m]:\n\u001b[0;32m-> 6226\u001b[0m     labels, shape \u001b[38;5;241m=\u001b[39m \u001b[43malgorithms\u001b[49m\u001b[38;5;241;43m.\u001b[39;49m\u001b[43mfactorize\u001b[49m\u001b[43m(\u001b[49m\u001b[43mvals\u001b[49m\u001b[43m,\u001b[49m\u001b[43m \u001b[49m\u001b[43msize_hint\u001b[49m\u001b[38;5;241;43m=\u001b[39;49m\u001b[38;5;28;43mlen\u001b[39;49m\u001b[43m(\u001b[49m\u001b[38;5;28;43mself\u001b[39;49m\u001b[43m)\u001b[49m\u001b[43m)\u001b[49m\n\u001b[1;32m   6227\u001b[0m     \u001b[38;5;28;01mreturn\u001b[39;00m labels\u001b[38;5;241m.\u001b[39mastype(\u001b[38;5;124m\"\u001b[39m\u001b[38;5;124mi8\u001b[39m\u001b[38;5;124m\"\u001b[39m, copy\u001b[38;5;241m=\u001b[39m\u001b[38;5;28;01mFalse\u001b[39;00m), \u001b[38;5;28mlen\u001b[39m(shape)\n",
      "File \u001b[0;32m~/opt/anaconda3/lib/python3.9/site-packages/pandas/core/algorithms.py:763\u001b[0m, in \u001b[0;36mfactorize\u001b[0;34m(values, sort, na_sentinel, size_hint)\u001b[0m\n\u001b[1;32m    760\u001b[0m     \u001b[38;5;28;01melse\u001b[39;00m:\n\u001b[1;32m    761\u001b[0m         na_value \u001b[38;5;241m=\u001b[39m \u001b[38;5;28;01mNone\u001b[39;00m\n\u001b[0;32m--> 763\u001b[0m     codes, uniques \u001b[38;5;241m=\u001b[39m \u001b[43mfactorize_array\u001b[49m\u001b[43m(\u001b[49m\n\u001b[1;32m    764\u001b[0m \u001b[43m        \u001b[49m\u001b[43mvalues\u001b[49m\u001b[43m,\u001b[49m\u001b[43m \u001b[49m\u001b[43mna_sentinel\u001b[49m\u001b[38;5;241;43m=\u001b[39;49m\u001b[43mna_sentinel\u001b[49m\u001b[43m,\u001b[49m\u001b[43m \u001b[49m\u001b[43msize_hint\u001b[49m\u001b[38;5;241;43m=\u001b[39;49m\u001b[43msize_hint\u001b[49m\u001b[43m,\u001b[49m\u001b[43m \u001b[49m\u001b[43mna_value\u001b[49m\u001b[38;5;241;43m=\u001b[39;49m\u001b[43mna_value\u001b[49m\n\u001b[1;32m    765\u001b[0m \u001b[43m    \u001b[49m\u001b[43m)\u001b[49m\n\u001b[1;32m    767\u001b[0m \u001b[38;5;28;01mif\u001b[39;00m sort \u001b[38;5;129;01mand\u001b[39;00m \u001b[38;5;28mlen\u001b[39m(uniques) \u001b[38;5;241m>\u001b[39m \u001b[38;5;241m0\u001b[39m:\n\u001b[1;32m    768\u001b[0m     uniques, codes \u001b[38;5;241m=\u001b[39m safe_sort(\n\u001b[1;32m    769\u001b[0m         uniques, codes, na_sentinel\u001b[38;5;241m=\u001b[39mna_sentinel, assume_unique\u001b[38;5;241m=\u001b[39m\u001b[38;5;28;01mTrue\u001b[39;00m, verify\u001b[38;5;241m=\u001b[39m\u001b[38;5;28;01mFalse\u001b[39;00m\n\u001b[1;32m    770\u001b[0m     )\n",
      "File \u001b[0;32m~/opt/anaconda3/lib/python3.9/site-packages/pandas/core/algorithms.py:560\u001b[0m, in \u001b[0;36mfactorize_array\u001b[0;34m(values, na_sentinel, size_hint, na_value, mask)\u001b[0m\n\u001b[1;32m    557\u001b[0m hash_klass, values \u001b[38;5;241m=\u001b[39m _get_data_algo(values)\n\u001b[1;32m    559\u001b[0m table \u001b[38;5;241m=\u001b[39m hash_klass(size_hint \u001b[38;5;129;01mor\u001b[39;00m \u001b[38;5;28mlen\u001b[39m(values))\n\u001b[0;32m--> 560\u001b[0m uniques, codes \u001b[38;5;241m=\u001b[39m \u001b[43mtable\u001b[49m\u001b[38;5;241;43m.\u001b[39;49m\u001b[43mfactorize\u001b[49m\u001b[43m(\u001b[49m\n\u001b[1;32m    561\u001b[0m \u001b[43m    \u001b[49m\u001b[43mvalues\u001b[49m\u001b[43m,\u001b[49m\u001b[43m \u001b[49m\u001b[43mna_sentinel\u001b[49m\u001b[38;5;241;43m=\u001b[39;49m\u001b[43mna_sentinel\u001b[49m\u001b[43m,\u001b[49m\u001b[43m \u001b[49m\u001b[43mna_value\u001b[49m\u001b[38;5;241;43m=\u001b[39;49m\u001b[43mna_value\u001b[49m\u001b[43m,\u001b[49m\u001b[43m \u001b[49m\u001b[43mmask\u001b[49m\u001b[38;5;241;43m=\u001b[39;49m\u001b[43mmask\u001b[49m\n\u001b[1;32m    562\u001b[0m \u001b[43m\u001b[49m\u001b[43m)\u001b[49m\n\u001b[1;32m    564\u001b[0m codes \u001b[38;5;241m=\u001b[39m ensure_platform_int(codes)\n\u001b[1;32m    565\u001b[0m \u001b[38;5;28;01mreturn\u001b[39;00m codes, uniques\n",
      "File \u001b[0;32mpandas/_libs/hashtable_class_helper.pxi:5394\u001b[0m, in \u001b[0;36mpandas._libs.hashtable.PyObjectHashTable.factorize\u001b[0;34m()\u001b[0m\n",
      "File \u001b[0;32mpandas/_libs/hashtable_class_helper.pxi:5310\u001b[0m, in \u001b[0;36mpandas._libs.hashtable.PyObjectHashTable._unique\u001b[0;34m()\u001b[0m\n",
      "\u001b[0;31mTypeError\u001b[0m: unhashable type: 'dict'"
     ]
    }
   ],
   "source": [
    "#checking duplicate rows\n",
    "#uganda_water_df_clean.duplicated().sum()"
   ]
  },
  {
   "cell_type": "code",
   "execution_count": null,
   "metadata": {},
   "outputs": [],
   "source": [
    "#checking duplicate rows\n",
    "#uganda_water_df_clean.T.duplicated().sum()"
   ]
  },
  {
   "cell_type": "markdown",
   "metadata": {},
   "source": [
    "Due to the small number of missing values in the `usage_cap` column, we decide to fill the missing values with the median value. We will hold off filling the remaining missing values as they are each missing around a fifth of their values, any decision made there will have a large impact on the dataset."
   ]
  },
  {
   "cell_type": "code",
   "execution_count": 18,
   "metadata": {},
   "outputs": [
    {
     "name": "stderr",
     "output_type": "stream",
     "text": [
      "/Users/thomasadler/opt/anaconda3/lib/python3.9/site-packages/seaborn/distributions.py:2619: FutureWarning: `distplot` is a deprecated function and will be removed in a future version. Please adapt your code to use either `displot` (a figure-level function with similar flexibility) or `histplot` (an axes-level function for histograms).\n",
      "  warnings.warn(msg, FutureWarning)\n"
     ]
    },
    {
     "data": {
      "image/png": "[encoded data removed]",
      "text/plain": [
       "<Figure size 432x288 with 1 Axes>"
      ]
     },
     "metadata": {
      "needs_background": "light"
     },
     "output_type": "display_data"
    }
   ],
   "source": [
    "#showing distribution of value we want to inpute and where mean/median is situated\n",
    "\n",
    "plt.figure()\n",
    "sns.distplot(uganda_water_df_clean['usage_cap'])\n",
    "plt.axvline(uganda_water_df_clean['usage_cap'].mean(), c='r', label='mean')\n",
    "plt.axvline(uganda_water_df_clean['usage_cap'].median(), c='gold', label='median')\n",
    "\n",
    "#change the limits of x to see where the majority of the values lie\n",
    "#plt.xlim(0,400)\n",
    "\n",
    "plt.legend()\n",
    "plt.title('Usage capacity')\n",
    "plt.show()    "
   ]
  },
  {
   "cell_type": "code",
   "execution_count": 19,
   "metadata": {},
   "outputs": [
    {
     "data": {
      "text/plain": [
       "row_id                        0.000000\n",
       "source                        0.000000\n",
       "lat_deg                       0.000000\n",
       "lon_deg                       0.000000\n",
       "report_date                   0.000000\n",
       "status_id                     0.000000\n",
       "facility_type                 0.000000\n",
       "clean_country_name            0.000000\n",
       "clean_adm1                    0.000000\n",
       "clean_adm2                    0.000000\n",
       "clean_adm3                    0.000000\n",
       "clean_adm4                    0.000000\n",
       "distance_to_primary           0.000000\n",
       "distance_to_secondary         0.000000\n",
       "distance_to_tertiary          0.000000\n",
       "distance_to_city              0.000000\n",
       "distance_to_town              0.000000\n",
       "usage_cap                     0.000000\n",
       "staleness_score               0.000000\n",
       "is_latest                     0.000000\n",
       "location_id                   0.000000\n",
       "cluster_size                  0.000000\n",
       "clean_country_id              0.000000\n",
       "new_georeferenced_column_     0.000000\n",
       "lat_lon_deg                   0.000000\n",
       "count                         0.000000\n",
       "water_source_clean           15.928239\n",
       "water_source_category        15.928239\n",
       "wpdx_id                       0.949671\n",
       "install_year                 17.965228\n",
       "management_clean             15.358251\n",
       "status_clean                 17.998485\n",
       "served_population            17.761991\n",
       "local_population             17.761991\n",
       "crucialness                  26.583401\n",
       "pressure                     26.583401\n",
       "dtype: float64"
      ]
     },
     "execution_count": 19,
     "metadata": {},
     "output_type": "execute_result"
    }
   ],
   "source": [
    "#input median value to fillna\n",
    "uganda_water_df_clean['usage_cap'] = uganda_water_df_clean['usage_cap'].fillna(uganda_water_df_clean['usage_cap'].median())\n",
    "\n",
    "#check\n",
    "uganda_water_df_clean.isna().mean()*100"
   ]
  },
  {
   "cell_type": "code",
   "execution_count": 22,
   "metadata": {},
   "outputs": [],
   "source": [
    "#export to cleaned dataset to csv\n",
    "uganda_water_df_clean.to_csv(filepath + 'uganda_water_df_clean.csv')"
   ]
  }
 ],
 "metadata": {
  "kernelspec": {
   "display_name": "Python 3.9.12 ('base')",
   "language": "python",
   "name": "python3"
  },
  "language_info": {
   "codemirror_mode": {
    "name": "ipython",
    "version": 3
   },
   "file_extension": ".py",
   "mimetype": "text/x-python",
   "name": "python",
   "nbconvert_exporter": "python",
   "pygments_lexer": "ipython3",
   "version": "3.9.12"
  },
  "toc": {
   "base_numbering": 1,
   "nav_menu": {},
   "number_sections": true,
   "sideBar": true,
   "skip_h1_title": false,
   "title_cell": "Table of Contents",
   "title_sidebar": "Contents",
   "toc_cell": false,
   "toc_position": {},
   "toc_section_display": true,
   "toc_window_display": false
  },
  "varInspector": {
   "cols": {
    "lenName": 16,
    "lenType": 16,
    "lenVar": 40
   },
   "kernels_config": {
    "python": {
     "delete_cmd_postfix": "",
     "delete_cmd_prefix": "del ",
     "library": "var_list.py",
     "varRefreshCmd": "print(var_dic_list())"
    },
    "r": {
     "delete_cmd_postfix": ") ",
     "delete_cmd_prefix": "rm(",
     "library": "var_list.r",
     "varRefreshCmd": "cat(var_dic_list()) "
    }
   },
   "types_to_exclude": [
    "module",
    "function",
    "builtin_function_or_method",
    "instance",
    "_Feature"
   ],
   "window_display": false
  },
  "vscode": {
   "interpreter": {
    "hash": "c6ceada7ab5ee6fcd72b8e8137f72bc53b2192058ef32f401c30586b94eefb2e"
   }
  }
 },
 "nbformat": 4,
 "nbformat_minor": 2
}
