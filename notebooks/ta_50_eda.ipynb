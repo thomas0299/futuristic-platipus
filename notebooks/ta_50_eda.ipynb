{
 "cells": [
  {
   "cell_type": "markdown",
   "metadata": {},
   "source": [
    "# Exploratory Data Analysis"
   ]
  },
  {
   "cell_type": "code",
   "execution_count": null,
   "metadata": {},
   "outputs": [],
   "source": [
    "#importing relevant packages\n",
    "%run /Users/thomasadler/Desktop/futuristic-platipus/notebooks/ta_01_packages.py"
   ]
  },
  {
   "cell_type": "code",
   "execution_count": null,
   "metadata": {},
   "outputs": [],
   "source": [
    "# import useful functions\n",
    "%run /Users/thomasadler/Desktop/futuristic-platipus/notebooks/ta_02_functions.py"
   ]
  },
  {
   "cell_type": "code",
   "execution_count": null,
   "metadata": {},
   "outputs": [],
   "source": [
    "#defining working directory\n",
    "filepath = '/Users/thomasadler/Desktop/capstone_docs/'"
   ]
  },
  {
   "cell_type": "code",
   "execution_count": null,
   "metadata": {},
   "outputs": [],
   "source": [
    "#data dictionary part A\n",
    "Image(\"/Users/thomasadler/Desktop/futuristic-platipus/data_dictionary/4A-Master-Dictionary.png\")"
   ]
  },
  {
   "cell_type": "code",
   "execution_count": null,
   "metadata": {},
   "outputs": [],
   "source": [
    "#data dictionary part B\n",
    "Image(\"/Users/thomasadler/Desktop/futuristic-platipus/data_dictionary/4B-Master-Dictionary.png\")"
   ]
  },
  {
   "cell_type": "markdown",
   "metadata": {},
   "source": [
    "Now we have a clean dataset, with no duplicate rows/columns, no missing values, all of our columns of interest and all of them in a format fit for analysis. Our outcome (dependent) variable is whether a water point is functioning or not. `is_functioning` is a binary column equal to 1 if that water point was functioning at the time of check, 0 if not."
   ]
  },
  {
   "cell_type": "code",
   "execution_count": null,
   "metadata": {},
   "outputs": [],
   "source": [
    "#water points\n",
    "master_df_raw=pd.read_csv(filepath + 'master_df.csv')\n",
    "\n",
    "#leaving raw dataset untouched\n",
    "\n",
    "master_df=master_df_raw.copy()\n",
    "\n",
    "#check\n",
    "master_df.info()"
   ]
  },
  {
   "cell_type": "code",
   "execution_count": null,
   "metadata": {},
   "outputs": [],
   "source": [
    "#summary statistics\n",
    "round(master_df.describe().T)"
   ]
  },
  {
   "cell_type": "markdown",
   "metadata": {},
   "source": [
    "We will go through every column, and understand the information it contains and how we can use it in our models."
   ]
  },
  {
   "cell_type": "markdown",
   "metadata": {},
   "source": [
    "# 1. wpdx_id"
   ]
  },
  {
   "cell_type": "code",
   "execution_count": null,
   "metadata": {},
   "outputs": [],
   "source": [
    "#unique water points\n",
    "unique_water=len(set(master_df['wpdx_id']))\n",
    "total_observations=len(master_df['wpdx_id'])\n",
    "\n",
    "print(f\"There are {unique_water} unique water points in the dataset.\")\n",
    "print(f\"There are {total_observations} reports in the dataset.\")\n",
    "print(f\"There are {total_observations-unique_water} water points with more than one report.\")"
   ]
  },
  {
   "cell_type": "code",
   "execution_count": null,
   "metadata": {},
   "outputs": [],
   "source": [
    "#reports by water point\n",
    "reports_water_pt=master_df[['wpdx_id','clean_adm1' ]].groupby('wpdx_id').count()\n",
    "\n",
    "#visualise\n",
    "sns.histplot(reports_water_pt, legend=False)\n",
    "plt.title(\"Majority of water points have only been checked once\")\n",
    "plt.xlabel(\"Number of reports\")\n",
    "plt.show()"
   ]
  },
  {
   "cell_type": "markdown",
   "metadata": {},
   "source": [
    "# 2-3. lat_deg & lon_deg"
   ]
  },
  {
   "cell_type": "code",
   "execution_count": null,
   "metadata": {},
   "outputs": [],
   "source": [
    "#location of all water points\n",
    "unique_water_points=master_df.groupby('wpdx_id').mean()"
   ]
  },
  {
   "cell_type": "code",
   "execution_count": null,
   "metadata": {},
   "outputs": [],
   "source": [
    "# #visualise water points, choose what variable represents the size of the points\n",
    "# fig = px.scatter_geo(\n",
    "#     water_points,\n",
    "#     lon='lon_deg', lat='lat_deg', \n",
    "#     size='served_population', #'crucialness', 'pressure', 'total_fatalities_adm4', 'total_events_adm4 \n",
    "#     height=600,\n",
    "#     width=800,\n",
    "# )\n",
    "\n",
    "# fig.show()"
   ]
  },
  {
   "cell_type": "markdown",
   "metadata": {},
   "source": [
    "# 4. is_functioning"
   ]
  },
  {
   "cell_type": "code",
   "execution_count": null,
   "metadata": {},
   "outputs": [],
   "source": [
    "#functioning water points\n",
    "master_df['is_functioning'].value_counts(normalize=True)*100"
   ]
  },
  {
   "cell_type": "code",
   "execution_count": null,
   "metadata": {},
   "outputs": [],
   "source": [
    "#list of regional level\n",
    "regions=['clean_adm1', 'clean_adm2', 'clean_adm3', 'clean_adm4']\n",
    "\n",
    "#visualise through a subplot\n",
    "plt.subplots(2,2, figsize=(30,20))\n",
    "\n",
    "for i, adm in enumerate(regions, 1):\n",
    "    adm_functioning=master_df[[adm,'is_functioning']].groupby(adm).mean()*100\n",
    "    plt.subplot(3,2,i)\n",
    "    sns.histplot(adm_functioning, legend=False)\n",
    "    plt.xlabel(f\"Proportion of water points functioning in {adm}\", size=25)\n",
    "    sns.set(font_scale = 2)\n",
    "    plt.axvline(adm_functioning['is_functioning'].median(), c='gold', label='median')    \n",
    "plt.tight_layout()\n",
    "plt.show()\n",
    "    \n"
   ]
  },
  {
   "cell_type": "markdown",
   "metadata": {},
   "source": [
    "# 5-8. clean_adm"
   ]
  },
  {
   "cell_type": "code",
   "execution_count": null,
   "metadata": {},
   "outputs": [],
   "source": [
    "#number of regions\n",
    "for regions in ['clean_adm1', 'clean_adm2', 'clean_adm3', 'clean_adm4']:   \n",
    "    print(f\"There are {len(set(master_df[regions]))} {regions} regions in our Uganda dataset\")"
   ]
  },
  {
   "cell_type": "code",
   "execution_count": null,
   "metadata": {},
   "outputs": [],
   "source": [
    "#number of water point reports by region\n",
    "adm1_reports=master_df[['clean_adm1', 'wpdx_id']].groupby('clean_adm1').count()\n",
    "\n",
    "#visualise\n",
    "sns.barplot(data=adm1_reports, y=adm1_reports.index, x=adm1_reports['wpdx_id'], palette=\"flare\")\n",
    "plt.axvline(adm1_reports['wpdx_id'].mean(), c='royalblue', label='mean')\n",
    "plt.title('Reports by adm1 region')\n",
    "plt.show()\n"
   ]
  },
  {
   "cell_type": "code",
   "execution_count": null,
   "metadata": {},
   "outputs": [],
   "source": [
    "#list of regional level\n",
    "regions=['clean_adm2', 'clean_adm3', 'clean_adm4']\n",
    "\n",
    "#visualise through a subplot\n",
    "plt.subplots(2,2, figsize=(30,20))\n",
    "\n",
    "for i, adm in enumerate(regions, 1):\n",
    "    adm_reports=master_df[[adm, 'wpdx_id']].groupby(adm).count()\n",
    "    plt.subplot(3,1,i)\n",
    "    sns.histplot(adm_reports, legend=False)\n",
    "    plt.xlabel(f\"Number of reports by {adm}\")\n",
    "    sns.set(font_scale = 2)\n",
    "    plt.axvline(adm_reports['wpdx_id'].median(), c='gold', label='median')  \n",
    "    plt.axvline(adm_reports['wpdx_id'].mean(), c='r', label='mean')    \n",
    "plt.tight_layout()\n",
    "plt.show()"
   ]
  },
  {
   "cell_type": "markdown",
   "metadata": {},
   "source": [
    "# 9-13. distance_to..."
   ]
  },
  {
   "cell_type": "code",
   "execution_count": null,
   "metadata": {},
   "outputs": [],
   "source": [
    "#visualise distances for water points\n",
    "distances=['distance_to_primary', 'distance_to_secondary', 'distance_to_tertiary', 'distance_to_city']\n",
    "\n",
    "#creating subplot\n",
    "plt.subplots(2,2, figsize=(30,20))\n",
    "\n",
    "for i, distance in enumerate(distances, 1):\n",
    "    sns.histplot(unique_water_points[distance], legend=False)\n",
    "    plt.subplot(2,2,i)\n",
    "    sns.histplot(adm_reports, legend=False)\n",
    "    plt.xlabel(f\"{distance} for a water point\")\n",
    "    sns.set(font_scale = 2)\n",
    "    plt.axvline(unique_water_points[distance].median(), c='gold', label='median')  \n",
    "    plt.axvline(unique_water_points[distance].mean(), c='r', label='mean')    \n",
    "plt.tight_layout()\n",
    "plt.show()"
   ]
  },
  {
   "cell_type": "markdown",
   "metadata": {},
   "source": [
    "# 14. usage_cap"
   ]
  },
  {
   "cell_type": "code",
   "execution_count": null,
   "metadata": {},
   "outputs": [],
   "source": [
    "#visualise\n",
    "sns.distplot(unique_water_points['usage_cap'])\n",
    "plt.show()\n",
    "\n",
    "#usage capacity\n",
    "(unique_water_points['usage_cap'].value_counts(normalize=True)*100).head()"
   ]
  },
  {
   "cell_type": "markdown",
   "metadata": {},
   "source": [
    "# 15. staleness_score"
   ]
  },
  {
   "cell_type": "code",
   "execution_count": null,
   "metadata": {},
   "outputs": [],
   "source": [
    "#visualise\n",
    "sns.distplot(unique_water_points['staleness_score'])\n",
    "plt.xlim(10,)\n",
    "plt.axvline(unique_water_points['staleness_score'].mean(), c='r', label='mean')\n",
    "plt.show()"
   ]
  },
  {
   "cell_type": "markdown",
   "metadata": {},
   "source": [
    "# 24-45. Demographics and Regional statistics"
   ]
  },
  {
   "cell_type": "code",
   "execution_count": null,
   "metadata": {},
   "outputs": [],
   "source": [
    "#visualise variables by adm1\n",
    "adm1_df=master_df.groupby(\"clean_adm1\").mean()"
   ]
  },
  {
   "cell_type": "code",
   "execution_count": null,
   "metadata": {},
   "outputs": [],
   "source": [
    "#all variables by adm1 regional level\n",
    "for variable in adm1_df.columns:\n",
    "    sns.barplot(data=adm1_df, y=adm1_df.index, x=adm1_df[variable], palette=\"Blues_d\")\n",
    "    plt.xlabel(f\"average {variable}\")\n",
    "    sns.set(font_scale = 1)\n",
    "    plt.axvline(adm1_df[variable].mean(), c='r', label='mean')    \n",
    "    plt.show()\n",
    "\n"
   ]
  },
  {
   "cell_type": "markdown",
   "metadata": {},
   "source": [
    "extra is functioning with others..\n",
    "distribution of every variable\n",
    "relationships\n",
    "all feature selection steps"
   ]
  }
 ],
 "metadata": {
  "kernelspec": {
   "display_name": "Python 3.9.12 ('base')",
   "language": "python",
   "name": "python3"
  },
  "language_info": {
   "codemirror_mode": {
    "name": "ipython",
    "version": 3
   },
   "file_extension": ".py",
   "mimetype": "text/x-python",
   "name": "python",
   "nbconvert_exporter": "python",
   "pygments_lexer": "ipython3",
   "version": "3.9.12"
  },
  "orig_nbformat": 4,
  "vscode": {
   "interpreter": {
    "hash": "c6ceada7ab5ee6fcd72b8e8137f72bc53b2192058ef32f401c30586b94eefb2e"
   }
  }
 },
 "nbformat": 4,
 "nbformat_minor": 2
}
