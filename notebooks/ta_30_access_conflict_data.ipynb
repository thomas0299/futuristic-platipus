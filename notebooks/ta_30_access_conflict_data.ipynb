{
 "cells": [
  {
   "cell_type": "markdown",
   "id": "807752d7",
   "metadata": {},
   "source": [
    "# Accessing Conflict Data\n",
    "- [Armed Conflict Location & Event Data Website](https://acleddata.com/#/dashboard) \n",
    "- [API Guide](https://developer.acleddata.com/rehd/cms/views/acled_api/documents/API-User-Guide.pdf)\n",
    "- [Dictionary](https://acleddata.com/acleddatanew//wp-content/uploads/2021/11/ACLED_Data-Columns_v1_April-2019.pdf)\n",
    "- [Codebook](https://acleddata.com/acleddatanew//wp-content/uploads/2021/11/ACLED_Codebook_v1_January-2021.pdf)\n",
    "- [Full Documentation](https://acleddata.com/resources/#1643628716684-37d18c29-1234)\n"
   ]
  },
  {
   "cell_type": "code",
   "execution_count": 25,
   "id": "b6c14b95",
   "metadata": {},
   "outputs": [],
   "source": [
    "#importing relevant packages\n",
    "%run /Users/thomasadler/Desktop/futuristic-platipus/notebooks/ta_01_packages.py"
   ]
  },
  {
   "cell_type": "code",
   "execution_count": 26,
   "id": "c67c0d49",
   "metadata": {},
   "outputs": [],
   "source": [
    "# import useful functions\n",
    "%run /Users/thomasadler/Desktop/futuristic-platipus/notebooks/ta_02_functions.py"
   ]
  },
  {
   "cell_type": "code",
   "execution_count": 27,
   "id": "e0e0fe54",
   "metadata": {},
   "outputs": [],
   "source": [
    "#fetching hidden api key and username from desktop stored under 'conflict_api_key' and 'conflict_api_email'\n",
    "%run /Users/thomasadler/Desktop/futuristic-platipus/keys.py"
   ]
  },
  {
   "cell_type": "code",
   "execution_count": 28,
   "id": "6ca1e2b4",
   "metadata": {},
   "outputs": [],
   "source": [
    "#defining working directory\n",
    "filepath = '/Users/thomasadler/Desktop/capstone_docs/'"
   ]
  },
  {
   "cell_type": "code",
   "execution_count": 29,
   "id": "ff21a6e0",
   "metadata": {},
   "outputs": [],
   "source": [
    "#setting API endpoint,\n",
    "conflict_api_endpoint = \"https://api.acleddata.com/acled/read\""
   ]
  },
  {
   "cell_type": "code",
   "execution_count": 30,
   "id": "98348787",
   "metadata": {},
   "outputs": [],
   "source": [
    "#Uganda ISO code is 800\n",
    "uganda_iso = 800"
   ]
  },
  {
   "cell_type": "code",
   "execution_count": 31,
   "id": "92efe247",
   "metadata": {},
   "outputs": [],
   "source": [
    "# sending post request\n",
    "conflict_r = requests.get(f'{conflict_api_endpoint}?key={conflict_api_key}&email={conflict_api_email}&limit=0&iso={uganda_iso}.csv')\n",
    "\n",
    "#saving as json data\n",
    "data = conflict_r.json()\n",
    "\n",
    "#extract events information\n",
    "events = data['data']\n",
    "\n",
    "#save to a dataframe\n",
    "uganda_conflict = pd.DataFrame(events)"
   ]
  },
  {
   "cell_type": "code",
   "execution_count": 32,
   "id": "a8623c3b",
   "metadata": {},
   "outputs": [],
   "source": [
    "#leaving raw dataset untouched\n",
    "uganda_conflict_df= uganda_conflict.copy()"
   ]
  },
  {
   "cell_type": "code",
   "execution_count": 33,
   "id": "859c14dd",
   "metadata": {},
   "outputs": [
    {
     "data": {
      "text/html": [
       "<div>\n",
       "<style scoped>\n",
       "    .dataframe tbody tr th:only-of-type {\n",
       "        vertical-align: middle;\n",
       "    }\n",
       "\n",
       "    .dataframe tbody tr th {\n",
       "        vertical-align: top;\n",
       "    }\n",
       "\n",
       "    .dataframe thead th {\n",
       "        text-align: right;\n",
       "    }\n",
       "</style>\n",
       "<table border=\"1\" class=\"dataframe\">\n",
       "  <thead>\n",
       "    <tr style=\"text-align: right;\">\n",
       "      <th></th>\n",
       "      <th>data_id</th>\n",
       "      <th>iso</th>\n",
       "      <th>event_id_cnty</th>\n",
       "      <th>event_id_no_cnty</th>\n",
       "      <th>event_date</th>\n",
       "      <th>year</th>\n",
       "      <th>time_precision</th>\n",
       "      <th>event_type</th>\n",
       "      <th>sub_event_type</th>\n",
       "      <th>actor1</th>\n",
       "      <th>...</th>\n",
       "      <th>location</th>\n",
       "      <th>latitude</th>\n",
       "      <th>longitude</th>\n",
       "      <th>geo_precision</th>\n",
       "      <th>source</th>\n",
       "      <th>source_scale</th>\n",
       "      <th>notes</th>\n",
       "      <th>fatalities</th>\n",
       "      <th>timestamp</th>\n",
       "      <th>iso3</th>\n",
       "    </tr>\n",
       "  </thead>\n",
       "  <tbody>\n",
       "    <tr>\n",
       "      <th>7788</th>\n",
       "      <td>6876098</td>\n",
       "      <td>800</td>\n",
       "      <td>UGA5</td>\n",
       "      <td>5</td>\n",
       "      <td>1997-01-11</td>\n",
       "      <td>1997</td>\n",
       "      <td>1</td>\n",
       "      <td>Violence against civilians</td>\n",
       "      <td>Abduction/forced disappearance</td>\n",
       "      <td>LRA: Lords Resistance Army</td>\n",
       "      <td>...</td>\n",
       "      <td>Acholi-Bur</td>\n",
       "      <td>3.1258</td>\n",
       "      <td>32.9197</td>\n",
       "      <td>1</td>\n",
       "      <td>New York Times</td>\n",
       "      <td>International</td>\n",
       "      <td>LRA abduct an unknown number of people taking ...</td>\n",
       "      <td>0</td>\n",
       "      <td>1618581922</td>\n",
       "      <td>UGA</td>\n",
       "    </tr>\n",
       "    <tr>\n",
       "      <th>7789</th>\n",
       "      <td>6876117</td>\n",
       "      <td>800</td>\n",
       "      <td>UGA4</td>\n",
       "      <td>4</td>\n",
       "      <td>1997-01-08</td>\n",
       "      <td>1997</td>\n",
       "      <td>1</td>\n",
       "      <td>Battles</td>\n",
       "      <td>Armed clash</td>\n",
       "      <td>Military Forces of Uganda (1986-)</td>\n",
       "      <td>...</td>\n",
       "      <td>Kasese</td>\n",
       "      <td>0.1833</td>\n",
       "      <td>30.0833</td>\n",
       "      <td>3</td>\n",
       "      <td>Local Source</td>\n",
       "      <td>Subnational</td>\n",
       "      <td>Battle between Ugandan army and ADF rebels - 2...</td>\n",
       "      <td>2</td>\n",
       "      <td>1618581759</td>\n",
       "      <td>UGA</td>\n",
       "    </tr>\n",
       "    <tr>\n",
       "      <th>7790</th>\n",
       "      <td>6876122</td>\n",
       "      <td>800</td>\n",
       "      <td>UGA3</td>\n",
       "      <td>3</td>\n",
       "      <td>1997-01-07</td>\n",
       "      <td>1997</td>\n",
       "      <td>1</td>\n",
       "      <td>Battles</td>\n",
       "      <td>Armed clash</td>\n",
       "      <td>Military Forces of Uganda (1986-)</td>\n",
       "      <td>...</td>\n",
       "      <td>Nyabani</td>\n",
       "      <td>0.1358</td>\n",
       "      <td>30.3636</td>\n",
       "      <td>1</td>\n",
       "      <td>Local Source</td>\n",
       "      <td>Subnational</td>\n",
       "      <td>5 ADF rebels were killed when the Ugandan army...</td>\n",
       "      <td>5</td>\n",
       "      <td>1618581598</td>\n",
       "      <td>UGA</td>\n",
       "    </tr>\n",
       "    <tr>\n",
       "      <th>7791</th>\n",
       "      <td>6876154</td>\n",
       "      <td>800</td>\n",
       "      <td>UGA1</td>\n",
       "      <td>1</td>\n",
       "      <td>1997-01-01</td>\n",
       "      <td>1997</td>\n",
       "      <td>3</td>\n",
       "      <td>Battles</td>\n",
       "      <td>Armed clash</td>\n",
       "      <td>Military Forces of Uganda (1986-)</td>\n",
       "      <td>...</td>\n",
       "      <td>Gulu</td>\n",
       "      <td>2.7667</td>\n",
       "      <td>32.3056</td>\n",
       "      <td>3</td>\n",
       "      <td>Africa Research Bulletin</td>\n",
       "      <td>Other</td>\n",
       "      <td>Ugandan army battled with LRA rebels - 4 rebel...</td>\n",
       "      <td>4</td>\n",
       "      <td>1618581296</td>\n",
       "      <td>UGA</td>\n",
       "    </tr>\n",
       "    <tr>\n",
       "      <th>7792</th>\n",
       "      <td>6876155</td>\n",
       "      <td>800</td>\n",
       "      <td>UGA2</td>\n",
       "      <td>2</td>\n",
       "      <td>1997-01-01</td>\n",
       "      <td>1997</td>\n",
       "      <td>3</td>\n",
       "      <td>Battles</td>\n",
       "      <td>Armed clash</td>\n",
       "      <td>Military Forces of Uganda (1986-)</td>\n",
       "      <td>...</td>\n",
       "      <td>Mityana</td>\n",
       "      <td>0.4015</td>\n",
       "      <td>32.0452</td>\n",
       "      <td>3</td>\n",
       "      <td>Africa Research Bulletin</td>\n",
       "      <td>Other</td>\n",
       "      <td>Over 20 rebel groups believed to belong to Dun...</td>\n",
       "      <td>5</td>\n",
       "      <td>1618581439</td>\n",
       "      <td>UGA</td>\n",
       "    </tr>\n",
       "  </tbody>\n",
       "</table>\n",
       "<p>5 rows × 31 columns</p>\n",
       "</div>"
      ],
      "text/plain": [
       "      data_id  iso event_id_cnty event_id_no_cnty  event_date  year  \\\n",
       "7788  6876098  800          UGA5                5  1997-01-11  1997   \n",
       "7789  6876117  800          UGA4                4  1997-01-08  1997   \n",
       "7790  6876122  800          UGA3                3  1997-01-07  1997   \n",
       "7791  6876154  800          UGA1                1  1997-01-01  1997   \n",
       "7792  6876155  800          UGA2                2  1997-01-01  1997   \n",
       "\n",
       "     time_precision                  event_type  \\\n",
       "7788              1  Violence against civilians   \n",
       "7789              1                     Battles   \n",
       "7790              1                     Battles   \n",
       "7791              3                     Battles   \n",
       "7792              3                     Battles   \n",
       "\n",
       "                      sub_event_type                             actor1  ...  \\\n",
       "7788  Abduction/forced disappearance         LRA: Lords Resistance Army  ...   \n",
       "7789                     Armed clash  Military Forces of Uganda (1986-)  ...   \n",
       "7790                     Armed clash  Military Forces of Uganda (1986-)  ...   \n",
       "7791                     Armed clash  Military Forces of Uganda (1986-)  ...   \n",
       "7792                     Armed clash  Military Forces of Uganda (1986-)  ...   \n",
       "\n",
       "        location latitude longitude geo_precision                    source  \\\n",
       "7788  Acholi-Bur   3.1258   32.9197             1            New York Times   \n",
       "7789      Kasese   0.1833   30.0833             3              Local Source   \n",
       "7790     Nyabani   0.1358   30.3636             1              Local Source   \n",
       "7791        Gulu   2.7667   32.3056             3  Africa Research Bulletin   \n",
       "7792     Mityana   0.4015   32.0452             3  Africa Research Bulletin   \n",
       "\n",
       "       source_scale                                              notes  \\\n",
       "7788  International  LRA abduct an unknown number of people taking ...   \n",
       "7789    Subnational  Battle between Ugandan army and ADF rebels - 2...   \n",
       "7790    Subnational  5 ADF rebels were killed when the Ugandan army...   \n",
       "7791          Other  Ugandan army battled with LRA rebels - 4 rebel...   \n",
       "7792          Other  Over 20 rebel groups believed to belong to Dun...   \n",
       "\n",
       "     fatalities   timestamp iso3  \n",
       "7788          0  1618581922  UGA  \n",
       "7789          2  1618581759  UGA  \n",
       "7790          5  1618581598  UGA  \n",
       "7791          4  1618581296  UGA  \n",
       "7792          5  1618581439  UGA  \n",
       "\n",
       "[5 rows x 31 columns]"
      ]
     },
     "execution_count": 33,
     "metadata": {},
     "output_type": "execute_result"
    }
   ],
   "source": [
    "#checking dataset\n",
    "uganda_conflict_df.tail()"
   ]
  },
  {
   "cell_type": "code",
   "execution_count": 34,
   "id": "213f7315",
   "metadata": {},
   "outputs": [
    {
     "name": "stdout",
     "output_type": "stream",
     "text": [
      "<class 'pandas.core.frame.DataFrame'>\n",
      "RangeIndex: 7793 entries, 0 to 7792\n",
      "Data columns (total 31 columns):\n",
      " #   Column            Non-Null Count  Dtype \n",
      "---  ------            --------------  ----- \n",
      " 0   data_id           7793 non-null   object\n",
      " 1   iso               7793 non-null   object\n",
      " 2   event_id_cnty     7793 non-null   object\n",
      " 3   event_id_no_cnty  7793 non-null   object\n",
      " 4   event_date        7793 non-null   object\n",
      " 5   year              7793 non-null   object\n",
      " 6   time_precision    7793 non-null   object\n",
      " 7   event_type        7793 non-null   object\n",
      " 8   sub_event_type    7793 non-null   object\n",
      " 9   actor1            7793 non-null   object\n",
      " 10  assoc_actor_1     7793 non-null   object\n",
      " 11  inter1            7793 non-null   object\n",
      " 12  actor2            7793 non-null   object\n",
      " 13  assoc_actor_2     7793 non-null   object\n",
      " 14  inter2            7793 non-null   object\n",
      " 15  interaction       7793 non-null   object\n",
      " 16  region            7793 non-null   object\n",
      " 17  country           7793 non-null   object\n",
      " 18  admin1            7793 non-null   object\n",
      " 19  admin2            7793 non-null   object\n",
      " 20  admin3            7793 non-null   object\n",
      " 21  location          7793 non-null   object\n",
      " 22  latitude          7793 non-null   object\n",
      " 23  longitude         7793 non-null   object\n",
      " 24  geo_precision     7793 non-null   object\n",
      " 25  source            7793 non-null   object\n",
      " 26  source_scale      7793 non-null   object\n",
      " 27  notes             7793 non-null   object\n",
      " 28  fatalities        7793 non-null   object\n",
      " 29  timestamp         7793 non-null   object\n",
      " 30  iso3              7793 non-null   object\n",
      "dtypes: object(31)\n",
      "memory usage: 1.8+ MB\n"
     ]
    }
   ],
   "source": [
    "#check data types\n",
    "uganda_conflict_df.info()"
   ]
  },
  {
   "cell_type": "code",
   "execution_count": 35,
   "id": "62a65bcc",
   "metadata": {},
   "outputs": [
    {
     "name": "stdout",
     "output_type": "stream",
     "text": [
      "<class 'pandas.core.frame.DataFrame'>\n",
      "RangeIndex: 7793 entries, 0 to 7792\n",
      "Data columns (total 31 columns):\n",
      " #   Column            Non-Null Count  Dtype  \n",
      "---  ------            --------------  -----  \n",
      " 0   data_id           7793 non-null   object \n",
      " 1   iso               7793 non-null   object \n",
      " 2   event_id_cnty     7793 non-null   object \n",
      " 3   event_id_no_cnty  7793 non-null   object \n",
      " 4   event_date        7793 non-null   object \n",
      " 5   year              7793 non-null   object \n",
      " 6   time_precision    7793 non-null   object \n",
      " 7   event_type        7793 non-null   object \n",
      " 8   sub_event_type    7793 non-null   object \n",
      " 9   actor1            7793 non-null   object \n",
      " 10  assoc_actor_1     7793 non-null   object \n",
      " 11  inter1            7793 non-null   object \n",
      " 12  actor2            7793 non-null   object \n",
      " 13  assoc_actor_2     7793 non-null   object \n",
      " 14  inter2            7793 non-null   object \n",
      " 15  interaction       7793 non-null   object \n",
      " 16  region            7793 non-null   object \n",
      " 17  country           7793 non-null   object \n",
      " 18  admin1            7793 non-null   object \n",
      " 19  admin2            7793 non-null   object \n",
      " 20  admin3            7793 non-null   object \n",
      " 21  location          7793 non-null   object \n",
      " 22  latitude          7793 non-null   float32\n",
      " 23  longitude         7793 non-null   float32\n",
      " 24  geo_precision     7793 non-null   object \n",
      " 25  source            7793 non-null   object \n",
      " 26  source_scale      7793 non-null   object \n",
      " 27  notes             7793 non-null   object \n",
      " 28  fatalities        7793 non-null   float32\n",
      " 29  timestamp         7793 non-null   object \n",
      " 30  iso3              7793 non-null   object \n",
      "dtypes: float32(3), object(28)\n",
      "memory usage: 1.8+ MB\n"
     ]
    }
   ],
   "source": [
    "#convert to number\n",
    "num_columns=['latitude', 'longitude', 'fatalities',]\n",
    "\n",
    "for col in num_columns:\n",
    "    float_converter(uganda_conflict_df, col)\n",
    "\n",
    "#check\n",
    "uganda_conflict_df.info()"
   ]
  },
  {
   "cell_type": "code",
   "execution_count": 36,
   "id": "28a7040f",
   "metadata": {},
   "outputs": [
    {
     "data": {
      "text/plain": [
       "0      2022-06-30\n",
       "1      2022-06-29\n",
       "2      2022-06-29\n",
       "3      2022-06-27\n",
       "4      2022-06-27\n",
       "          ...    \n",
       "7788   1997-01-11\n",
       "7789   1997-01-08\n",
       "7790   1997-01-07\n",
       "7791   1997-01-01\n",
       "7792   1997-01-01\n",
       "Name: event_date, Length: 7793, dtype: datetime64[ns]"
      ]
     },
     "execution_count": 36,
     "metadata": {},
     "output_type": "execute_result"
    }
   ],
   "source": [
    "#convert to datetime\n",
    "date_converter(uganda_conflict_df, 'event_date')\n",
    "\n",
    "#check\n",
    "uganda_conflict_df['event_date']"
   ]
  },
  {
   "cell_type": "code",
   "execution_count": 37,
   "id": "e06fb17d",
   "metadata": {},
   "outputs": [
    {
     "name": "stdout",
     "output_type": "stream",
     "text": [
      "<class 'pandas.core.frame.DataFrame'>\n",
      "RangeIndex: 7793 entries, 0 to 7792\n",
      "Data columns (total 21 columns):\n",
      " #   Column          Non-Null Count  Dtype         \n",
      "---  ------          --------------  -----         \n",
      " 0   data_id         7793 non-null   object        \n",
      " 1   event_date      7793 non-null   datetime64[ns]\n",
      " 2   event_type      7793 non-null   object        \n",
      " 3   sub_event_type  7793 non-null   object        \n",
      " 4   actor1          7793 non-null   object        \n",
      " 5   assoc_actor_1   7793 non-null   object        \n",
      " 6   inter1          7793 non-null   object        \n",
      " 7   actor2          7793 non-null   object        \n",
      " 8   assoc_actor_2   7793 non-null   object        \n",
      " 9   inter2          7793 non-null   object        \n",
      " 10  interaction     7793 non-null   object        \n",
      " 11  admin1          7793 non-null   object        \n",
      " 12  admin2          7793 non-null   object        \n",
      " 13  admin3          7793 non-null   object        \n",
      " 14  location        7793 non-null   object        \n",
      " 15  latitude        7793 non-null   float32       \n",
      " 16  longitude       7793 non-null   float32       \n",
      " 17  source          7793 non-null   object        \n",
      " 18  source_scale    7793 non-null   object        \n",
      " 19  notes           7793 non-null   object        \n",
      " 20  fatalities      7793 non-null   float32       \n",
      "dtypes: datetime64[ns](1), float32(3), object(17)\n",
      "memory usage: 1.2+ MB\n"
     ]
    }
   ],
   "source": [
    "#drop irrelevant columns\n",
    "uganda_conflict_df=pd.DataFrame(uganda_conflict_df.drop(columns=['time_precision', 'event_id_cnty','event_id_no_cnty',\\\n",
    "                                                              'geo_precision','timestamp','year',\\\n",
    "                                                             'iso','iso3', 'region','country']))\n",
    "\n",
    "#check current columns\n",
    "uganda_conflict_df.info()"
   ]
  },
  {
   "cell_type": "code",
   "execution_count": 38,
   "id": "6866e61e",
   "metadata": {},
   "outputs": [
    {
     "name": "stdout",
     "output_type": "stream",
     "text": [
      "admin1 in the conflict dataset should be clean_adm1 in the water dataset, check with: Eastern\n",
      "admin2 in the conflict dataset should be clean_adm2 in the water dataset, check with: Bukwo\n",
      "admin3 in the conflict dataset should be clean_adm3 in the water dataset, check with: Kongasis\n",
      "location in the conflict dataset should be clean_adm4 in the water dataset, check with: Chesower\n"
     ]
    }
   ],
   "source": [
    "#checking administrative levels match the water dataset\n",
    "print('admin1 in the conflict dataset should be clean_adm1 in the water dataset, check with:',uganda_conflict_df['admin1'].head(1)[0])\n",
    "print('admin2 in the conflict dataset should be clean_adm2 in the water dataset, check with:',uganda_conflict_df['admin2'].head(1)[0])\n",
    "print('admin3 in the conflict dataset should be clean_adm3 in the water dataset, check with:',uganda_conflict_df['admin3'].head(1)[0])\n",
    "print('location in the conflict dataset should be clean_adm4 in the water dataset, check with:',uganda_conflict_df['location'].head(1)[0])"
   ]
  },
  {
   "cell_type": "code",
   "execution_count": 39,
   "id": "12f7dafe",
   "metadata": {},
   "outputs": [],
   "source": [
    "#replacing column name to match other datasets\n",
    "uganda_conflict_df.rename(columns={'admin1': 'clean_adm1','admin2': 'clean_adm2','admin3': 'clean_adm3', 'location':'clean_adm4'}, inplace=True)"
   ]
  },
  {
   "cell_type": "code",
   "execution_count": 40,
   "id": "14c7374e",
   "metadata": {},
   "outputs": [
    {
     "name": "stdout",
     "output_type": "stream",
     "text": [
      "False False False\n"
     ]
    }
   ],
   "source": [
    "#checking null values and duplicated rows and columns\n",
    "print(uganda_conflict_df.isna().sum().sum()>0,\\\n",
    "      uganda_conflict_df.duplicated().sum()>0,\\\n",
    "      uganda_conflict_df.T.duplicated().sum()>0)"
   ]
  },
  {
   "cell_type": "code",
   "execution_count": 41,
   "id": "b48b70c9",
   "metadata": {},
   "outputs": [],
   "source": [
    "#export to cleaned dataset to csv\n",
    "uganda_conflict_df.to_csv(filepath + 'uganda_conflict_df_clean.csv')"
   ]
  }
 ],
 "metadata": {
  "kernelspec": {
   "display_name": "Python 3 (ipykernel)",
   "language": "python",
   "name": "python3"
  },
  "language_info": {
   "codemirror_mode": {
    "name": "ipython",
    "version": 3
   },
   "file_extension": ".py",
   "mimetype": "text/x-python",
   "name": "python",
   "nbconvert_exporter": "python",
   "pygments_lexer": "ipython3",
   "version": "3.9.12"
  },
  "toc": {
   "base_numbering": 1,
   "nav_menu": {},
   "number_sections": true,
   "sideBar": true,
   "skip_h1_title": false,
   "title_cell": "Table of Contents",
   "title_sidebar": "Contents",
   "toc_cell": false,
   "toc_position": {},
   "toc_section_display": true,
   "toc_window_display": false
  },
  "varInspector": {
   "cols": {
    "lenName": 16,
    "lenType": 16,
    "lenVar": 40
   },
   "kernels_config": {
    "python": {
     "delete_cmd_postfix": "",
     "delete_cmd_prefix": "del ",
     "library": "var_list.py",
     "varRefreshCmd": "print(var_dic_list())"
    },
    "r": {
     "delete_cmd_postfix": ") ",
     "delete_cmd_prefix": "rm(",
     "library": "var_list.r",
     "varRefreshCmd": "cat(var_dic_list()) "
    }
   },
   "types_to_exclude": [
    "module",
    "function",
    "builtin_function_or_method",
    "instance",
    "_Feature"
   ],
   "window_display": false
  },
  "vscode": {
   "interpreter": {
    "hash": "c6ceada7ab5ee6fcd72b8e8137f72bc53b2192058ef32f401c30586b94eefb2e"
   }
  }
 },
 "nbformat": 4,
 "nbformat_minor": 5
}
