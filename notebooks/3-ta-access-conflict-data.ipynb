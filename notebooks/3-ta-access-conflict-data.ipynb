{
 "cells": [
  {
   "cell_type": "markdown",
   "id": "807752d7",
   "metadata": {},
   "source": [
    "# Accessing Conflict Data\n",
    "- [Armed Conflict Location & Event Data Website](https://acleddata.com/#/dashboard) \n",
    "- [API Guide](https://developer.acleddata.com/rehd/cms/views/acled_api/documents/API-User-Guide.pdf)\n",
    "- [Dictionary](https://acleddata.com/acleddatanew//wp-content/uploads/2021/11/ACLED_Data-Columns_v1_April-2019.pdf)\n",
    "- [Codebook](https://acleddata.com/acleddatanew//wp-content/uploads/2021/11/ACLED_Codebook_v1_January-2021.pdf)\n",
    "- [Full Documentation](https://acleddata.com/resources/#1643628716684-37d18c29-1234)\n"
   ]
  },
  {
   "cell_type": "code",
   "execution_count": 9,
   "id": "b6c14b95",
   "metadata": {},
   "outputs": [],
   "source": [
    "#importing relevant packages\n",
    "%run '/Users/thomasadler/Desktop/futuristic-platipus/notebooks/ta_0.1_packages.py'"
   ]
  },
  {
   "cell_type": "code",
   "execution_count": 10,
   "id": "e0bb39c5",
   "metadata": {},
   "outputs": [
    {
     "ename": "ModuleNotFoundError",
     "evalue": "No module named 'ta_0_ta_packages'",
     "output_type": "error",
     "traceback": [
      "\u001b[0;31m---------------------------------------------------------------------------\u001b[0m",
      "\u001b[0;31mModuleNotFoundError\u001b[0m                       Traceback (most recent call last)",
      "File \u001b[0;32m~/Desktop/futuristic-platipus/notebooks/ta_0.2_functions.py:2\u001b[0m, in \u001b[0;36m<module>\u001b[0;34m\u001b[0m\n\u001b[1;32m      1\u001b[0m \u001b[38;5;66;03m#importing relevant packages\u001b[39;00m\n\u001b[0;32m----> 2\u001b[0m \u001b[38;5;28;01mimport\u001b[39;00m \u001b[38;5;21;01mta_0_ta_packages\u001b[39;00m\n\u001b[1;32m      4\u001b[0m \u001b[38;5;66;03m#function to convert an object column to a datetime\u001b[39;00m\n\u001b[1;32m      5\u001b[0m \u001b[38;5;28;01mdef\u001b[39;00m \u001b[38;5;21mdate_converter\u001b[39m(df, col):\n",
      "\u001b[0;31mModuleNotFoundError\u001b[0m: No module named 'ta_0_ta_packages'"
     ]
    }
   ],
   "source": [
    "# import useful functions\n",
    "%run '/Users/thomasadler/Desktop/futuristic-platipus/notebooks/ta_0.2_functions.py'"
   ]
  },
  {
   "cell_type": "code",
   "execution_count": null,
   "id": "e0e0fe54",
   "metadata": {},
   "outputs": [],
   "source": [
    "#fetching hidden api key and username from desktop stored under 'conflict_api_key' and 'conflict_api_email'\n",
    "%run /Users/thomasadler/Desktop/futuristic-platipus/keys.py"
   ]
  },
  {
   "cell_type": "code",
   "execution_count": null,
   "id": "6ca1e2b4",
   "metadata": {},
   "outputs": [],
   "source": [
    "#defining working directory\n",
    "filepath = '/Users/thomasadler/Desktop/capstone_docs/'"
   ]
  },
  {
   "cell_type": "code",
   "execution_count": null,
   "id": "ff21a6e0",
   "metadata": {},
   "outputs": [],
   "source": [
    "#setting API endpoint,\n",
    "conflict_api_endpoint = \"https://api.acleddata.com/acled/read\""
   ]
  },
  {
   "cell_type": "code",
   "execution_count": null,
   "id": "98348787",
   "metadata": {},
   "outputs": [],
   "source": [
    "#Uganda ISO code is 800\n",
    "uganda_iso = 800"
   ]
  },
  {
   "cell_type": "code",
   "execution_count": null,
   "id": "92efe247",
   "metadata": {},
   "outputs": [],
   "source": [
    "# sending post request\n",
    "conflict_r = requests.get(f'{conflict_api_endpoint}?key={conflict_api_key}&email={conflict_api_email}&limit=0&iso={uganda_iso}.csv')\n",
    "\n",
    "#saving as json data\n",
    "data = conflict_r.json()\n",
    "\n",
    "#extract events information\n",
    "events = data['data']\n",
    "\n",
    "#save to a dataframe\n",
    "uganda_conflict = pd.DataFrame(events)"
   ]
  },
  {
   "cell_type": "code",
   "execution_count": null,
   "id": "a8623c3b",
   "metadata": {},
   "outputs": [],
   "source": [
    "#leaving raw dataset untouched\n",
    "uganda_conflict_df= uganda_conflict.copy()"
   ]
  },
  {
   "cell_type": "code",
   "execution_count": null,
   "id": "859c14dd",
   "metadata": {},
   "outputs": [],
   "source": [
    "#checking dataset\n",
    "uganda_conflict_df.tail()"
   ]
  },
  {
   "cell_type": "code",
   "execution_count": null,
   "id": "213f7315",
   "metadata": {},
   "outputs": [],
   "source": [
    "#check data types\n",
    "uganda_conflict_df.info()"
   ]
  },
  {
   "cell_type": "code",
   "execution_count": null,
   "id": "62a65bcc",
   "metadata": {},
   "outputs": [],
   "source": [
    "#convert to number\n",
    "num_columns=['latitude', 'longitude', 'fatalities',]\n",
    "\n",
    "for col in num_columns:\n",
    "    uganda_conflict_df[[col]]=uganda_conflict_df[[col]].astype('float32')\n",
    "    #check\n",
    "    print(uganda_conflict_df[[col]].head())\n",
    "\n",
    "#check\n",
    "uganda_conflict_df.info()"
   ]
  },
  {
   "cell_type": "code",
   "execution_count": null,
   "id": "28a7040f",
   "metadata": {},
   "outputs": [],
   "source": [
    "#convert to datetime\n",
    "uganda_conflict_df['event_date']=pd.to_datetime(uganda_conflict_df['event_date'])\n",
    "\n",
    "#check\n",
    "uganda_conflict_df['event_date'].tail()"
   ]
  },
  {
   "cell_type": "code",
   "execution_count": null,
   "id": "e06fb17d",
   "metadata": {},
   "outputs": [],
   "source": [
    "#drop irrelevant columns\n",
    "uganda_conflict_df=pd.DataFrame(uganda_conflict_df.drop(columns=['time_precision', 'event_id_cnty','event_id_no_cnty',\\\n",
    "                                                              'geo_precision','timestamp','year',\\\n",
    "                                                             'iso','iso3', 'region','country']))\n",
    "\n",
    "#check current columns\n",
    "uganda_conflict_df.info()"
   ]
  },
  {
   "cell_type": "code",
   "execution_count": null,
   "id": "6866e61e",
   "metadata": {},
   "outputs": [],
   "source": [
    "#checking administrative levels match the water dataset\n",
    "print('admin1 in the conflict dataset should be clean_adm1 in the water dataset, check with:',uganda_conflict_df['admin1'].head(1)[0])\n",
    "print('admin2 in the conflict dataset should be clean_adm2 in the water dataset, check with:',uganda_conflict_df['admin2'].head(1)[0])\n",
    "print('admin3 in the conflict dataset should be clean_adm3 in the water dataset, check with:',uganda_conflict_df['admin3'].head(1)[0])\n",
    "print('location in the conflict dataset should be clean_adm4 in the water dataset, check with:',uganda_conflict_df['location'].head(1)[0])"
   ]
  },
  {
   "cell_type": "code",
   "execution_count": null,
   "id": "12f7dafe",
   "metadata": {},
   "outputs": [],
   "source": [
    "#replacing column name to match other datasets\n",
    "uganda_conflict_df.rename(columns={'admin1': 'clean_adm1','admin2': 'clean_adm2','admin3': 'clean_adm3', 'location':'clean_adm4'}, inplace=True)"
   ]
  },
  {
   "cell_type": "code",
   "execution_count": null,
   "id": "14c7374e",
   "metadata": {},
   "outputs": [],
   "source": [
    "#checking null values and duplicated rows and columns\n",
    "print(uganda_conflict_df.isna().sum().sum()>0,\\\n",
    "      uganda_conflict_df.duplicated().sum()>0,\\\n",
    "      uganda_conflict_df.T.duplicated().sum()>0)"
   ]
  },
  {
   "cell_type": "code",
   "execution_count": null,
   "id": "b48b70c9",
   "metadata": {},
   "outputs": [],
   "source": [
    "#export to cleaned dataset to csv\n",
    "uganda_conflict_df.to_csv(filepath + 'uganda_conflict_df_clean.csv')"
   ]
  }
 ],
 "metadata": {
  "kernelspec": {
   "display_name": "Python 3 (ipykernel)",
   "language": "python",
   "name": "python3"
  },
  "language_info": {
   "codemirror_mode": {
    "name": "ipython",
    "version": 3
   },
   "file_extension": ".py",
   "mimetype": "text/x-python",
   "name": "python",
   "nbconvert_exporter": "python",
   "pygments_lexer": "ipython3",
   "version": "3.9.12"
  },
  "toc": {
   "base_numbering": 1,
   "nav_menu": {},
   "number_sections": true,
   "sideBar": true,
   "skip_h1_title": false,
   "title_cell": "Table of Contents",
   "title_sidebar": "Contents",
   "toc_cell": false,
   "toc_position": {},
   "toc_section_display": true,
   "toc_window_display": false
  },
  "varInspector": {
   "cols": {
    "lenName": 16,
    "lenType": 16,
    "lenVar": 40
   },
   "kernels_config": {
    "python": {
     "delete_cmd_postfix": "",
     "delete_cmd_prefix": "del ",
     "library": "var_list.py",
     "varRefreshCmd": "print(var_dic_list())"
    },
    "r": {
     "delete_cmd_postfix": ") ",
     "delete_cmd_prefix": "rm(",
     "library": "var_list.r",
     "varRefreshCmd": "cat(var_dic_list()) "
    }
   },
   "types_to_exclude": [
    "module",
    "function",
    "builtin_function_or_method",
    "instance",
    "_Feature"
   ],
   "window_display": false
  }
 },
 "nbformat": 4,
 "nbformat_minor": 5
}
