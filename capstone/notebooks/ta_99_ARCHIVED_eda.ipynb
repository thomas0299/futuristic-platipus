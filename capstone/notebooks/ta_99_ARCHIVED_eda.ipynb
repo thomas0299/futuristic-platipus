{
 "cells": [
  {
   "cell_type": "markdown",
   "id": "b8d7f8a0",
   "metadata": {},
   "source": [
    "# NOTEBOOK ARCHIVED\n",
    "This notebook takes a long time to run and uses considerable memory and computation power. It is recommended to run individual cells if needed. This notebook has been archived as this was an initial, exploratory analysis of our datasets. "
   ]
  },
  {
   "cell_type": "markdown",
   "id": "a3d9a919",
   "metadata": {},
   "source": [
    "# Initial EDA - exploring conflicts and water points"
   ]
  },
  {
   "cell_type": "code",
   "execution_count": 1,
   "id": "0b74bfaf",
   "metadata": {},
   "outputs": [
    {
     "ename": "Exception",
     "evalue": "File `'/Users/thomasadler/Desktop/futuristic-platipus/notebooks/0-ta-packages.py'` not found.",
     "output_type": "error",
     "traceback": [
      "\u001b[0;31m---------------------------------------------------------------------------\u001b[0m",
      "\u001b[0;31mOSError\u001b[0m                                   Traceback (most recent call last)",
      "File \u001b[0;32m~/opt/anaconda3/lib/python3.9/site-packages/IPython/core/magics/execution.py:696\u001b[0m, in \u001b[0;36mExecutionMagics.run\u001b[0;34m(self, parameter_s, runner, file_finder)\u001b[0m\n\u001b[1;32m    695\u001b[0m     fpath \u001b[39m=\u001b[39m arg_lst[\u001b[39m0\u001b[39m]\n\u001b[0;32m--> 696\u001b[0m     filename \u001b[39m=\u001b[39m file_finder(fpath)\n\u001b[1;32m    697\u001b[0m \u001b[39mexcept\u001b[39;00m \u001b[39mIndexError\u001b[39;00m \u001b[39mas\u001b[39;00m e:\n",
      "File \u001b[0;32m~/opt/anaconda3/lib/python3.9/site-packages/IPython/utils/path.py:91\u001b[0m, in \u001b[0;36mget_py_filename\u001b[0;34m(name)\u001b[0m\n\u001b[1;32m     90\u001b[0m \u001b[39melse\u001b[39;00m:\n\u001b[0;32m---> 91\u001b[0m     \u001b[39mraise\u001b[39;00m \u001b[39mIOError\u001b[39;00m(\u001b[39m'\u001b[39m\u001b[39mFile `\u001b[39m\u001b[39m%r\u001b[39;00m\u001b[39m` not found.\u001b[39m\u001b[39m'\u001b[39m \u001b[39m%\u001b[39m name)\n",
      "\u001b[0;31mOSError\u001b[0m: File `'/Users/thomasadler/Desktop/futuristic-platipus/notebooks/0-ta-packages.py'` not found.",
      "\nThe above exception was the direct cause of the following exception:\n",
      "\u001b[0;31mException\u001b[0m                                 Traceback (most recent call last)",
      "\u001b[1;32m/Users/thomasadler/Desktop/futuristic-platipus/notebooks/ARCHIVED_ta_conflict_water_eda.ipynb Cell 3\u001b[0m in \u001b[0;36m<cell line: 2>\u001b[0;34m()\u001b[0m\n\u001b[1;32m      <a href='vscode-notebook-cell:/Users/thomasadler/Desktop/futuristic-platipus/notebooks/ARCHIVED_ta_conflict_water_eda.ipynb#ch0000002?line=0'>1</a>\u001b[0m \u001b[39m#importing relevant packages\u001b[39;00m\n\u001b[0;32m----> <a href='vscode-notebook-cell:/Users/thomasadler/Desktop/futuristic-platipus/notebooks/ARCHIVED_ta_conflict_water_eda.ipynb#ch0000002?line=1'>2</a>\u001b[0m get_ipython()\u001b[39m.\u001b[39;49mrun_line_magic(\u001b[39m'\u001b[39;49m\u001b[39mrun\u001b[39;49m\u001b[39m'\u001b[39;49m, \u001b[39m'\u001b[39;49m\u001b[39m/Users/thomasadler/Desktop/futuristic-platipus/notebooks/0-ta-packages.py\u001b[39;49m\u001b[39m'\u001b[39;49m)\n",
      "File \u001b[0;32m~/opt/anaconda3/lib/python3.9/site-packages/IPython/core/interactiveshell.py:2294\u001b[0m, in \u001b[0;36mInteractiveShell.run_line_magic\u001b[0;34m(self, magic_name, line, _stack_depth)\u001b[0m\n\u001b[1;32m   2292\u001b[0m     kwargs[\u001b[39m'\u001b[39m\u001b[39mlocal_ns\u001b[39m\u001b[39m'\u001b[39m] \u001b[39m=\u001b[39m \u001b[39mself\u001b[39m\u001b[39m.\u001b[39mget_local_scope(stack_depth)\n\u001b[1;32m   2293\u001b[0m \u001b[39mwith\u001b[39;00m \u001b[39mself\u001b[39m\u001b[39m.\u001b[39mbuiltin_trap:\n\u001b[0;32m-> 2294\u001b[0m     result \u001b[39m=\u001b[39m fn(\u001b[39m*\u001b[39;49margs, \u001b[39m*\u001b[39;49m\u001b[39m*\u001b[39;49mkwargs)\n\u001b[1;32m   2295\u001b[0m \u001b[39mreturn\u001b[39;00m result\n",
      "File \u001b[0;32m~/opt/anaconda3/lib/python3.9/site-packages/IPython/core/magics/execution.py:707\u001b[0m, in \u001b[0;36mExecutionMagics.run\u001b[0;34m(self, parameter_s, runner, file_finder)\u001b[0m\n\u001b[1;32m    705\u001b[0m     \u001b[39mif\u001b[39;00m os\u001b[39m.\u001b[39mname \u001b[39m==\u001b[39m \u001b[39m'\u001b[39m\u001b[39mnt\u001b[39m\u001b[39m'\u001b[39m \u001b[39mand\u001b[39;00m re\u001b[39m.\u001b[39mmatch(\u001b[39mr\u001b[39m\u001b[39m\"\u001b[39m\u001b[39m^\u001b[39m\u001b[39m'\u001b[39m\u001b[39m.*\u001b[39m\u001b[39m'\u001b[39m\u001b[39m$\u001b[39m\u001b[39m\"\u001b[39m,fpath):\n\u001b[1;32m    706\u001b[0m         warn(\u001b[39m'\u001b[39m\u001b[39mFor Windows, use double quotes to wrap a filename: \u001b[39m\u001b[39m%r\u001b[39;00m\u001b[39mun \u001b[39m\u001b[39m\"\u001b[39m\u001b[39mmypath\u001b[39m\u001b[39m\\\\\u001b[39;00m\u001b[39mmyfile.py\u001b[39m\u001b[39m\"\u001b[39m\u001b[39m'\u001b[39m)\n\u001b[0;32m--> 707\u001b[0m     \u001b[39mraise\u001b[39;00m \u001b[39mException\u001b[39;00m(msg) \u001b[39mfrom\u001b[39;00m \u001b[39me\u001b[39;00m\n\u001b[1;32m    708\u001b[0m \u001b[39mexcept\u001b[39;00m \u001b[39mTypeError\u001b[39;00m:\n\u001b[1;32m    709\u001b[0m     \u001b[39mif\u001b[39;00m fpath \u001b[39min\u001b[39;00m sys\u001b[39m.\u001b[39mmeta_path:\n",
      "\u001b[0;31mException\u001b[0m: File `'/Users/thomasadler/Desktop/futuristic-platipus/notebooks/0-ta-packages.py'` not found."
     ]
    }
   ],
   "source": [
    "#importing relevant packages\n",
    "%run /Users/thomasadler/Desktop/futuristic-platipus/notebooks/0-ta-packages.py"
   ]
  },
  {
   "cell_type": "code",
   "execution_count": null,
   "id": "41afd3b6",
   "metadata": {},
   "outputs": [],
   "source": [
    "#defining working directory\n",
    "filepath = '/Users/thomasadler/Desktop/capstone_docs/'"
   ]
  },
  {
   "cell_type": "markdown",
   "id": "5189f8bd",
   "metadata": {},
   "source": [
    "## Visualising conflicts"
   ]
  },
  {
   "cell_type": "code",
   "execution_count": null,
   "id": "ec6f11db",
   "metadata": {},
   "outputs": [],
   "source": [
    "#load dataset\n",
    "conflict_df=pd.read_csv(filepath+'uganda_conflict_df_clean.csv')"
   ]
  },
  {
   "cell_type": "code",
   "execution_count": null,
   "id": "40e7e2a7",
   "metadata": {},
   "outputs": [],
   "source": [
    "#convert to datetime\n",
    "conflict_df['event_date']=pd.to_datetime(conflict_df['event_date'])\n",
    "\n",
    "#then to date\n",
    "conflict_df['event_date']=conflict_df['event_date'].dt.date\n",
    "\n",
    "#back to datetime\n",
    "conflict_df['event_date']=pd.to_datetime(conflict_df['event_date'])"
   ]
  },
  {
   "cell_type": "code",
   "execution_count": null,
   "id": "e29a8946",
   "metadata": {},
   "outputs": [],
   "source": [
    "#construct working dataset\n",
    "working_conflict_df=conflict_df[['event_date', 'clean_adm1', 'clean_adm2', 'clean_adm3', 'clean_adm4','latitude','longitude' ,'fatalities']]"
   ]
  },
  {
   "cell_type": "code",
   "execution_count": null,
   "id": "bbcf5693",
   "metadata": {},
   "outputs": [],
   "source": [
    "#sneak peek\n",
    "working_conflict_df.head()"
   ]
  },
  {
   "cell_type": "code",
   "execution_count": null,
   "id": "efe56769",
   "metadata": {},
   "outputs": [],
   "source": [
    "#datatypes\n",
    "working_conflict_df.info()"
   ]
  },
  {
   "cell_type": "markdown",
   "id": "69626859",
   "metadata": {},
   "source": [
    "### Conflicts over time in uganda"
   ]
  },
  {
   "cell_type": "code",
   "execution_count": null,
   "id": "2654dc99",
   "metadata": {},
   "outputs": [],
   "source": [
    "#fatalities by date\n",
    "fatalities_date=working_conflict_df.groupby('event_date').sum()"
   ]
  },
  {
   "cell_type": "code",
   "execution_count": null,
   "id": "33247b98",
   "metadata": {},
   "outputs": [],
   "source": [
    "#events by date\n",
    "events_date=working_conflict_df.groupby('event_date').count()"
   ]
  },
  {
   "cell_type": "code",
   "execution_count": null,
   "id": "6bacbf7b",
   "metadata": {},
   "outputs": [],
   "source": [
    "#num of fatalities and events over time -1 TS plot\n",
    "fig = make_subplots(specs=[[{\"secondary_y\": True}]])\n",
    "\n",
    "fig.add_trace(\n",
    "    go.Scatter(x=fatalities_date.index, y=fatalities_date['fatalities'], name=\"Number of fatalities\"),\n",
    "    secondary_y=False,\n",
    ")\n",
    "\n",
    "fig.add_trace(\n",
    "    go.Scatter(x=events_date.index, y=events_date['fatalities'], name=\"Number of events\"),\n",
    "    secondary_y=True,\n",
    ")\n",
    "fig.update_yaxes(title_text=\"Number of fatalities\", secondary_y=False)\n",
    "fig.update_yaxes(title_text=\"Number of events\", secondary_y=True)\n",
    "fig.update_layout(title=\"Uganda Events and Fatalities\")\n",
    "fig.update_xaxes(rangeslider_visible=True)\n",
    "fig.update_traces(opacity=0.65)\n",
    "\n",
    "fig.show()"
   ]
  },
  {
   "cell_type": "markdown",
   "id": "ea8fa856",
   "metadata": {},
   "source": [
    "### Conflicts in regions"
   ]
  },
  {
   "cell_type": "code",
   "execution_count": null,
   "id": "0d5dbf65",
   "metadata": {},
   "outputs": [],
   "source": [
    "#num of fatalities by region\n",
    "fatalities_date_adm1=working_conflict_df[['clean_adm1', 'fatalities']].groupby('clean_adm1').sum().sort_values('fatalities', ascending=False).head(10)\n",
    "fatalities_date_adm2=working_conflict_df[['clean_adm2', 'fatalities']].groupby('clean_adm2').sum().sort_values('fatalities', ascending=False).head(10)\n",
    "fatalities_date_adm3=working_conflict_df[['clean_adm3', 'fatalities']].groupby('clean_adm3').sum().sort_values('fatalities', ascending=False).head(10)"
   ]
  },
  {
   "cell_type": "code",
   "execution_count": null,
   "id": "37d95a1b",
   "metadata": {},
   "outputs": [],
   "source": [
    "#events by region\n",
    "events_date_adm1=working_conflict_df[['clean_adm1', 'fatalities']].groupby('clean_adm1').count().sort_values('fatalities', ascending=False).head(10)\n",
    "events_date_adm2=working_conflict_df[['clean_adm2', 'fatalities']].groupby('clean_adm2').count().sort_values('fatalities', ascending=False).head(10)\n",
    "events_date_adm3=working_conflict_df[['clean_adm3', 'fatalities']].groupby('clean_adm3').count().sort_values('fatalities', ascending=False).head(10)"
   ]
  },
  {
   "cell_type": "code",
   "execution_count": null,
   "id": "7ca94630",
   "metadata": {},
   "outputs": [],
   "source": [
    "fig = px.bar(fatalities_date_adm1, x=fatalities_date_adm1.index, y=\"fatalities\", title=\"Adm1-Number of fatalities\")\n",
    "fig.show()"
   ]
  },
  {
   "cell_type": "code",
   "execution_count": null,
   "id": "693a4ef9",
   "metadata": {},
   "outputs": [],
   "source": [
    "fig = px.bar(fatalities_date_adm2, x=fatalities_date_adm2.index, y=\"fatalities\", title=\"Adm2-Number of fatalities\")\n",
    "fig.show()"
   ]
  },
  {
   "cell_type": "code",
   "execution_count": null,
   "id": "de5351c8",
   "metadata": {},
   "outputs": [],
   "source": [
    "fig = px.bar(fatalities_date_adm3, x=fatalities_date_adm3.index, y=\"fatalities\", title=\"Adm3-Number of fatalities\")\n",
    "fig.show()"
   ]
  },
  {
   "cell_type": "code",
   "execution_count": null,
   "id": "506e7293",
   "metadata": {},
   "outputs": [],
   "source": [
    "fig = px.bar(events_date_adm1, x=events_date_adm1.index, y=\"fatalities\", title=\"Adm1-Number of events\")\n",
    "fig.show()"
   ]
  },
  {
   "cell_type": "code",
   "execution_count": null,
   "id": "6219dea0",
   "metadata": {},
   "outputs": [],
   "source": [
    "fig = px.bar(events_date_adm2, x=events_date_adm2.index, y=\"fatalities\", title=\"Adm2-Number of events\")\n",
    "fig.show()"
   ]
  },
  {
   "cell_type": "code",
   "execution_count": null,
   "id": "623a546b",
   "metadata": {},
   "outputs": [],
   "source": [
    "fig = px.bar(events_date_adm3, x=events_date_adm3.index, y=\"fatalities\",title=\"Adm3-Number of events\")\n",
    "fig.show()"
   ]
  },
  {
   "cell_type": "markdown",
   "id": "a8a6f36b",
   "metadata": {},
   "source": [
    "### Conflicts over time per region"
   ]
  },
  {
   "cell_type": "code",
   "execution_count": null,
   "id": "5ceaa19b",
   "metadata": {},
   "outputs": [],
   "source": [
    "#convert datetime to string\n",
    "working_conflict_df['event_year']=pd.DatetimeIndex(working_conflict_df['event_date']).year\n",
    "working_conflict_df.info()"
   ]
  },
  {
   "cell_type": "code",
   "execution_count": null,
   "id": "f6d7bcd1",
   "metadata": {
    "scrolled": true
   },
   "outputs": [],
   "source": [
    "# Conflicts over time on a map\n",
    "fig = px.scatter_geo(\n",
    "    working_conflict_df,\n",
    "    lon='longitude', lat='latitude', \n",
    "    size='fatalities', \n",
    "    height=600,\n",
    "    width=800,\n",
    "    animation_frame='event_year'\n",
    ")\n",
    "\n",
    "fig.show()"
   ]
  },
  {
   "cell_type": "markdown",
   "id": "a007c12b",
   "metadata": {},
   "source": [
    "## Visualising water points"
   ]
  },
  {
   "cell_type": "code",
   "execution_count": null,
   "id": "21a079a0",
   "metadata": {},
   "outputs": [],
   "source": [
    "#loading dataset\n",
    "water_df=pd.read_csv(filepath+'uganda_water_df_clean.csv')"
   ]
  },
  {
   "cell_type": "code",
   "execution_count": null,
   "id": "a8c8d1fc",
   "metadata": {},
   "outputs": [],
   "source": [
    "#convert to datetime\n",
    "water_df['install_year']=pd.to_datetime(water_df[ 'install_year'])\n",
    "water_df['report_date']=pd.to_datetime(water_df[ 'report_date'])\n",
    "\n",
    "#then to year\n",
    "water_df['install_year']=water_df[ 'install_year'].dt.year\n",
    "\n",
    "#water_df['install_year']=water_df['install_year'].astype('float32')\n",
    "#then to year\n",
    "#water_df[['report_year', 'install_year']]=water_df[['report_date', 'install_year']].dt.year\n",
    "#back to datetime\n",
    "#water_df[['report_date', 'install_year']]=pd.to_datetime(water_df[['report_date', 'install_year']]\n",
    "#also for report date)"
   ]
  },
  {
   "cell_type": "code",
   "execution_count": null,
   "id": "f4cfce91",
   "metadata": {},
   "outputs": [],
   "source": [
    "#sneak peek\n",
    "water_df.info()"
   ]
  },
  {
   "cell_type": "code",
   "execution_count": null,
   "id": "bae13665",
   "metadata": {},
   "outputs": [],
   "source": [
    "water_df['staleness_score'].value_counts()"
   ]
  },
  {
   "cell_type": "code",
   "execution_count": null,
   "id": "c674e2af",
   "metadata": {},
   "outputs": [],
   "source": [
    "water_df['management_clean'].value_counts()"
   ]
  },
  {
   "cell_type": "code",
   "execution_count": null,
   "id": "ee4e3f54",
   "metadata": {},
   "outputs": [],
   "source": [
    "water_df.columns"
   ]
  },
  {
   "cell_type": "code",
   "execution_count": null,
   "id": "c358fbea",
   "metadata": {},
   "outputs": [],
   "source": [
    "#create dataframe of unique water points\n",
    "unique_water_df=water_df[['wpdx_id','lat_deg','lon_deg', 'install_year',\\\n",
    "                                      'usage_cap', 'crucialness', 'pressure',\\\n",
    "                                      'served_population']].groupby('wpdx_id').mean()"
   ]
  },
  {
   "cell_type": "code",
   "execution_count": null,
   "id": "24676fd6",
   "metadata": {},
   "outputs": [],
   "source": [
    "#checking\n",
    "unique_water_df.head()"
   ]
  },
  {
   "cell_type": "code",
   "execution_count": null,
   "id": "21e4b595",
   "metadata": {},
   "outputs": [],
   "source": [
    "#construct barebone dataset including duplicate reports\n",
    "working_water_df=water_df[['wpdx_id','lat_deg','lon_deg','report_date', 'clean_adm1', 'clean_adm2',\\\n",
    "                           'clean_adm3', 'install_year', 'usage_cap', 'crucialness', 'pressure',\\\n",
    "                           'served_population', 'status_id']]"
   ]
  },
  {
   "cell_type": "markdown",
   "id": "47f67113",
   "metadata": {},
   "source": [
    "### Water points in Uganda"
   ]
  },
  {
   "cell_type": "code",
   "execution_count": null,
   "id": "d82b1d31",
   "metadata": {},
   "outputs": [],
   "source": [
    "#merging unique water points with their location\n",
    "water_location=unique_water_df.merge(working_water_df, left_on=unique_water_df.index, right_on=working_water_df['wpdx_id'], how='left')"
   ]
  },
  {
   "cell_type": "code",
   "execution_count": null,
   "id": "1c75a236",
   "metadata": {},
   "outputs": [],
   "source": [
    "#count water points by region\n",
    "wp_adm1=water_location[['clean_adm1', 'key_0']].groupby('clean_adm1').count().sort_values('key_0', ascending=False).head(10)\n",
    "wp_adm2=water_location[['clean_adm2', 'key_0']].groupby('clean_adm2').count().sort_values('key_0', ascending=False).head(10)\n",
    "wp_adm3=water_location[['clean_adm3', 'key_0']].groupby('clean_adm3').count().sort_values('key_0', ascending=False).head(10)"
   ]
  },
  {
   "cell_type": "code",
   "execution_count": null,
   "id": "dbef9ae3",
   "metadata": {},
   "outputs": [],
   "source": [
    "fig = px.bar(wp_adm1, x=wp_adm1.index, y=\"key_0\",title=\"Adm1-Number of water points\")\n",
    "fig.show()"
   ]
  },
  {
   "cell_type": "code",
   "execution_count": null,
   "id": "6e95232d",
   "metadata": {},
   "outputs": [],
   "source": [
    "fig = px.bar(wp_adm2, x=wp_adm2.index, y=\"key_0\",title=\"Adm2-Number of water points\")\n",
    "fig.show()"
   ]
  },
  {
   "cell_type": "code",
   "execution_count": null,
   "id": "1e060be5",
   "metadata": {},
   "outputs": [],
   "source": [
    "fig = px.bar(wp_adm3, x=wp_adm3.index, y=\"key_0\",title=\"Adm3-Number of water points\")\n",
    "fig.show()"
   ]
  },
  {
   "cell_type": "markdown",
   "id": "ec1b5626",
   "metadata": {},
   "source": [
    "### Constructions over time"
   ]
  },
  {
   "cell_type": "code",
   "execution_count": null,
   "id": "6e14448c",
   "metadata": {},
   "outputs": [],
   "source": [
    "fig = px.histogram(unique_water_df, x=\"install_year\", title='Water point installations')\n",
    "fig.show()"
   ]
  },
  {
   "cell_type": "markdown",
   "id": "21cbb7a8",
   "metadata": {},
   "source": [
    "### 3 region comparison"
   ]
  },
  {
   "cell_type": "markdown",
   "id": "cc99fde7",
   "metadata": {},
   "source": [
    "#### Violent region Agago"
   ]
  },
  {
   "cell_type": "code",
   "execution_count": null,
   "id": "6c2f167f",
   "metadata": {},
   "outputs": [],
   "source": [
    "#violent adm3 - \"Agago\"\n",
    "agago_water_df=working_water_df[working_water_df['clean_adm3']=='Agago']"
   ]
  },
  {
   "cell_type": "code",
   "execution_count": null,
   "id": "27b2b9ac",
   "metadata": {},
   "outputs": [],
   "source": [
    "#number water points\n",
    "agago_water_df['wpdx_id'].value_counts()"
   ]
  },
  {
   "cell_type": "code",
   "execution_count": null,
   "id": "aeb15b05",
   "metadata": {},
   "outputs": [],
   "source": [
    "unique_water_agago_df=agago_water_df.groupby('wpdx_id').mean()\n",
    "fig = px.histogram(unique_water_agago_df, x=\"install_year\", title='Agago water point installations')\n",
    "fig.show()"
   ]
  },
  {
   "cell_type": "code",
   "execution_count": null,
   "id": "625765eb",
   "metadata": {},
   "outputs": [],
   "source": [
    "#create table for one water point\n",
    "onewaterpoint=agago_water_df[['wpdx_id', 'report_date','install_year','usage_cap']][agago_water_df['wpdx_id']=='6GJMWFRF+329']\n",
    "onewaterpoint.head()"
   ]
  },
  {
   "cell_type": "code",
   "execution_count": null,
   "id": "de46ea2f",
   "metadata": {},
   "outputs": [],
   "source": [
    "#create the range\n",
    "first_day = onewaterpoint['report_date'].min()\n",
    "onewaterpoint['install_year_dt']=pd.to_datetime(onewaterpoint['install_year'].astype('float32'), format='%Y')\n",
    "installed_year=onewaterpoint['install_year_dt'].mean()\n",
    "last_day=datetime(2022, 6, 30)"
   ]
  },
  {
   "cell_type": "code",
   "execution_count": null,
   "id": "2b223191",
   "metadata": {},
   "outputs": [],
   "source": [
    "if first_day>installed_year:\n",
    "    first_day=installed_year\n",
    "else:\n",
    "    first_day=first_day"
   ]
  },
  {
   "cell_type": "code",
   "execution_count": null,
   "id": "4e963d83",
   "metadata": {},
   "outputs": [],
   "source": [
    "print(first_day, installed_year, last_day)"
   ]
  },
  {
   "cell_type": "code",
   "execution_count": null,
   "id": "e81f0774",
   "metadata": {},
   "outputs": [],
   "source": [
    "onewaterpoint=onewaterpoint.groupby(['report_date', 'wpdx_id']).mean()\n",
    "onewaterpoint.reset_index(level=1,inplace=True)\n",
    "onewaterpoint"
   ]
  },
  {
   "cell_type": "code",
   "execution_count": null,
   "id": "31777d94",
   "metadata": {},
   "outputs": [],
   "source": [
    "point_df=onewaterpoint.reindex(pd.date_range(start=first_day, end=last_day, freq=\"d\"))\n",
    "point_df.info()"
   ]
  },
  {
   "cell_type": "code",
   "execution_count": null,
   "id": "d882853a",
   "metadata": {},
   "outputs": [],
   "source": [
    "point_df = point_df.fillna(method='ffill')\n",
    "point_df.info()"
   ]
  },
  {
   "cell_type": "code",
   "execution_count": null,
   "id": "96cbfc72",
   "metadata": {},
   "outputs": [],
   "source": [
    "point_df = point_df.fillna(0)\n",
    "point_df.info()"
   ]
  },
  {
   "cell_type": "code",
   "execution_count": null,
   "id": "ba4bac09",
   "metadata": {},
   "outputs": [],
   "source": [
    "fig = px.line(point_df, x=point_df.index, y=point_df['usage_cap'], title='Water point installations')\n",
    "fig.show()"
   ]
  },
  {
   "cell_type": "code",
   "execution_count": null,
   "id": "5a5db270",
   "metadata": {},
   "outputs": [],
   "source": [
    "master = pd.DataFrame()\n",
    "master=pd.concat([master, point_df])\n",
    "master.tail()\n",
    "\n",
    "final_timeseries=master['usage_cap'].groupby(level=0).mean()\n",
    "final_timeseries"
   ]
  },
  {
   "cell_type": "code",
   "execution_count": null,
   "id": "840193e2",
   "metadata": {},
   "outputs": [],
   "source": [
    "fig = px.line(final_timeseries, x=final_timeseries.index, y=final_timeseries.values, title='Water point quality')\n",
    "fig.show()"
   ]
  },
  {
   "cell_type": "code",
   "execution_count": null,
   "id": "9cf937d4",
   "metadata": {},
   "outputs": [],
   "source": [
    "def ts_quality(df):\n",
    "    master_df = pd.DataFrame()\n",
    "    unique_points = df['wpdx_id'].unique()\n",
    "    for id in unique_points:\n",
    "        onewaterpoint=df[['wpdx_id', 'report_date','install_year','usage_cap', 'crucialness',\\\n",
    "                          'pressure', 'served_population','functioning']][df['wpdx_id']==id]\n",
    "        first_day = onewaterpoint['report_date'].min()\n",
    "        onewaterpoint['install_year_dt'] = pd.to_datetime(\n",
    "            onewaterpoint['install_year'].astype('float32'), format='%Y')\n",
    "        installed_year = onewaterpoint['install_year_dt'].mean()\n",
    "        last_day = datetime(2022, 6, 30)\n",
    "\n",
    "        first_day = onewaterpoint['report_date'].min()\n",
    "        onewaterpoint['install_year_dt'] = pd.to_datetime(\n",
    "            onewaterpoint['install_year'].astype('float32'), format='%Y')\n",
    "        installed_year = onewaterpoint['install_year_dt'].mean()\n",
    "        last_day = datetime(2022, 6, 30)\n",
    "\n",
    "        if pd.isnull(first_day) == True:\n",
    "            first_day = datetime(2022, 6, 29)\n",
    "        elif first_day > installed_year:\n",
    "            first_day = installed_year\n",
    "        else:\n",
    "            first_day = first_day\n",
    "        onewaterpoint = onewaterpoint.groupby(['report_date',\n",
    "                                               'wpdx_id']).mean()\n",
    "        onewaterpoint.reset_index(level=1, inplace=True)\n",
    "        onewaterpoint\n",
    "\n",
    "        point_df = onewaterpoint.reindex(\n",
    "            pd.date_range(start=first_day, end=last_day, freq=\"d\"))\n",
    "        point_df = point_df.fillna(method='ffill')\n",
    "        point_df = point_df.fillna(0)\n",
    "        master_df = pd.concat([master_df, point_df])\n",
    "    final_timeseries=master_df[['usage_cap', 'crucialness',\\\n",
    "                          'pressure', 'served_population', 'functioning']].groupby(level=0).sum()\n",
    "    return final_timeseries"
   ]
  },
  {
   "cell_type": "code",
   "execution_count": null,
   "id": "8850a6a5",
   "metadata": {},
   "outputs": [],
   "source": [
    "agago_water_df['functioning']=agago_water_df['status_id'].map({'Yes': 1, 'No': 0,  'Unknown': 0})"
   ]
  },
  {
   "cell_type": "code",
   "execution_count": null,
   "id": "27a3333e",
   "metadata": {},
   "outputs": [],
   "source": [
    "agago_water_ts=ts_quality(agago_water_df)"
   ]
  },
  {
   "cell_type": "code",
   "execution_count": null,
   "id": "f8d0fe66",
   "metadata": {},
   "outputs": [],
   "source": [
    "agago_water_ts.tail()"
   ]
  },
  {
   "cell_type": "code",
   "execution_count": null,
   "id": "337f6811",
   "metadata": {},
   "outputs": [],
   "source": [
    "fig = px.line(agago_water_ts, x=agago_water_ts.index, y=agago_water_ts['served_population'], title='Water point usage capacity Agago')\n",
    "fig.show()"
   ]
  },
  {
   "cell_type": "code",
   "execution_count": null,
   "id": "99501afd",
   "metadata": {},
   "outputs": [],
   "source": [
    "fig = make_subplots(specs=[[{\"secondary_y\": True}]])\n",
    "\n",
    "fig.add_trace(\n",
    "    go.Scatter(x=agago_water_ts.index,\n",
    "               y=agago_water_ts['usage_cap'],\n",
    "               name=\"Usage capacity\"),\n",
    "    secondary_y=False,\n",
    ")\n",
    "\n",
    "fig.add_trace(\n",
    "    go.Scatter(x=agago_water_ts.index,\n",
    "               y=agago_water_ts['served_population'],\n",
    "               name=\"Served population\"),\n",
    "    secondary_y=True,\n",
    ")\n",
    "fig.update_yaxes(title_text=\"Usage capacity\", secondary_y=False)\n",
    "fig.update_yaxes(title_text=\"Served population\", secondary_y=True)\n",
    "fig.update_layout(title=\"Agago water quality\")\n",
    "fig.update_xaxes(rangeslider_visible=True)\n",
    "\n",
    "fig.show()"
   ]
  },
  {
   "cell_type": "code",
   "execution_count": null,
   "id": "4e6648cb",
   "metadata": {},
   "outputs": [],
   "source": [
    "lira_water_df=working_water_df[working_water_df['clean_adm2']=='Lira']"
   ]
  },
  {
   "cell_type": "code",
   "execution_count": null,
   "id": "9bd56745",
   "metadata": {},
   "outputs": [],
   "source": [
    "lira_water_df['functioning']=lira_water_df['status_id'].map({'Yes': 1, 'No': 0,  'Unknown': 0})"
   ]
  },
  {
   "cell_type": "code",
   "execution_count": null,
   "id": "b95d9c77",
   "metadata": {},
   "outputs": [],
   "source": [
    "lira_water_ts=ts_quality(lira_water_df)"
   ]
  },
  {
   "cell_type": "code",
   "execution_count": null,
   "id": "13b21023",
   "metadata": {},
   "outputs": [],
   "source": [
    "fig = make_subplots(specs=[[{\"secondary_y\": True}]])\n",
    "\n",
    "fig.add_trace(\n",
    "    go.Scatter(x=lira_water_ts.index,\n",
    "               y=lira_water_ts['usage_cap'],\n",
    "               name=\"Usage capacity\"),\n",
    "    secondary_y=False,\n",
    ")\n",
    "\n",
    "fig.add_trace(\n",
    "    go.Scatter(x=lira_water_ts.index,\n",
    "               y=lira_water_ts['served_population'],\n",
    "               name=\"Served population\"),\n",
    "    secondary_y=True,\n",
    ")\n",
    "fig.update_yaxes(title_text=\"Usage capacity\", secondary_y=False)\n",
    "fig.update_yaxes(title_text=\"Served population\", secondary_y=True)\n",
    "fig.update_layout(title=\"Lira water quality\")\n",
    "fig.update_xaxes(rangeslider_visible=True)\n",
    "\n",
    "fig.show()"
   ]
  },
  {
   "cell_type": "code",
   "execution_count": null,
   "id": "424521ae",
   "metadata": {},
   "outputs": [],
   "source": [
    "kamwenge_water_df=working_water_df[working_water_df['clean_adm2']=='Kamwenge']"
   ]
  },
  {
   "cell_type": "code",
   "execution_count": null,
   "id": "06c2fd60",
   "metadata": {},
   "outputs": [],
   "source": [
    "kamwenge_water_df['functioning']=kamwenge_water_df['status_id'].map({'Yes': 1, 'No': 0,  'Unknown': 0})"
   ]
  },
  {
   "cell_type": "code",
   "execution_count": null,
   "id": "82f47009",
   "metadata": {},
   "outputs": [],
   "source": [
    "kamwenge_water_ts=ts_quality(kamwenge_water_df)"
   ]
  },
  {
   "cell_type": "code",
   "execution_count": null,
   "id": "f6404b83",
   "metadata": {},
   "outputs": [],
   "source": [
    "fig = make_subplots(specs=[[{\"secondary_y\": True}]])\n",
    "\n",
    "fig.add_trace(\n",
    "    go.Scatter(x=kamwenge_water_ts.index, y=kamwenge_water_ts['usage_cap'], name=\"Usage capacity\"),\n",
    "    secondary_y=False,\n",
    ")\n",
    "\n",
    "fig.add_trace(\n",
    "    go.Scatter(x=kamwenge_water_ts.index, y=kamwenge_water_ts['served_population'], name=\"Served population\"),\n",
    "    secondary_y=True,\n",
    ")\n",
    "fig.update_yaxes(title_text=\"Usage capacity\", secondary_y=False)\n",
    "fig.update_yaxes(title_text=\"Served population\", secondary_y=True)\n",
    "fig.update_layout(title=\"Central water quality\")\n",
    "fig.update_xaxes(rangeslider_visible=True)\n",
    "\n",
    "fig.show()"
   ]
  },
  {
   "cell_type": "code",
   "execution_count": null,
   "id": "f78ac8ac",
   "metadata": {},
   "outputs": [],
   "source": [
    "kitgum_water_df=working_water_df[working_water_df['clean_adm2']=='Kitgum']"
   ]
  },
  {
   "cell_type": "code",
   "execution_count": null,
   "id": "a5a01625",
   "metadata": {},
   "outputs": [],
   "source": [
    "kitgum_water_df['functioning']=kitgum_water_df['status_id'].map({'Yes': 1, 'No': 0,  'Unknown': 0})"
   ]
  },
  {
   "cell_type": "code",
   "execution_count": null,
   "id": "bcc43682",
   "metadata": {},
   "outputs": [],
   "source": [
    "kitgum_water_ts=ts_quality(kitgum_water_df)"
   ]
  },
  {
   "cell_type": "code",
   "execution_count": null,
   "id": "0d9b2b2a",
   "metadata": {},
   "outputs": [],
   "source": [
    "fig = make_subplots(specs=[[{\"secondary_y\": True}]])\n",
    "\n",
    "fig.add_trace(\n",
    "    go.Scatter(x=kitgum_water_ts.index,\n",
    "               y=kitgum_water_ts['usage_cap'],\n",
    "               name=\"Usage capacity\"),\n",
    "    secondary_y=False,\n",
    ")\n",
    "\n",
    "fig.add_trace(\n",
    "    go.Scatter(x=kitgum_water_ts.index,\n",
    "               y=kitgum_water_ts['served_population'],\n",
    "               name=\"Served population\"),\n",
    "    secondary_y=True,\n",
    ")\n",
    "fig.update_yaxes(title_text=\"Usage capacity\", secondary_y=False)\n",
    "fig.update_yaxes(title_text=\"Served population\", secondary_y=True)\n",
    "fig.update_layout(title=\"Kitgum water quality\")\n",
    "fig.update_xaxes(rangeslider_visible=True)\n",
    "\n",
    "fig.show()"
   ]
  },
  {
   "cell_type": "markdown",
   "id": "f83552c2",
   "metadata": {},
   "source": [
    "# Overlay conflicts and water"
   ]
  },
  {
   "cell_type": "code",
   "execution_count": null,
   "id": "c2499c93",
   "metadata": {},
   "outputs": [],
   "source": [
    "#datasets for water\n",
    "agago_water_ts=agago_water_ts.copy()\n",
    "lira_water_ts=lira_water_ts.copy()\n",
    "kamwenge_water_ts=kamwenge_water_ts.copy()"
   ]
  },
  {
   "cell_type": "code",
   "execution_count": null,
   "id": "85ad75af",
   "metadata": {},
   "outputs": [],
   "source": [
    "kitgum_water_ts=kitgum_water_ts.copy()"
   ]
  },
  {
   "cell_type": "code",
   "execution_count": null,
   "id": "70a74f48",
   "metadata": {},
   "outputs": [],
   "source": [
    "#datasets for conflicts\n",
    "agago_conflict_ts=working_conflict_df[working_conflict_df['clean_adm3']=='Agago']\n",
    "lira_conflict_ts=working_conflict_df[working_conflict_df['clean_adm3']=='Lira']\n",
    "kamwenge_conflict_ts=working_conflict_df[working_conflict_df['clean_adm3']=='Kamwenge']\n",
    "kitgum_conflict_ts=working_conflict_df[working_conflict_df['clean_adm2']=='Kitgum']"
   ]
  },
  {
   "cell_type": "code",
   "execution_count": null,
   "id": "04889949",
   "metadata": {},
   "outputs": [],
   "source": [
    "#function to make a graph\n",
    "def time_series(df1, df2, variable1, variable2, region):\n",
    "    if variable2=='fatalities':\n",
    "        conflict_date=df2.groupby('event_date').sum()\n",
    "    else:\n",
    "        conflict_date=df2.groupby('event_date').count()\n",
    "    \n",
    "    fig = make_subplots(specs=[[{\"secondary_y\": True}]])\n",
    "\n",
    "    fig.add_trace(\n",
    "        go.Scatter(x=df1.index, y=df1[variable1], name=variable1),\n",
    "        secondary_y=False,\n",
    "    )\n",
    "\n",
    "    fig.add_trace(\n",
    "        go.Scatter(x=conflict_date.index, y=conflict_date['fatalities'], name=variable2),\n",
    "        secondary_y=True,\n",
    "    )\n",
    "    # Set y-axes titles\n",
    "    fig.update_yaxes(title_text=variable1, secondary_y=False)\n",
    "    fig.update_yaxes(title_text=variable2, secondary_y=True)\n",
    "    fig.update_layout(title=region)\n",
    "    fig.update_xaxes(rangeslider_visible=True)\n",
    "    fig.update_traces(opacity=0.65)\n",
    "    fig.update_layout(xaxis_range=[datetime(1997,1,1),datetime(2022,12,31)])\n",
    "\n",
    "    fig.show()"
   ]
  },
  {
   "cell_type": "code",
   "execution_count": null,
   "id": "e735c79d",
   "metadata": {},
   "outputs": [],
   "source": [
    "# usage_cap vs fatalities\n",
    "time_series(agago_water_ts, agago_conflict_ts, 'usage_cap', 'fatalities', 'Agago')\n",
    "time_series(lira_water_ts, lira_conflict_ts, 'usage_cap', 'fatalities', 'Lira')\n",
    "time_series(kamwenge_water_ts, kamwenge_conflict_ts, 'usage_cap', 'fatalities', 'Kamwenge')\n",
    "time_series(kitgum_water_ts, kitgum_conflict_ts, 'usage_cap', 'fatalities', 'Kitgum')"
   ]
  },
  {
   "cell_type": "raw",
   "id": "372d20e0",
   "metadata": {},
   "source": []
  },
  {
   "cell_type": "code",
   "execution_count": null,
   "id": "20eeaf29",
   "metadata": {},
   "outputs": [],
   "source": [
    "# usage_cap vs events in Agago\n",
    "time_series(agago_water_ts, agago_conflict_ts, 'usage_cap', 'events', 'Agago')\n",
    "time_series(lira_water_ts, lira_conflict_ts, 'usage_cap', 'events', 'Lira')\n",
    "time_series(kamwenge_water_ts, kamwenge_conflict_ts, 'usage_cap', 'events', 'Kamwenge')"
   ]
  },
  {
   "cell_type": "code",
   "execution_count": null,
   "id": "1d84c4c2",
   "metadata": {},
   "outputs": [],
   "source": [
    "# served_population vs fatalities in Agago\n",
    "time_series(agago_water_ts, agago_conflict_ts, 'served_population', 'fatalities', 'Agago')\n",
    "time_series(lira_water_ts, lira_conflict_ts, 'served_population', 'fatalities', 'Lira')\n",
    "time_series(kamwenge_water_ts, kamwenge_conflict_ts, 'served_population', 'fatalities', 'Kamwenge')"
   ]
  },
  {
   "cell_type": "code",
   "execution_count": null,
   "id": "d1611adc",
   "metadata": {},
   "outputs": [],
   "source": [
    "# served_population vs events in Agago\n",
    "time_series(agago_water_ts, agago_conflict_ts, 'served_population', 'events', 'Agago')\n",
    "time_series(lira_water_ts, lira_conflict_ts, 'served_population', 'events', 'Lira')\n",
    "time_series(kamwenge_water_ts, kamwenge_conflict_ts, 'served_population', 'events', 'Kamwenge')"
   ]
  },
  {
   "cell_type": "code",
   "execution_count": null,
   "id": "586f9af0",
   "metadata": {},
   "outputs": [],
   "source": [
    "time_series(kitgum_water_ts, kitgum_conflict_ts, 'served_population', 'events', 'Kitgum')"
   ]
  },
  {
   "cell_type": "code",
   "execution_count": null,
   "id": "5676c3c1",
   "metadata": {},
   "outputs": [],
   "source": [
    "water_datsets=[agago_water_ts, lira_water_ts, kamwenge_water_ts]\n",
    "\n",
    "for df in water_datsets:\n",
    "    df['opposite_crucialness']=100-df['crucialness']\n",
    "    df['opposite_pressure']=100-df['pressure']"
   ]
  },
  {
   "cell_type": "code",
   "execution_count": null,
   "id": "7935e0a6",
   "metadata": {},
   "outputs": [],
   "source": [
    "# 100 - crucialness vs fatalities in Agago\n",
    "time_series(agago_water_ts, agago_conflict_ts, 'opposite_crucialness', 'fatalities', 'Agago')\n",
    "time_series(lira_water_ts, lira_conflict_ts, 'opposite_crucialness', 'fatalities', 'Lira')\n",
    "time_series(kamwenge_water_ts, kamwenge_conflict_ts, 'opposite_crucialness', 'fatalities', 'Kamwenge')"
   ]
  },
  {
   "cell_type": "code",
   "execution_count": null,
   "id": "a16c0db6",
   "metadata": {},
   "outputs": [],
   "source": [
    "# 100 - crucialness vs events in Agago\n",
    "time_series(agago_water_ts, agago_conflict_ts, 'opposite_crucialness', 'events', 'Agago')\n",
    "time_series(lira_water_ts, lira_conflict_ts, 'opposite_crucialness', 'events', 'Lira')\n",
    "time_series(kamwenge_water_ts, kamwenge_conflict_ts, 'opposite_crucialness', 'events', 'Kamwenge')"
   ]
  },
  {
   "cell_type": "code",
   "execution_count": null,
   "id": "9b853e72",
   "metadata": {},
   "outputs": [],
   "source": [
    "# 100 - pressure vs fatalities in Agago\n",
    "time_series(agago_water_ts, agago_conflict_ts, 'opposite_pressure', 'fatalities', 'Agago')\n",
    "time_series(lira_water_ts, lira_conflict_ts, 'opposite_pressure', 'fatalities', 'Lira')\n",
    "time_series(kamwenge_water_ts, kamwenge_conflict_ts, 'opposite_pressure', 'fatalities', 'Kamwenge')"
   ]
  },
  {
   "cell_type": "code",
   "execution_count": null,
   "id": "09603ad4",
   "metadata": {},
   "outputs": [],
   "source": [
    "# 100 - pressure vs events in Agago\n",
    "time_series(agago_water_ts, agago_conflict_ts, 'opposite_pressure', 'events', 'Agago')\n",
    "time_series(lira_water_ts, lira_conflict_ts, 'opposite_pressure', 'events', 'Lira')\n",
    "time_series(kamwenge_water_ts, kamwenge_conflict_ts, 'opposite_pressure', 'events', 'Kamwenge')"
   ]
  },
  {
   "cell_type": "code",
   "execution_count": null,
   "id": "f902fbc9",
   "metadata": {},
   "outputs": [],
   "source": [
    "#Uganda\n",
    "fatalities_date=working_conflict_df.groupby('event_date').sum()\n",
    "events_date=working_conflict_df.groupby('event_date').count()\n",
    "install_date=working_water_df.groupby('install_year').count()"
   ]
  },
  {
   "cell_type": "code",
   "execution_count": null,
   "id": "2d9f6040",
   "metadata": {},
   "outputs": [],
   "source": [
    "#installations and events\n",
    "fig = make_subplots(specs=[[{\"secondary_y\": True}]])\n",
    "\n",
    "fig.add_trace(\n",
    "    go.Scatter(x=events_date.index, y=events_date['fatalities'], name='events'),\n",
    "    secondary_y=False,\n",
    ")\n",
    "\n",
    "fig.add_trace(\n",
    "    go.Scatter(x=install_date.index, y=install_date['wpdx_id'], name='installations'),\n",
    "    secondary_y=True,\n",
    ")\n",
    "# Set y-axes titles\n",
    "fig.update_yaxes(title_text='events', secondary_y=False)\n",
    "fig.update_yaxes(title_text='installations', secondary_y=True)\n",
    "fig.update_layout(title='Uganda')\n",
    "fig.update_xaxes(rangeslider_visible=True)\n",
    "fig.update_traces(opacity=0.65)\n",
    "fig.update_layout(xaxis_range=[datetime(1997,1,1),datetime(2022,12,31)])\n",
    "\n",
    "fig.show()"
   ]
  },
  {
   "cell_type": "code",
   "execution_count": null,
   "id": "4773b036",
   "metadata": {},
   "outputs": [],
   "source": [
    "#Agago\n",
    "agago_fatalities_date=agago_conflict_ts.groupby('event_date').sum()\n",
    "agago_events_date=agago_conflict_ts.groupby('event_date').count()\n",
    "agago_install_date=agago_water_df.groupby('install_year').count()\n",
    "\n",
    "fig = make_subplots(specs=[[{\"secondary_y\": True}]])\n",
    "\n",
    "fig.add_trace(\n",
    "    go.Scatter(x=agago_fatalities_date.index, y=agago_events_date['fatalities'], name='events'),\n",
    "    secondary_y=False,\n",
    ")\n",
    "\n",
    "fig.add_trace(\n",
    "    go.Scatter(x=agago_install_date.index, y=agago_install_date['wpdx_id'], name='installations'),\n",
    "    secondary_y=True,\n",
    ")\n",
    "# Set y-axes titles\n",
    "fig.update_yaxes(title_text='events', secondary_y=False)\n",
    "fig.update_yaxes(title_text='installations', secondary_y=True)\n",
    "fig.update_layout(title='Agago')\n",
    "fig.update_xaxes(rangeslider_visible=True)\n",
    "fig.update_traces(opacity=0.65)\n",
    "fig.update_layout(xaxis_range=[datetime(1997,1,1),datetime(2022,12,31)])\n",
    "\n",
    "fig.show()"
   ]
  },
  {
   "cell_type": "code",
   "execution_count": null,
   "id": "38e82c32",
   "metadata": {},
   "outputs": [],
   "source": [
    "#Lira\n",
    "lira_fatalities_date=lira_conflict_ts.groupby('event_date').sum()\n",
    "lira_events_date=lira_conflict_ts.groupby('event_date').count()\n",
    "lira_install_date=lira_water_df.groupby('install_year').count()\n",
    "\n",
    "fig = make_subplots(specs=[[{\"secondary_y\": True}]])\n",
    "\n",
    "fig.add_trace(\n",
    "    go.Scatter(x=lira_events_date.index, y=lira_events_date['fatalities'], name='events'),\n",
    "    secondary_y=False,\n",
    ")\n",
    "\n",
    "fig.add_trace(\n",
    "    go.Scatter(x=lira_install_date.index, y=lira_install_date['wpdx_id'], name='installations'),\n",
    "    secondary_y=True,\n",
    ")\n",
    "# Set y-axes titles\n",
    "fig.update_yaxes(title_text='events', secondary_y=False)\n",
    "fig.update_yaxes(title_text='installations', secondary_y=True)\n",
    "fig.update_layout(title='Lira')\n",
    "fig.update_xaxes(rangeslider_visible=True)\n",
    "fig.update_traces(opacity=0.65)\n",
    "fig.update_layout(xaxis_range=[datetime(1997,1,1),datetime(2022,12,31)])\n",
    "\n",
    "fig.show()"
   ]
  },
  {
   "cell_type": "code",
   "execution_count": null,
   "id": "0d3d9226",
   "metadata": {},
   "outputs": [],
   "source": [
    "#Kamwenge\n",
    "kamwenge_fatalities_date=kamwenge_conflict_ts.groupby('event_date').sum()\n",
    "kamwenge_events_date=kamwenge_conflict_ts.groupby('event_date').count()\n",
    "kamwenge_install_date=kamwenge_water_df.groupby('install_year').count()\n",
    "\n",
    "fig = make_subplots(specs=[[{\"secondary_y\": True}]])\n",
    "\n",
    "fig.add_trace(\n",
    "    go.Scatter(x=kamwenge_events_date.index, y=kamwenge_events_date['fatalities'], name='events'),\n",
    "    secondary_y=False,\n",
    ")\n",
    "\n",
    "fig.add_trace(\n",
    "    go.Scatter(x=kamwenge_install_date.index, y=kamwenge_install_date['wpdx_id'], name='installations'),\n",
    "    secondary_y=True,\n",
    ")\n",
    "# Set y-axes titles\n",
    "fig.update_yaxes(title_text='events', secondary_y=False)\n",
    "fig.update_yaxes(title_text='installations', secondary_y=True)\n",
    "fig.update_layout(title='Kamwenge')\n",
    "fig.update_xaxes(rangeslider_visible=True)\n",
    "fig.update_traces(opacity=0.65)\n",
    "fig.update_layout(xaxis_range=[datetime(1997,1,1),datetime(2022,12,31)])\n",
    "\n",
    "fig.show()"
   ]
  },
  {
   "cell_type": "code",
   "execution_count": null,
   "id": "8babff97",
   "metadata": {},
   "outputs": [],
   "source": [
    "water_df['status_id'].value_counts() #status and status clean?"
   ]
  },
  {
   "cell_type": "code",
   "execution_count": null,
   "id": "ee989eb8",
   "metadata": {},
   "outputs": [],
   "source": [
    "water_df['functioning']=water_df['status_id'].map({'Yes': 1, 'No': 0,  'Unknown': 0})"
   ]
  },
  {
   "cell_type": "code",
   "execution_count": null,
   "id": "a996eb98",
   "metadata": {},
   "outputs": [],
   "source": [
    "water_funct_year=water_df.groupby('install_year').sum()\n",
    "#installations and events\n",
    "fig = make_subplots(specs=[[{\"secondary_y\": True}]])\n",
    "\n",
    "fig.add_trace(\n",
    "    go.Scatter(x=events_date.index, y=events_date['fatalities'], name='events'),\n",
    "    secondary_y=False,\n",
    ")\n",
    "\n",
    "fig.add_trace(\n",
    "    go.Scatter(x=water_funct_year.index, y=water_funct_year['functioning'], name='functioning points'),\n",
    "    secondary_y=True,\n",
    ")\n",
    "# Set y-axes titles\n",
    "fig.update_yaxes(title_text='events', secondary_y=False)\n",
    "fig.update_yaxes(title_text='functioning points', secondary_y=True)\n",
    "fig.update_layout(title='Uganda')\n",
    "fig.update_xaxes(rangeslider_visible=True)\n",
    "fig.update_traces(opacity=0.65)\n",
    "fig.update_layout(xaxis_range=[datetime(1997,1,1),datetime(2022,12,31)])\n",
    "\n",
    "fig.show()"
   ]
  },
  {
   "cell_type": "code",
   "execution_count": null,
   "id": "6317a6b4",
   "metadata": {},
   "outputs": [],
   "source": [
    "#Agago\n",
    "agago_fatalities_date=agago_conflict_ts.groupby('event_date').sum()\n",
    "agago_events_date=agago_conflict_ts.groupby('event_date').count()\n",
    "\n",
    "agago_water_df['functioning']=agago_water_df['status_id'].map({'Yes': 1, 'No': 0,  'Unknown': 0})\n",
    "agagowater_funct_year=agago_water_df.groupby('install_year').count()\n",
    "\n",
    "fig = make_subplots(specs=[[{\"secondary_y\": True}]])\n",
    "\n",
    "fig.add_trace(\n",
    "    go.Scatter(x=agago_events_date.index, y=agago_events_date['fatalities'], name='events'),\n",
    "    secondary_y=False,\n",
    ")\n",
    "\n",
    "fig.add_trace(\n",
    "    go.Scatter(x=agagowater_funct_year.index, y=agagowater_funct_year['wpdx_id'], name='functioning points'),\n",
    "    secondary_y=True,\n",
    ")\n",
    "# Set y-axes titles\n",
    "fig.update_yaxes(title_text='events', secondary_y=False)\n",
    "fig.update_yaxes(title_text='functioning points', secondary_y=True)\n",
    "fig.update_layout(title='Agago')\n",
    "fig.update_xaxes(rangeslider_visible=True)\n",
    "fig.update_traces(opacity=0.65)\n",
    "fig.update_layout(xaxis_range=[datetime(1997,1,1),datetime(2022,12,31)])\n",
    "\n",
    "fig.show()"
   ]
  },
  {
   "cell_type": "code",
   "execution_count": null,
   "id": "37927878",
   "metadata": {},
   "outputs": [],
   "source": [
    "#Lira\n",
    "lira_fatalities_date=lira_conflict_ts.groupby('event_date').sum()\n",
    "lira_events_date=lira_conflict_ts.groupby('event_date').count()\n",
    "\n",
    "lira_water_df['functioning']=lira_water_df['status_id'].map({'Yes': 1, 'No': 0,  'Unknown': 0})\n",
    "lirawater_funct_year=lira_water_df.groupby('install_year').count()\n",
    "\n",
    "fig = make_subplots(specs=[[{\"secondary_y\": True}]])\n",
    "\n",
    "fig.add_trace(\n",
    "    go.Scatter(x=lira_events_date.index, y=lira_events_date['fatalities'], name='events'),\n",
    "    secondary_y=False,\n",
    ")\n",
    "\n",
    "fig.add_trace(\n",
    "    go.Scatter(x=lirawater_funct_year.index, y=lirawater_funct_year['wpdx_id'], name='functioning points'),\n",
    "    secondary_y=True,\n",
    ")\n",
    "# Set y-axes titles\n",
    "fig.update_yaxes(title_text='events', secondary_y=False)\n",
    "fig.update_yaxes(title_text='functioning points', secondary_y=True)\n",
    "fig.update_layout(title='Lira')\n",
    "fig.update_xaxes(rangeslider_visible=True)\n",
    "fig.update_traces(opacity=0.65)\n",
    "fig.update_layout(xaxis_range=[datetime(1997,1,1),datetime(2022,12,31)])\n",
    "\n",
    "fig.show()"
   ]
  },
  {
   "cell_type": "code",
   "execution_count": null,
   "id": "8968b2ca",
   "metadata": {},
   "outputs": [],
   "source": [
    "#Kamwenge\n",
    "kamwenge_fatalities_date=kamwenge_conflict_ts.groupby('event_date').sum()\n",
    "kamwenge_events_date=kamwenge_conflict_ts.groupby('event_date').count()\n",
    "\n",
    "kamwenge_water_df['functioning']=kamwenge_water_df['status_id'].map({'Yes': 1, 'No': 0,  'Unknown': 0})\n",
    "kamwengewater_funct_year=kamwenge_water_df.groupby('install_year').count()\n",
    "\n",
    "fig = make_subplots(specs=[[{\"secondary_y\": True}]])\n",
    "\n",
    "fig.add_trace(\n",
    "    go.Scatter(x=kamwenge_events_date.index, y=kamwenge_events_date['fatalities'], name='events'),\n",
    "    secondary_y=False,\n",
    ")\n",
    "\n",
    "fig.add_trace(\n",
    "    go.Scatter(x=kamwengewater_funct_year.index, y=kamwengewater_funct_year['wpdx_id'], name='functioning points'),\n",
    "    secondary_y=True,\n",
    ")\n",
    "# Set y-axes titles\n",
    "fig.update_yaxes(title_text='events', secondary_y=False)\n",
    "fig.update_yaxes(title_text='functioning points', secondary_y=True)\n",
    "fig.update_layout(title='Kamwenge')\n",
    "fig.update_xaxes(rangeslider_visible=True)\n",
    "fig.update_traces(opacity=0.65)\n",
    "fig.update_layout(xaxis_range=[datetime(1997,1,1),datetime(2022,12,31)])\n",
    "\n",
    "fig.show()"
   ]
  }
 ],
 "metadata": {
  "kernelspec": {
   "display_name": "Python 3.9.12 ('base')",
   "language": "python",
   "name": "python3"
  },
  "language_info": {
   "codemirror_mode": {
    "name": "ipython",
    "version": 3
   },
   "file_extension": ".py",
   "mimetype": "text/x-python",
   "name": "python",
   "nbconvert_exporter": "python",
   "pygments_lexer": "ipython3",
   "version": "3.9.12"
  },
  "toc": {
   "base_numbering": 1,
   "nav_menu": {},
   "number_sections": true,
   "sideBar": true,
   "skip_h1_title": false,
   "title_cell": "Table of Contents",
   "title_sidebar": "Contents",
   "toc_cell": false,
   "toc_position": {},
   "toc_section_display": true,
   "toc_window_display": false
  },
  "varInspector": {
   "cols": {
    "lenName": 16,
    "lenType": 16,
    "lenVar": 40
   },
   "kernels_config": {
    "python": {
     "delete_cmd_postfix": "",
     "delete_cmd_prefix": "del ",
     "library": "var_list.py",
     "varRefreshCmd": "print(var_dic_list())"
    },
    "r": {
     "delete_cmd_postfix": ") ",
     "delete_cmd_prefix": "rm(",
     "library": "var_list.r",
     "varRefreshCmd": "cat(var_dic_list()) "
    }
   },
   "types_to_exclude": [
    "module",
    "function",
    "builtin_function_or_method",
    "instance",
    "_Feature"
   ],
   "window_display": false
  },
  "vscode": {
   "interpreter": {
    "hash": "c6ceada7ab5ee6fcd72b8e8137f72bc53b2192058ef32f401c30586b94eefb2e"
   }
  }
 },
 "nbformat": 4,
 "nbformat_minor": 5
}
