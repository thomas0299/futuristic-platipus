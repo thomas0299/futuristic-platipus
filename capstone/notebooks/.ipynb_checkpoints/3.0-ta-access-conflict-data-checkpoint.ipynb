{
 "cells": [
  {
   "cell_type": "markdown",
   "id": "807752d7",
   "metadata": {},
   "source": [
    "# Accessing Conflict Data\n",
    "- [Armed Conflict Location & Event Data Website](https://acleddata.com/#/dashboard) \n",
    "- [API Guide](https://developer.acleddata.com/rehd/cms/views/acled_api/documents/API-User-Guide.pdf)\n",
    "- [Dictionary](https://acleddata.com/acleddatanew//wp-content/uploads/2021/11/ACLED_Data-Columns_v1_April-2019.pdf)\n",
    "- [Codebook](https://acleddata.com/acleddatanew//wp-content/uploads/2021/11/ACLED_Codebook_v1_January-2021.pdf)\n",
    "- [Full Documentation](https://acleddata.com/resources/#1643628716684-37d18c29-1234)\n"
   ]
  },
  {
   "cell_type": "code",
   "execution_count": 1,
   "id": "b6c14b95",
   "metadata": {},
   "outputs": [],
   "source": [
    "#importing relevant packages\n",
    "%run /Users/thomasadler/Desktop/futuristic-platipus/notebooks/0-ta-packages.py"
   ]
  },
  {
   "cell_type": "code",
   "execution_count": 2,
   "id": "e0e0fe54",
   "metadata": {},
   "outputs": [],
   "source": [
    "#fetching hidden api key and username from desktop stored under 'conflict_api_key' and 'conflict_api_email'\n",
    "%run /Users/thomasadler/Desktop/futuristic-platipus/keys.py"
   ]
  },
  {
   "cell_type": "code",
   "execution_count": 3,
   "id": "6ca1e2b4",
   "metadata": {},
   "outputs": [],
   "source": [
    "#defining working directory\n",
    "filepath = '/Users/thomasadler/Desktop/capstone_docs/'"
   ]
  },
  {
   "cell_type": "code",
   "execution_count": 4,
   "id": "ff21a6e0",
   "metadata": {},
   "outputs": [],
   "source": [
    "#setting API endpoint,\n",
    "conflict_api_endpoint = \"https://api.acleddata.com/acled/read\""
   ]
  },
  {
   "cell_type": "code",
   "execution_count": 5,
   "id": "98348787",
   "metadata": {},
   "outputs": [],
   "source": [
    "#Uganda ISO code is 800\n",
    "uganda_iso = 800"
   ]
  },
  {
   "cell_type": "code",
   "execution_count": 6,
   "id": "92efe247",
   "metadata": {},
   "outputs": [],
   "source": [
    "# sending post request\n",
    "conflict_r = requests.get(f'{conflict_api_endpoint}?key={conflict_api_key}&email={conflict_api_email}&limit=0&iso={uganda_iso}.csv')\n",
    "\n",
    "#saving as json data\n",
    "data = conflict_r.json()\n",
    "\n",
    "#extract events information\n",
    "events = data['data']\n",
    "\n",
    "#save to a dataframe\n",
    "uganda_conflict = pd.DataFrame(events)"
   ]
  },
  {
   "cell_type": "code",
   "execution_count": 7,
   "id": "a8623c3b",
   "metadata": {},
   "outputs": [],
   "source": [
    "#leaving raw dataset untouched\n",
    "uganda_conflict_df= uganda_conflict.copy()"
   ]
  },
  {
   "cell_type": "code",
   "execution_count": 8,
   "id": "859c14dd",
   "metadata": {},
   "outputs": [
    {
     "data": {
      "text/html": [
       "<div>\n",
       "<style scoped>\n",
       "    .dataframe tbody tr th:only-of-type {\n",
       "        vertical-align: middle;\n",
       "    }\n",
       "\n",
       "    .dataframe tbody tr th {\n",
       "        vertical-align: top;\n",
       "    }\n",
       "\n",
       "    .dataframe thead th {\n",
       "        text-align: right;\n",
       "    }\n",
       "</style>\n",
       "<table border=\"1\" class=\"dataframe\">\n",
       "  <thead>\n",
       "    <tr style=\"text-align: right;\">\n",
       "      <th></th>\n",
       "      <th>data_id</th>\n",
       "      <th>iso</th>\n",
       "      <th>event_id_cnty</th>\n",
       "      <th>event_id_no_cnty</th>\n",
       "      <th>event_date</th>\n",
       "      <th>year</th>\n",
       "      <th>time_precision</th>\n",
       "      <th>event_type</th>\n",
       "      <th>sub_event_type</th>\n",
       "      <th>actor1</th>\n",
       "      <th>...</th>\n",
       "      <th>location</th>\n",
       "      <th>latitude</th>\n",
       "      <th>longitude</th>\n",
       "      <th>geo_precision</th>\n",
       "      <th>source</th>\n",
       "      <th>source_scale</th>\n",
       "      <th>notes</th>\n",
       "      <th>fatalities</th>\n",
       "      <th>timestamp</th>\n",
       "      <th>iso3</th>\n",
       "    </tr>\n",
       "  </thead>\n",
       "  <tbody>\n",
       "    <tr>\n",
       "      <th>7772</th>\n",
       "      <td>6876098</td>\n",
       "      <td>800</td>\n",
       "      <td>UGA5</td>\n",
       "      <td>5</td>\n",
       "      <td>1997-01-11</td>\n",
       "      <td>1997</td>\n",
       "      <td>1</td>\n",
       "      <td>Violence against civilians</td>\n",
       "      <td>Abduction/forced disappearance</td>\n",
       "      <td>LRA: Lords Resistance Army</td>\n",
       "      <td>...</td>\n",
       "      <td>Acholi-Bur</td>\n",
       "      <td>3.1258</td>\n",
       "      <td>32.9197</td>\n",
       "      <td>1</td>\n",
       "      <td>New York Times</td>\n",
       "      <td>International</td>\n",
       "      <td>LRA abduct an unknown number of people taking ...</td>\n",
       "      <td>0</td>\n",
       "      <td>1618581922</td>\n",
       "      <td>UGA</td>\n",
       "    </tr>\n",
       "    <tr>\n",
       "      <th>7773</th>\n",
       "      <td>6876117</td>\n",
       "      <td>800</td>\n",
       "      <td>UGA4</td>\n",
       "      <td>4</td>\n",
       "      <td>1997-01-08</td>\n",
       "      <td>1997</td>\n",
       "      <td>1</td>\n",
       "      <td>Battles</td>\n",
       "      <td>Armed clash</td>\n",
       "      <td>Military Forces of Uganda (1986-)</td>\n",
       "      <td>...</td>\n",
       "      <td>Kasese</td>\n",
       "      <td>0.1833</td>\n",
       "      <td>30.0833</td>\n",
       "      <td>3</td>\n",
       "      <td>Local Source</td>\n",
       "      <td>Subnational</td>\n",
       "      <td>Battle between Ugandan army and ADF rebels - 2...</td>\n",
       "      <td>2</td>\n",
       "      <td>1618581759</td>\n",
       "      <td>UGA</td>\n",
       "    </tr>\n",
       "    <tr>\n",
       "      <th>7774</th>\n",
       "      <td>6876122</td>\n",
       "      <td>800</td>\n",
       "      <td>UGA3</td>\n",
       "      <td>3</td>\n",
       "      <td>1997-01-07</td>\n",
       "      <td>1997</td>\n",
       "      <td>1</td>\n",
       "      <td>Battles</td>\n",
       "      <td>Armed clash</td>\n",
       "      <td>Military Forces of Uganda (1986-)</td>\n",
       "      <td>...</td>\n",
       "      <td>Nyabani</td>\n",
       "      <td>0.1358</td>\n",
       "      <td>30.3636</td>\n",
       "      <td>1</td>\n",
       "      <td>Local Source</td>\n",
       "      <td>Subnational</td>\n",
       "      <td>5 ADF rebels were killed when the Ugandan army...</td>\n",
       "      <td>5</td>\n",
       "      <td>1618581598</td>\n",
       "      <td>UGA</td>\n",
       "    </tr>\n",
       "    <tr>\n",
       "      <th>7775</th>\n",
       "      <td>6876154</td>\n",
       "      <td>800</td>\n",
       "      <td>UGA1</td>\n",
       "      <td>1</td>\n",
       "      <td>1997-01-01</td>\n",
       "      <td>1997</td>\n",
       "      <td>3</td>\n",
       "      <td>Battles</td>\n",
       "      <td>Armed clash</td>\n",
       "      <td>Military Forces of Uganda (1986-)</td>\n",
       "      <td>...</td>\n",
       "      <td>Gulu</td>\n",
       "      <td>2.7667</td>\n",
       "      <td>32.3056</td>\n",
       "      <td>3</td>\n",
       "      <td>Africa Research Bulletin</td>\n",
       "      <td>Other</td>\n",
       "      <td>Ugandan army battled with LRA rebels - 4 rebel...</td>\n",
       "      <td>4</td>\n",
       "      <td>1618581296</td>\n",
       "      <td>UGA</td>\n",
       "    </tr>\n",
       "    <tr>\n",
       "      <th>7776</th>\n",
       "      <td>6876155</td>\n",
       "      <td>800</td>\n",
       "      <td>UGA2</td>\n",
       "      <td>2</td>\n",
       "      <td>1997-01-01</td>\n",
       "      <td>1997</td>\n",
       "      <td>3</td>\n",
       "      <td>Battles</td>\n",
       "      <td>Armed clash</td>\n",
       "      <td>Military Forces of Uganda (1986-)</td>\n",
       "      <td>...</td>\n",
       "      <td>Mityana</td>\n",
       "      <td>0.4015</td>\n",
       "      <td>32.0452</td>\n",
       "      <td>3</td>\n",
       "      <td>Africa Research Bulletin</td>\n",
       "      <td>Other</td>\n",
       "      <td>Over 20 rebel groups believed to belong to Dun...</td>\n",
       "      <td>5</td>\n",
       "      <td>1618581439</td>\n",
       "      <td>UGA</td>\n",
       "    </tr>\n",
       "  </tbody>\n",
       "</table>\n",
       "<p>5 rows × 31 columns</p>\n",
       "</div>"
      ],
      "text/plain": [
       "      data_id  iso event_id_cnty event_id_no_cnty  event_date  year  \\\n",
       "7772  6876098  800          UGA5                5  1997-01-11  1997   \n",
       "7773  6876117  800          UGA4                4  1997-01-08  1997   \n",
       "7774  6876122  800          UGA3                3  1997-01-07  1997   \n",
       "7775  6876154  800          UGA1                1  1997-01-01  1997   \n",
       "7776  6876155  800          UGA2                2  1997-01-01  1997   \n",
       "\n",
       "     time_precision                  event_type  \\\n",
       "7772              1  Violence against civilians   \n",
       "7773              1                     Battles   \n",
       "7774              1                     Battles   \n",
       "7775              3                     Battles   \n",
       "7776              3                     Battles   \n",
       "\n",
       "                      sub_event_type                             actor1  ...  \\\n",
       "7772  Abduction/forced disappearance         LRA: Lords Resistance Army  ...   \n",
       "7773                     Armed clash  Military Forces of Uganda (1986-)  ...   \n",
       "7774                     Armed clash  Military Forces of Uganda (1986-)  ...   \n",
       "7775                     Armed clash  Military Forces of Uganda (1986-)  ...   \n",
       "7776                     Armed clash  Military Forces of Uganda (1986-)  ...   \n",
       "\n",
       "        location latitude longitude geo_precision                    source  \\\n",
       "7772  Acholi-Bur   3.1258   32.9197             1            New York Times   \n",
       "7773      Kasese   0.1833   30.0833             3              Local Source   \n",
       "7774     Nyabani   0.1358   30.3636             1              Local Source   \n",
       "7775        Gulu   2.7667   32.3056             3  Africa Research Bulletin   \n",
       "7776     Mityana   0.4015   32.0452             3  Africa Research Bulletin   \n",
       "\n",
       "       source_scale                                              notes  \\\n",
       "7772  International  LRA abduct an unknown number of people taking ...   \n",
       "7773    Subnational  Battle between Ugandan army and ADF rebels - 2...   \n",
       "7774    Subnational  5 ADF rebels were killed when the Ugandan army...   \n",
       "7775          Other  Ugandan army battled with LRA rebels - 4 rebel...   \n",
       "7776          Other  Over 20 rebel groups believed to belong to Dun...   \n",
       "\n",
       "     fatalities   timestamp iso3  \n",
       "7772          0  1618581922  UGA  \n",
       "7773          2  1618581759  UGA  \n",
       "7774          5  1618581598  UGA  \n",
       "7775          4  1618581296  UGA  \n",
       "7776          5  1618581439  UGA  \n",
       "\n",
       "[5 rows x 31 columns]"
      ]
     },
     "execution_count": 8,
     "metadata": {},
     "output_type": "execute_result"
    }
   ],
   "source": [
    "#checking dataset\n",
    "uganda_conflict_df.tail()"
   ]
  },
  {
   "cell_type": "code",
   "execution_count": 9,
   "id": "213f7315",
   "metadata": {},
   "outputs": [
    {
     "name": "stdout",
     "output_type": "stream",
     "text": [
      "<class 'pandas.core.frame.DataFrame'>\n",
      "RangeIndex: 7777 entries, 0 to 7776\n",
      "Data columns (total 31 columns):\n",
      " #   Column            Non-Null Count  Dtype \n",
      "---  ------            --------------  ----- \n",
      " 0   data_id           7777 non-null   object\n",
      " 1   iso               7777 non-null   object\n",
      " 2   event_id_cnty     7777 non-null   object\n",
      " 3   event_id_no_cnty  7777 non-null   object\n",
      " 4   event_date        7777 non-null   object\n",
      " 5   year              7777 non-null   object\n",
      " 6   time_precision    7777 non-null   object\n",
      " 7   event_type        7777 non-null   object\n",
      " 8   sub_event_type    7777 non-null   object\n",
      " 9   actor1            7777 non-null   object\n",
      " 10  assoc_actor_1     7777 non-null   object\n",
      " 11  inter1            7777 non-null   object\n",
      " 12  actor2            7777 non-null   object\n",
      " 13  assoc_actor_2     7777 non-null   object\n",
      " 14  inter2            7777 non-null   object\n",
      " 15  interaction       7777 non-null   object\n",
      " 16  region            7777 non-null   object\n",
      " 17  country           7777 non-null   object\n",
      " 18  admin1            7777 non-null   object\n",
      " 19  admin2            7777 non-null   object\n",
      " 20  admin3            7777 non-null   object\n",
      " 21  location          7777 non-null   object\n",
      " 22  latitude          7777 non-null   object\n",
      " 23  longitude         7777 non-null   object\n",
      " 24  geo_precision     7777 non-null   object\n",
      " 25  source            7777 non-null   object\n",
      " 26  source_scale      7777 non-null   object\n",
      " 27  notes             7777 non-null   object\n",
      " 28  fatalities        7777 non-null   object\n",
      " 29  timestamp         7777 non-null   object\n",
      " 30  iso3              7777 non-null   object\n",
      "dtypes: object(31)\n",
      "memory usage: 1.8+ MB\n"
     ]
    }
   ],
   "source": [
    "#check data types\n",
    "uganda_conflict_df.info()"
   ]
  },
  {
   "cell_type": "code",
   "execution_count": 10,
   "id": "62a65bcc",
   "metadata": {},
   "outputs": [
    {
     "name": "stdout",
     "output_type": "stream",
     "text": [
      "   latitude\n",
      "0    0.8413\n",
      "1    3.2783\n",
      "2    0.3311\n",
      "3   -0.6047\n",
      "4   -1.3136\n",
      "   longitude\n",
      "0  32.493301\n",
      "1  32.886700\n",
      "2  32.574100\n",
      "3  30.648500\n",
      "4  29.679701\n",
      "   fatalities\n",
      "0         0.0\n",
      "1         0.0\n",
      "2         0.0\n",
      "3         0.0\n",
      "4         1.0\n",
      "<class 'pandas.core.frame.DataFrame'>\n",
      "RangeIndex: 7777 entries, 0 to 7776\n",
      "Data columns (total 31 columns):\n",
      " #   Column            Non-Null Count  Dtype  \n",
      "---  ------            --------------  -----  \n",
      " 0   data_id           7777 non-null   object \n",
      " 1   iso               7777 non-null   object \n",
      " 2   event_id_cnty     7777 non-null   object \n",
      " 3   event_id_no_cnty  7777 non-null   object \n",
      " 4   event_date        7777 non-null   object \n",
      " 5   year              7777 non-null   object \n",
      " 6   time_precision    7777 non-null   object \n",
      " 7   event_type        7777 non-null   object \n",
      " 8   sub_event_type    7777 non-null   object \n",
      " 9   actor1            7777 non-null   object \n",
      " 10  assoc_actor_1     7777 non-null   object \n",
      " 11  inter1            7777 non-null   object \n",
      " 12  actor2            7777 non-null   object \n",
      " 13  assoc_actor_2     7777 non-null   object \n",
      " 14  inter2            7777 non-null   object \n",
      " 15  interaction       7777 non-null   object \n",
      " 16  region            7777 non-null   object \n",
      " 17  country           7777 non-null   object \n",
      " 18  admin1            7777 non-null   object \n",
      " 19  admin2            7777 non-null   object \n",
      " 20  admin3            7777 non-null   object \n",
      " 21  location          7777 non-null   object \n",
      " 22  latitude          7777 non-null   float32\n",
      " 23  longitude         7777 non-null   float32\n",
      " 24  geo_precision     7777 non-null   object \n",
      " 25  source            7777 non-null   object \n",
      " 26  source_scale      7777 non-null   object \n",
      " 27  notes             7777 non-null   object \n",
      " 28  fatalities        7777 non-null   float32\n",
      " 29  timestamp         7777 non-null   object \n",
      " 30  iso3              7777 non-null   object \n",
      "dtypes: float32(3), object(28)\n",
      "memory usage: 1.8+ MB\n"
     ]
    }
   ],
   "source": [
    "#convert to number\n",
    "num_columns=['latitude', 'longitude', 'fatalities',]\n",
    "\n",
    "for col in num_columns:\n",
    "    uganda_conflict_df[[col]]=uganda_conflict_df[[col]].astype('float32')\n",
    "    #check\n",
    "    print(uganda_conflict_df[[col]].head())\n",
    "\n",
    "#check\n",
    "uganda_conflict_df.info()"
   ]
  },
  {
   "cell_type": "code",
   "execution_count": 11,
   "id": "28a7040f",
   "metadata": {},
   "outputs": [
    {
     "data": {
      "text/plain": [
       "7772   1997-01-11\n",
       "7773   1997-01-08\n",
       "7774   1997-01-07\n",
       "7775   1997-01-01\n",
       "7776   1997-01-01\n",
       "Name: event_date, dtype: datetime64[ns]"
      ]
     },
     "execution_count": 11,
     "metadata": {},
     "output_type": "execute_result"
    }
   ],
   "source": [
    "#convert to datetime\n",
    "uganda_conflict_df['event_date']=pd.to_datetime(uganda_conflict_df['event_date'])\n",
    "\n",
    "#check\n",
    "uganda_conflict_df['event_date'].tail()"
   ]
  },
  {
   "cell_type": "code",
   "execution_count": 12,
   "id": "e06fb17d",
   "metadata": {},
   "outputs": [
    {
     "name": "stdout",
     "output_type": "stream",
     "text": [
      "<class 'pandas.core.frame.DataFrame'>\n",
      "RangeIndex: 7777 entries, 0 to 7776\n",
      "Data columns (total 22 columns):\n",
      " #   Column          Non-Null Count  Dtype         \n",
      "---  ------          --------------  -----         \n",
      " 0   data_id         7777 non-null   object        \n",
      " 1   event_id_cnty   7777 non-null   object        \n",
      " 2   event_date      7777 non-null   datetime64[ns]\n",
      " 3   event_type      7777 non-null   object        \n",
      " 4   sub_event_type  7777 non-null   object        \n",
      " 5   actor1          7777 non-null   object        \n",
      " 6   assoc_actor_1   7777 non-null   object        \n",
      " 7   inter1          7777 non-null   object        \n",
      " 8   actor2          7777 non-null   object        \n",
      " 9   assoc_actor_2   7777 non-null   object        \n",
      " 10  inter2          7777 non-null   object        \n",
      " 11  interaction     7777 non-null   object        \n",
      " 12  admin1          7777 non-null   object        \n",
      " 13  admin2          7777 non-null   object        \n",
      " 14  admin3          7777 non-null   object        \n",
      " 15  location        7777 non-null   object        \n",
      " 16  latitude        7777 non-null   float32       \n",
      " 17  longitude       7777 non-null   float32       \n",
      " 18  source          7777 non-null   object        \n",
      " 19  source_scale    7777 non-null   object        \n",
      " 20  notes           7777 non-null   object        \n",
      " 21  fatalities      7777 non-null   float32       \n",
      "dtypes: datetime64[ns](1), float32(3), object(18)\n",
      "memory usage: 1.2+ MB\n"
     ]
    }
   ],
   "source": [
    "#drop irrelevant columns\n",
    "uganda_conflict_df=pd.DataFrame(uganda_conflict_df.drop(columns=['time_precision', 'event_id_no_cnty',\\\n",
    "                                                              'geo_precision','timestamp','year',\\\n",
    "                                                             'iso','iso3', 'region','country']))\n",
    "\n",
    "#check current columns\n",
    "uganda_conflict_df.info()"
   ]
  },
  {
   "cell_type": "code",
   "execution_count": 13,
   "id": "6866e61e",
   "metadata": {},
   "outputs": [
    {
     "name": "stdout",
     "output_type": "stream",
     "text": [
      "admin1 in the conflict dataset should be clean_adm1 in the water dataset, check with: Central\n",
      "admin2 in the conflict dataset should be clean_adm2 in the water dataset, check with: Luwero\n",
      "admin3 in the conflict dataset should be clean_adm3 in the water dataset, check with: Katikamu\n",
      "location in the conflict dataset should be clean_adm4 in the water dataset, check with: Luwero\n"
     ]
    }
   ],
   "source": [
    "#checking administrative levels match the water dataset\n",
    "print('admin1 in the conflict dataset should be clean_adm1 in the water dataset, check with:',uganda_conflict_df['admin1'].head(1)[0])\n",
    "print('admin2 in the conflict dataset should be clean_adm2 in the water dataset, check with:',uganda_conflict_df['admin2'].head(1)[0])\n",
    "print('admin3 in the conflict dataset should be clean_adm3 in the water dataset, check with:',uganda_conflict_df['admin3'].head(1)[0])\n",
    "print('location in the conflict dataset should be clean_adm4 in the water dataset, check with:',uganda_conflict_df['location'].head(1)[0])"
   ]
  },
  {
   "cell_type": "code",
   "execution_count": 14,
   "id": "12f7dafe",
   "metadata": {},
   "outputs": [],
   "source": [
    "#replacing column name to match other datasets\n",
    "uganda_conflict_df.rename(columns={'admin1': 'clean_adm1','admin2': 'clean_adm2','admin3': 'clean_adm3', 'location':'clean_adm4'}, inplace=True)"
   ]
  },
  {
   "cell_type": "code",
   "execution_count": 15,
   "id": "14c7374e",
   "metadata": {},
   "outputs": [
    {
     "name": "stdout",
     "output_type": "stream",
     "text": [
      "False False False\n"
     ]
    }
   ],
   "source": [
    "#checking null values and duplicated rows and columns\n",
    "print(uganda_conflict_df.isna().sum().sum()>0,\\\n",
    "      uganda_conflict_df.duplicated().sum()>0,\\\n",
    "      uganda_conflict_df.T.duplicated().sum()>0)"
   ]
  },
  {
   "cell_type": "code",
   "execution_count": 16,
   "id": "b48b70c9",
   "metadata": {},
   "outputs": [],
   "source": [
    "#export to cleaned dataset to csv\n",
    "uganda_conflict_df.to_csv(filepath + 'uganda_conflict_df_clean.csv')"
   ]
  }
 ],
 "metadata": {
  "kernelspec": {
   "display_name": "Python 3 (ipykernel)",
   "language": "python",
   "name": "python3"
  },
  "language_info": {
   "codemirror_mode": {
    "name": "ipython",
    "version": 3
   },
   "file_extension": ".py",
   "mimetype": "text/x-python",
   "name": "python",
   "nbconvert_exporter": "python",
   "pygments_lexer": "ipython3",
   "version": "3.9.12"
  },
  "toc": {
   "base_numbering": 1,
   "nav_menu": {},
   "number_sections": true,
   "sideBar": true,
   "skip_h1_title": false,
   "title_cell": "Table of Contents",
   "title_sidebar": "Contents",
   "toc_cell": false,
   "toc_position": {},
   "toc_section_display": true,
   "toc_window_display": false
  },
  "varInspector": {
   "cols": {
    "lenName": 16,
    "lenType": 16,
    "lenVar": 40
   },
   "kernels_config": {
    "python": {
     "delete_cmd_postfix": "",
     "delete_cmd_prefix": "del ",
     "library": "var_list.py",
     "varRefreshCmd": "print(var_dic_list())"
    },
    "r": {
     "delete_cmd_postfix": ") ",
     "delete_cmd_prefix": "rm(",
     "library": "var_list.r",
     "varRefreshCmd": "cat(var_dic_list()) "
    }
   },
   "types_to_exclude": [
    "module",
    "function",
    "builtin_function_or_method",
    "instance",
    "_Feature"
   ],
   "window_display": false
  }
 },
 "nbformat": 4,
 "nbformat_minor": 5
}
